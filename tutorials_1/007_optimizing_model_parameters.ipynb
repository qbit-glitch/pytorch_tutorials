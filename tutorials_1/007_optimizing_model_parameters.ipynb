{
 "cells": [
  {
   "cell_type": "markdown",
   "id": "bc835686",
   "metadata": {},
   "source": [
    "## Optimizing Model Parameters"
   ]
  },
  {
   "cell_type": "code",
   "execution_count": 1,
   "id": "b55201e7",
   "metadata": {},
   "outputs": [
    {
     "name": "stdout",
     "output_type": "stream",
     "text": [
      "Optimizing Model Parameters\n"
     ]
    }
   ],
   "source": [
    "print(\"Optimizing Model Parameters\")"
   ]
  },
  {
   "cell_type": "markdown",
   "id": "0cd6f2e0",
   "metadata": {},
   "source": [
    "### Pre-requisite Code\n"
   ]
  },
  {
   "cell_type": "code",
   "execution_count": 2,
   "id": "b2d7a8c4",
   "metadata": {},
   "outputs": [],
   "source": [
    "import torch\n",
    "from torch import nn\n",
    "from torch.utils.data import DataLoader\n",
    "from torchvision import datasets\n",
    "from torchvision.transforms import ToTensor\n"
   ]
  },
  {
   "cell_type": "code",
   "execution_count": 4,
   "id": "6207991b",
   "metadata": {},
   "outputs": [],
   "source": [
    "training_data = datasets.FashionMNIST(\n",
    "    root=\"data/\", download=True, train=True, transform=ToTensor(),\n",
    ")\n",
    "\n",
    "test_data = datasets.FashionMNIST(\n",
    "    root=\"data/\", download=True, train=False, transform=ToTensor(),\n",
    ")\n",
    "\n",
    "train_dataloader = DataLoader(training_data, batch_size=64)\n",
    "test_dataloader = DataLoader(test_data, batch_size = 64)"
   ]
  },
  {
   "cell_type": "code",
   "execution_count": 5,
   "id": "dbaa5126",
   "metadata": {},
   "outputs": [],
   "source": [
    "class NeuralNetwork(nn.Module):\n",
    "    def __init__(self):\n",
    "        super().__init__()\n",
    "        self.flatten = nn.Flatten()\n",
    "        self.linear_relu_stack = nn.Sequential(\n",
    "            nn.Linear(28*28, 512),\n",
    "            nn.ReLU(),\n",
    "            nn.Linear(512, 512),\n",
    "            nn.ReLU(),\n",
    "            nn.Linear(512, 10),\n",
    "        )\n",
    "\n",
    "    def forward(self, x):\n",
    "        x = self.flatten(x)\n",
    "        logits = self.linear_relu_stack(x)\n",
    "        return logits\n",
    "\n",
    "model = NeuralNetwork()"
   ]
  },
  {
   "cell_type": "markdown",
   "id": "7b1f5f5e",
   "metadata": {},
   "source": [
    "#### Hyperparameters\n",
    "\n",
    "Hyperparameters are adjustable parameters that let us control the model optimization process.\n",
    "\n",
    "- Epochs: the number of times to iterate over the dataset\n",
    "- Batch Size: the number of data samples propagated through the network before the parameters are updated.\n",
    "- Learning Rate: how much to update the model parameters at each batch/epoch. Smaller values yield slow learning speed, while large values may result in unpredictable behavious during training."
   ]
  },
  {
   "cell_type": "code",
   "execution_count": 6,
   "id": "bf4d7495",
   "metadata": {},
   "outputs": [],
   "source": [
    "learning_rate = 1e-3\n",
    "batch_size = 64\n",
    "epochs = 5"
   ]
  },
  {
   "cell_type": "markdown",
   "id": "fd5f31a5",
   "metadata": {},
   "source": [
    "## Optimization loop"
   ]
  },
  {
   "cell_type": "markdown",
   "id": "e7ed3d52",
   "metadata": {},
   "source": [
    "Each iteration of the optimization loop is called epoch.\n",
    "\n",
    "Each epoch consist of two main parts:\n",
    "- Train Loop : iterate over the training dataset and try to converge to optimal parameters.\n",
    "- The Validation/Test Loop: iterate over the test dataset to check if model performance is improving."
   ]
  },
  {
   "cell_type": "markdown",
   "id": "841c507e",
   "metadata": {},
   "source": [
    "#### Loss Function\n",
    "\n",
    "Loss function measures the degree of dissimilarity of obtained result to the target value, and it is the loss function that we want to minimize during training. To calculate the loss, we make a prediction using inputs of our given data sample and compare it against the true data label value.\n",
    "\n",
    "Common Loss functions:\n",
    "- nn.MSELoss (Mean Square Error)\n",
    "- nn.NLLLoss (Negative LogLiklihood)\n",
    "- nn.CrossEntropyLoss (combines nn.Softmax and nn.NLLLoss) -> normalize the logits and compute the prediction error."
   ]
  },
  {
   "cell_type": "code",
   "execution_count": 7,
   "id": "e0d1e8ef",
   "metadata": {},
   "outputs": [],
   "source": [
    "loss_fn = nn.CrossEntropyLoss()"
   ]
  },
  {
   "cell_type": "markdown",
   "id": "c0eac826",
   "metadata": {},
   "source": [
    "#### Optimizer\n",
    "\n",
    "Optimization is the process of adjusting the model parameters to reduce model error in each training step. Optimization algorithms defines how this process if performed.\n",
    "\n",
    "Inside the training loop optimization happens in three steps:\n",
    "- Call optimizer.zero_grad() to reset the gradients of model parameters. Gradients by default add up. To rpevent double-counting, we explicitly zero them at each iteration.\n",
    "\n",
    "- Backpropagate the prediction loss with a call to `loss.backward()`. Pytorch deposits the gradients of the loss wrt each parameter.\n",
    "\n",
    "- Once we have our gradients, we call optimizer.step() to adjust the parameters by the gradients collected in the backward pass."
   ]
  },
  {
   "cell_type": "code",
   "execution_count": 8,
   "id": "3b80e7be",
   "metadata": {},
   "outputs": [],
   "source": [
    "optimizer = torch.optim.SGD(model.parameters(), lr = learning_rate)"
   ]
  },
  {
   "cell_type": "markdown",
   "id": "7acba48b",
   "metadata": {},
   "source": [
    "## Full Implementation\n",
    "\n",
    "- train_loop : loops over the optimization code\n",
    "- test_loop : evaluates the model's performance against our test data"
   ]
  },
  {
   "cell_type": "code",
   "execution_count": 9,
   "id": "9ec08f09",
   "metadata": {},
   "outputs": [],
   "source": [
    "def train_loop(dataloader, model, loss_fn, optimizer):\n",
    "    size = len(dataloader.dataset)\n",
    "    model.train()   # important for batch normalization and dropout layers\n",
    "    for batch, (X,y) in enumerate(dataloader):\n",
    "        # Compute prediction and loss\n",
    "        pred = model(X)\n",
    "        loss = loss_fn(pred, y)\n",
    "\n",
    "        # Backpropagation\n",
    "        loss.backward()\n",
    "        optimizer.step()\n",
    "        optimizer.zero_grad()\n",
    "\n",
    "        if batch % 100 == 0:\n",
    "            loss, current = loss.item(), batch * batch_size + len(X)\n",
    "            print(f\"Loss: {loss:>7f} [{current:>5d}/{size:>5d}]\")"
   ]
  },
  {
   "cell_type": "code",
   "execution_count": 10,
   "id": "d959748a",
   "metadata": {},
   "outputs": [],
   "source": [
    "def test_loop(dataloader, model, loss_fn):\n",
    "    model.eval()    # Set the model to evaluation mode: important for batch normalization and dropout layers\n",
    "    size = len(dataloader.dataset)\n",
    "    num_batches = len(dataloader)\n",
    "    test_loss, correct = 0,0\n",
    "\n",
    "    # Evaluating the model with torch.no_grad() ensures that no gradients are computed during test mode\n",
    "    # also serves to reduce unnecessary gradient computations and memory usage for tensors with requires_grad=True\n",
    "    with torch.no_grad():\n",
    "        for X,y in dataloader:\n",
    "            pred = model(X)\n",
    "            test_loss += loss_fn(pred, y)\n",
    "            correct += (pred.argmax(1) == y).type(torch.float).sum().item()\n",
    "\n",
    "    test_loss /= num_batches\n",
    "    correct /= size\n",
    "    print(f\"Test Error: \\n Accuracy: {(100 * correct):>0.1f}%, Avg loss: {test_loss:>8f}\\n\")"
   ]
  },
  {
   "cell_type": "code",
   "execution_count": 11,
   "id": "76985e1c",
   "metadata": {},
   "outputs": [
    {
     "name": "stdout",
     "output_type": "stream",
     "text": [
      "Epoch 1 \n",
      "---------------------------\n",
      "Loss: 2.293435 [   64/60000]\n",
      "Loss: 2.277121 [ 6464/60000]\n",
      "Loss: 2.254801 [12864/60000]\n",
      "Loss: 2.255815 [19264/60000]\n",
      "Loss: 2.228968 [25664/60000]\n",
      "Loss: 2.201147 [32064/60000]\n",
      "Loss: 2.207932 [38464/60000]\n",
      "Loss: 2.169936 [44864/60000]\n",
      "Loss: 2.171769 [51264/60000]\n",
      "Loss: 2.118714 [57664/60000]\n",
      "Test Error: \n",
      " Accuracy: 37.5%, Avg loss: 2.122446\n",
      "\n",
      "Epoch 2 \n",
      "---------------------------\n",
      "Loss: 2.147232 [   64/60000]\n",
      "Loss: 2.127120 [ 6464/60000]\n",
      "Loss: 2.062356 [12864/60000]\n",
      "Loss: 2.078024 [19264/60000]\n",
      "Loss: 2.018129 [25664/60000]\n",
      "Loss: 1.962888 [32064/60000]\n",
      "Loss: 1.977720 [38464/60000]\n",
      "Loss: 1.901686 [44864/60000]\n",
      "Loss: 1.912248 [51264/60000]\n",
      "Loss: 1.799344 [57664/60000]\n",
      "Test Error: \n",
      " Accuracy: 56.6%, Avg loss: 1.821400\n",
      "\n",
      "Epoch 3 \n",
      "---------------------------\n",
      "Loss: 1.880958 [   64/60000]\n",
      "Loss: 1.832691 [ 6464/60000]\n",
      "Loss: 1.713471 [12864/60000]\n",
      "Loss: 1.743969 [19264/60000]\n",
      "Loss: 1.630108 [25664/60000]\n",
      "Loss: 1.603620 [32064/60000]\n",
      "Loss: 1.598930 [38464/60000]\n",
      "Loss: 1.517024 [44864/60000]\n",
      "Loss: 1.546198 [51264/60000]\n",
      "Loss: 1.413083 [57664/60000]\n",
      "Test Error: \n",
      " Accuracy: 60.9%, Avg loss: 1.452711\n",
      "\n",
      "Epoch 4 \n",
      "---------------------------\n",
      "Loss: 1.543936 [   64/60000]\n",
      "Loss: 1.494176 [ 6464/60000]\n",
      "Loss: 1.346177 [12864/60000]\n",
      "Loss: 1.411418 [19264/60000]\n",
      "Loss: 1.289554 [25664/60000]\n",
      "Loss: 1.309537 [32064/60000]\n",
      "Loss: 1.305321 [38464/60000]\n",
      "Loss: 1.239453 [44864/60000]\n",
      "Loss: 1.281243 [51264/60000]\n",
      "Loss: 1.173136 [57664/60000]\n",
      "Test Error: \n",
      " Accuracy: 63.5%, Avg loss: 1.205134\n",
      "\n",
      "Epoch 5 \n",
      "---------------------------\n",
      "Loss: 1.298499 [   64/60000]\n",
      "Loss: 1.268311 [ 6464/60000]\n",
      "Loss: 1.103259 [12864/60000]\n",
      "Loss: 1.209018 [19264/60000]\n",
      "Loss: 1.077958 [25664/60000]\n",
      "Loss: 1.123247 [32064/60000]\n",
      "Loss: 1.133886 [38464/60000]\n",
      "Loss: 1.072796 [44864/60000]\n",
      "Loss: 1.119692 [51264/60000]\n",
      "Loss: 1.034644 [57664/60000]\n",
      "Test Error: \n",
      " Accuracy: 65.0%, Avg loss: 1.056680\n",
      "\n",
      "Epoch 6 \n",
      "---------------------------\n",
      "Loss: 1.138904 [   64/60000]\n",
      "Loss: 1.130856 [ 6464/60000]\n",
      "Loss: 0.949189 [12864/60000]\n",
      "Loss: 1.086051 [19264/60000]\n",
      "Loss: 0.953825 [25664/60000]\n",
      "Loss: 1.001659 [32064/60000]\n",
      "Loss: 1.030948 [38464/60000]\n",
      "Loss: 0.968838 [44864/60000]\n",
      "Loss: 1.014869 [51264/60000]\n",
      "Loss: 0.947695 [57664/60000]\n",
      "Test Error: \n",
      " Accuracy: 66.0%, Avg loss: 0.962193\n",
      "\n",
      "Epoch 7 \n",
      "---------------------------\n",
      "Loss: 1.029135 [   64/60000]\n",
      "Loss: 1.042425 [ 6464/60000]\n",
      "Loss: 0.844636 [12864/60000]\n",
      "Loss: 1.003962 [19264/60000]\n",
      "Loss: 0.877140 [25664/60000]\n",
      "Loss: 0.916134 [32064/60000]\n",
      "Loss: 0.963715 [38464/60000]\n",
      "Loss: 0.901163 [44864/60000]\n",
      "Loss: 0.941308 [51264/60000]\n",
      "Loss: 0.888094 [57664/60000]\n",
      "Test Error: \n",
      " Accuracy: 67.2%, Avg loss: 0.897130\n",
      "\n",
      "Epoch 8 \n",
      "---------------------------\n",
      "Loss: 0.947655 [   64/60000]\n",
      "Loss: 0.980125 [ 6464/60000]\n",
      "Loss: 0.769155 [12864/60000]\n",
      "Loss: 0.944620 [19264/60000]\n",
      "Loss: 0.826313 [25664/60000]\n",
      "Loss: 0.852917 [32064/60000]\n",
      "Loss: 0.915294 [38464/60000]\n",
      "Loss: 0.855099 [44864/60000]\n",
      "Loss: 0.886824 [51264/60000]\n",
      "Loss: 0.843869 [57664/60000]\n",
      "Test Error: \n",
      " Accuracy: 68.6%, Avg loss: 0.849336\n",
      "\n",
      "Epoch 9 \n",
      "---------------------------\n",
      "Loss: 0.884144 [   64/60000]\n",
      "Loss: 0.932577 [ 6464/60000]\n",
      "Loss: 0.712080 [12864/60000]\n",
      "Loss: 0.899552 [19264/60000]\n",
      "Loss: 0.789969 [25664/60000]\n",
      "Loss: 0.804566 [32064/60000]\n",
      "Loss: 0.877630 [38464/60000]\n",
      "Loss: 0.822097 [44864/60000]\n",
      "Loss: 0.845087 [51264/60000]\n",
      "Loss: 0.809003 [57664/60000]\n",
      "Test Error: \n",
      " Accuracy: 69.7%, Avg loss: 0.812337\n",
      "\n",
      "Epoch 10 \n",
      "---------------------------\n",
      "Loss: 0.832628 [   64/60000]\n",
      "Loss: 0.893979 [ 6464/60000]\n",
      "Loss: 0.667194 [12864/60000]\n",
      "Loss: 0.864071 [19264/60000]\n",
      "Loss: 0.762143 [25664/60000]\n",
      "Loss: 0.766734 [32064/60000]\n",
      "Loss: 0.846163 [38464/60000]\n",
      "Loss: 0.797295 [44864/60000]\n",
      "Loss: 0.812077 [51264/60000]\n",
      "Loss: 0.780158 [57664/60000]\n",
      "Test Error: \n",
      " Accuracy: 71.0%, Avg loss: 0.782346\n",
      "\n",
      "Done!\n"
     ]
    }
   ],
   "source": [
    "loss_fn = nn.CrossEntropyLoss()\n",
    "optimizer = torch.optim.SGD(model.parameters(), lr=learning_rate)\n",
    "\n",
    "epochs = 10\n",
    "for t in range(epochs):\n",
    "    print(f\"Epoch {t+1} \\n---------------------------\")\n",
    "    train_loop(train_dataloader, model, loss_fn, optimizer)\n",
    "    test_loop(test_dataloader, model, loss_fn)\n",
    "print(\"Done!\")"
   ]
  },
  {
   "cell_type": "code",
   "execution_count": null,
   "id": "53903af5",
   "metadata": {},
   "outputs": [],
   "source": []
  }
 ],
 "metadata": {
  "kernelspec": {
   "display_name": "venv1",
   "language": "python",
   "name": "python3"
  },
  "language_info": {
   "codemirror_mode": {
    "name": "ipython",
    "version": 3
   },
   "file_extension": ".py",
   "mimetype": "text/x-python",
   "name": "python",
   "nbconvert_exporter": "python",
   "pygments_lexer": "ipython3",
   "version": "3.13.5"
  }
 },
 "nbformat": 4,
 "nbformat_minor": 5
}
