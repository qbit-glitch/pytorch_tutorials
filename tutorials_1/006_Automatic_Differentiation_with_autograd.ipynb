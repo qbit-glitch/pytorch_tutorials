{
 "cells": [
  {
   "cell_type": "markdown",
   "id": "07f6af54",
   "metadata": {},
   "source": [
    "# Automatic Differentiation with `torch.autograd`\n",
    "\n",
    "**** Very Important"
   ]
  },
  {
   "cell_type": "code",
   "execution_count": 1,
   "id": "3b25dfa0",
   "metadata": {},
   "outputs": [
    {
     "name": "stdout",
     "output_type": "stream",
     "text": [
      "Automatic Differentiation with torch.autograd()\n"
     ]
    }
   ],
   "source": [
    "print(\"Automatic Differentiation with torch.autograd()\")"
   ]
  },
  {
   "cell_type": "code",
   "execution_count": 2,
   "id": "069107ec",
   "metadata": {},
   "outputs": [],
   "source": [
    "import torch\n"
   ]
  },
  {
   "cell_type": "code",
   "execution_count": 6,
   "id": "30c80714",
   "metadata": {},
   "outputs": [
    {
     "name": "stdout",
     "output_type": "stream",
     "text": [
      "tensor([1., 1., 1., 1., 1.]) \n",
      " tensor([0., 0., 0.]) \n",
      " tensor([[ 0.1166, -0.8524, -0.0466],\n",
      "        [ 0.3575, -0.0199,  1.2706],\n",
      "        [ 0.7350,  1.6097,  0.2307],\n",
      "        [-0.2324, -0.4027, -1.5891],\n",
      "        [-0.4959, -0.3405,  0.9123]], requires_grad=True) \n",
      " tensor([ 1.2327, -0.8374, -0.6333], requires_grad=True)\n",
      "tensor([ 1.7134, -0.8432,  0.1445], grad_fn=<AddBackward0>)\n",
      "tensor(1.0017, grad_fn=<BinaryCrossEntropyWithLogitsBackward0>)\n"
     ]
    }
   ],
   "source": [
    "x = torch.ones(5)\n",
    "y = torch.zeros(3)\n",
    "\n",
    "w = torch.randn(5,3, requires_grad=True)\n",
    "b = torch.randn(3, requires_grad=True)\n",
    "\n",
    "z = torch.matmul(x,w) + b\n",
    "loss = torch.nn.functional.binary_cross_entropy_with_logits(z,y)\n",
    "\n",
    "print(x, \"\\n\", y, \"\\n\", w, \"\\n\", b)\n",
    "\n",
    "print(z)\n",
    "print(loss)"
   ]
  },
  {
   "cell_type": "markdown",
   "id": "2939a569",
   "metadata": {},
   "source": [
    "#### Tensors, Functions and Computational Graph\n"
   ]
  },
  {
   "cell_type": "code",
   "execution_count": 7,
   "id": "fce77433",
   "metadata": {},
   "outputs": [
    {
     "name": "stdout",
     "output_type": "stream",
     "text": [
      "Gradient function for z = <AddBackward0 object at 0x11af53c70>\n",
      "Gradient function for loss = <BinaryCrossEntropyWithLogitsBackward0 object at 0x11af534c0>\n"
     ]
    }
   ],
   "source": [
    "print(f\"Gradient function for z = {z.grad_fn}\")\n",
    "print(f\"Gradient function for loss = {loss.grad_fn}\")"
   ]
  },
  {
   "cell_type": "markdown",
   "id": "f070b6eb",
   "metadata": {},
   "source": [
    "#### Computing Gradients"
   ]
  },
  {
   "cell_type": "code",
   "execution_count": 8,
   "id": "baacba5c",
   "metadata": {},
   "outputs": [
    {
     "name": "stdout",
     "output_type": "stream",
     "text": [
      "tensor([[0.2824, 0.1003, 0.1787],\n",
      "        [0.2824, 0.1003, 0.1787],\n",
      "        [0.2824, 0.1003, 0.1787],\n",
      "        [0.2824, 0.1003, 0.1787],\n",
      "        [0.2824, 0.1003, 0.1787]])\n",
      "tensor([0.2824, 0.1003, 0.1787])\n",
      "tensor(1.0017, grad_fn=<BinaryCrossEntropyWithLogitsBackward0>)\n"
     ]
    }
   ],
   "source": [
    "loss.backward()\n",
    "print(w.grad)\n",
    "print(b.grad)\n",
    "print(loss)"
   ]
  },
  {
   "cell_type": "markdown",
   "id": "897e5d6f",
   "metadata": {},
   "source": [
    "#### Disabling Gradient Tracking"
   ]
  },
  {
   "cell_type": "code",
   "execution_count": 9,
   "id": "246d7458",
   "metadata": {},
   "outputs": [
    {
     "name": "stdout",
     "output_type": "stream",
     "text": [
      "tensor([ 1.7134, -0.8432,  0.1445], grad_fn=<AddBackward0>)\n",
      "tensor([ 1.7134, -0.8432,  0.1445])\n"
     ]
    }
   ],
   "source": [
    "z = torch.matmul(x,w) + b\n",
    "print(z)\n",
    "\n",
    "with torch.no_grad():\n",
    "    z = torch.matmul(x,w) + b\n",
    "print(z)"
   ]
  },
  {
   "cell_type": "markdown",
   "id": "9c245136",
   "metadata": {},
   "source": [
    "Another way to achieve this is using `detach()` method on the tensor. "
   ]
  },
  {
   "cell_type": "code",
   "execution_count": 10,
   "id": "ee887db6",
   "metadata": {},
   "outputs": [
    {
     "name": "stdout",
     "output_type": "stream",
     "text": [
      "tensor([ 1.7134, -0.8432,  0.1445])\n",
      "False\n"
     ]
    }
   ],
   "source": [
    "z = torch.matmul(x,w) + b\n",
    "z_det = z.detach()\n",
    "print(z_det)\n",
    "print(z_det.requires_grad)"
   ]
  },
  {
   "cell_type": "markdown",
   "id": "ae64e2f9",
   "metadata": {},
   "source": [
    "Reasons you might want to diable gradient tracking :\n",
    "- To mark some parameters in your neural network as frozen parameters\n",
    "- To speed up computations when you are only doing forward pass, because computations on tensors that do not track gradients would be more efficient."
   ]
  },
  {
   "cell_type": "markdown",
   "id": "cc74cf7d",
   "metadata": {},
   "source": [
    "#### More on Computational Graphs\n",
    "\n",
    "autograd keeps a record of data(tensors) and all executed operations(along with the result new tensors) in a Directed Acyclic Graph (DAG) consisting of `Functions` objects.\n",
    "\n",
    "In the forward pass, autograd does two things simultaneously:\n",
    "- run the requested operation to compute a resulting tensor\n",
    "- maintain the operation's gradient function in the DAG\n",
    "\n",
    "The backward pass kicks off when `.backward()` is called on the DAG root. autograd then:\n",
    "- computes the gradients from each `.grad_fn`\n",
    "- accumulates them in the respective tensor's `.grad` attribute\n",
    "- using the chain rule, propagrates all the way to the lead tensors\n",
    "\n",
    "NOTE: DAGs are dynamic in PyTorch An important thing to note is that the graph is recreated from scratch; after each .backward() call, autograd starts populating a new graph. This is exactly what allows you to use control flow statements in your model; you can change the shape, size and operations at every iteration if needed.\n",
    "\n"
   ]
  },
  {
   "cell_type": "markdown",
   "id": "69db1b4e",
   "metadata": {},
   "source": [
    "#### Tensor Gradients and Jacobian Products"
   ]
  },
  {
   "cell_type": "code",
   "execution_count": 12,
   "id": "b38136db",
   "metadata": {},
   "outputs": [
    {
     "name": "stdout",
     "output_type": "stream",
     "text": [
      "tensor([[1., 0., 0., 0., 0.],\n",
      "        [0., 1., 0., 0., 0.],\n",
      "        [0., 0., 1., 0., 0.],\n",
      "        [0., 0., 0., 1., 0.]], requires_grad=True) \n",
      " tensor([[4., 1., 1., 1.],\n",
      "        [1., 4., 1., 1.],\n",
      "        [1., 1., 4., 1.],\n",
      "        [1., 1., 1., 4.],\n",
      "        [1., 1., 1., 1.]], grad_fn=<TBackward0>)\n",
      "First call\n",
      "tensor([[4., 2., 2., 2., 2.],\n",
      "        [2., 4., 2., 2., 2.],\n",
      "        [2., 2., 4., 2., 2.],\n",
      "        [2., 2., 2., 4., 2.]])\n",
      "Second call\n",
      "tensor([[8., 4., 4., 4., 4.],\n",
      "        [4., 8., 4., 4., 4.],\n",
      "        [4., 4., 8., 4., 4.],\n",
      "        [4., 4., 4., 8., 4.]])\n",
      "\n",
      "Call after zeroing gradients\n",
      "tensor([[4., 2., 2., 2., 2.],\n",
      "        [2., 4., 2., 2., 2.],\n",
      "        [2., 2., 4., 2., 2.],\n",
      "        [2., 2., 2., 4., 2.]])\n"
     ]
    }
   ],
   "source": [
    "inp = torch.eye(4,5, requires_grad=True)\n",
    "out = (inp+1).pow(2).t()\n",
    "\n",
    "print(inp, \"\\n\", out)\n",
    "\n",
    "out.backward(torch.ones_like(out), retain_graph=True)\n",
    "print(f\"First call\\n{inp.grad}\")\n",
    "\n",
    "out.backward(torch.ones_like(out), retain_graph=True)\n",
    "print(f\"Second call\\n{inp.grad}\")\n",
    "\n",
    "inp.grad.zero_()\n",
    "out.backward(torch.ones_like(out), retain_graph=True)\n",
    "print(f\"\\nCall after zeroing gradients\\n{inp.grad}\")"
   ]
  },
  {
   "cell_type": "code",
   "execution_count": null,
   "id": "37d40d7c",
   "metadata": {},
   "outputs": [],
   "source": []
  }
 ],
 "metadata": {
  "kernelspec": {
   "display_name": "venv1",
   "language": "python",
   "name": "python3"
  },
  "language_info": {
   "codemirror_mode": {
    "name": "ipython",
    "version": 3
   },
   "file_extension": ".py",
   "mimetype": "text/x-python",
   "name": "python",
   "nbconvert_exporter": "python",
   "pygments_lexer": "ipython3",
   "version": "3.13.5"
  }
 },
 "nbformat": 4,
 "nbformat_minor": 5
}
