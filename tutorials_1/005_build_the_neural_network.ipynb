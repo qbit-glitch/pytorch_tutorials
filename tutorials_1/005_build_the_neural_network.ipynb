{
 "cells": [
  {
   "cell_type": "markdown",
   "id": "47c4689b",
   "metadata": {},
   "source": [
    "# Build the Neural Network"
   ]
  },
  {
   "cell_type": "code",
   "execution_count": 1,
   "id": "d83d93f5",
   "metadata": {},
   "outputs": [
    {
     "name": "stdout",
     "output_type": "stream",
     "text": [
      "Building our First Neural Network\n"
     ]
    }
   ],
   "source": [
    "print(\"Building our First Neural Network\")"
   ]
  },
  {
   "cell_type": "markdown",
   "id": "7c187d8a",
   "metadata": {},
   "source": [
    "A neural network is a module itself that consists of other modules(layers). Every modules in Pytorch subclasses the `nn.Module`."
   ]
  },
  {
   "cell_type": "code",
   "execution_count": 2,
   "id": "e51ac110",
   "metadata": {},
   "outputs": [],
   "source": [
    "import os\n",
    "import torch\n",
    "from torch import nn\n",
    "from torch.utils.data import DataLoader\n",
    "from torchvision import datasets, transforms"
   ]
  },
  {
   "cell_type": "code",
   "execution_count": 3,
   "id": "4a16894b",
   "metadata": {},
   "outputs": [
    {
     "name": "stdout",
     "output_type": "stream",
     "text": [
      "Using mps device\n"
     ]
    }
   ],
   "source": [
    "# Set the accelerator for training the model\n",
    "device = torch.accelerator.current_accelerator() if torch.accelerator.is_available() else \"cpu\"\n",
    "print(f\"Using {device} device\")"
   ]
  },
  {
   "cell_type": "markdown",
   "id": "321dad07",
   "metadata": {},
   "source": [
    "- Define the neural network by subclassing nn.Module and initialize the neural network layers in the `__init__`. \n",
    "\n",
    "- Every nn.Module subclass implements the operations on input data in the forward method."
   ]
  },
  {
   "cell_type": "code",
   "execution_count": 6,
   "id": "e1fab170",
   "metadata": {},
   "outputs": [],
   "source": [
    "class NeuralNetwork(nn.Module):\n",
    "    def __init__(self):\n",
    "        super().__init__()\n",
    "        self.flatten = nn.Flatten()\n",
    "        self.linear_relu_stack = nn.Sequential(\n",
    "            nn.Linear(28 * 28, 512),\n",
    "            nn.ReLU(),\n",
    "            nn.Linear(512,512),\n",
    "            nn.ReLU(),\n",
    "            nn.Linear(512, 10),\n",
    "        )\n",
    "\n",
    "    def forward(self, x):\n",
    "        x = self.flatten(x)\n",
    "        logits = self.linear_relu_stack(x)\n",
    "        return logits"
   ]
  },
  {
   "cell_type": "markdown",
   "id": "ed99892a",
   "metadata": {},
   "source": [
    "Create an instance of the NeuralNetwork and move it to the device and print it's structure"
   ]
  },
  {
   "cell_type": "code",
   "execution_count": 7,
   "id": "5395fc01",
   "metadata": {},
   "outputs": [
    {
     "name": "stdout",
     "output_type": "stream",
     "text": [
      "NeuralNetwork(\n",
      "  (flatten): Flatten(start_dim=1, end_dim=-1)\n",
      "  (linear_relu_stack): Sequential(\n",
      "    (0): Linear(in_features=784, out_features=512, bias=True)\n",
      "    (1): ReLU()\n",
      "    (2): Linear(in_features=512, out_features=512, bias=True)\n",
      "    (3): ReLU()\n",
      "    (4): Linear(in_features=512, out_features=10, bias=True)\n",
      "  )\n",
      ")\n"
     ]
    }
   ],
   "source": [
    "model = NeuralNetwork().to(device)\n",
    "print(model)"
   ]
  },
  {
   "cell_type": "markdown",
   "id": "7acc4b10",
   "metadata": {},
   "source": [
    "To use the model, we pass it the input data. This executes the model's forward along with some background operations. Do not call `model.forward()` directly!"
   ]
  },
  {
   "cell_type": "code",
   "execution_count": 11,
   "id": "e9904bc4",
   "metadata": {},
   "outputs": [
    {
     "name": "stdout",
     "output_type": "stream",
     "text": [
      "Predicted class: tensor([9], device='mps:0')\n"
     ]
    }
   ],
   "source": [
    "X = torch.rand(1,28,28, device=device)\n",
    "logits = model(X)\n",
    "pred_probab = nn.Softmax(dim=1)(logits)\n",
    "y_pred = pred_probab.argmax(1)\n",
    "print(f\"Predicted class: {y_pred}\")"
   ]
  },
  {
   "cell_type": "code",
   "execution_count": 12,
   "id": "78f0a660",
   "metadata": {},
   "outputs": [
    {
     "name": "stdout",
     "output_type": "stream",
     "text": [
      "torch.Size([3, 28, 28])\n"
     ]
    }
   ],
   "source": [
    "input_image = torch.rand(3,28,28)\n",
    "print(input_image.size())"
   ]
  },
  {
   "cell_type": "markdown",
   "id": "7bcf3317",
   "metadata": {},
   "source": [
    "#### nn.Flatten\n",
    "\n",
    "- initialize and use nn.Flatten layer to convert each d 28x28 image into a contiguous array of 784 pixel values."
   ]
  },
  {
   "cell_type": "code",
   "execution_count": 14,
   "id": "3b69314a",
   "metadata": {},
   "outputs": [
    {
     "name": "stdout",
     "output_type": "stream",
     "text": [
      "torch.Size([3, 784])\n"
     ]
    }
   ],
   "source": [
    "flatten = nn.Flatten()\n",
    "flat_image = flatten(input_image)\n",
    "print(flat_image.size())"
   ]
  },
  {
   "cell_type": "markdown",
   "id": "4745c9d4",
   "metadata": {},
   "source": [
    "#### nn.Linear\n",
    "\n",
    "nn.Linear, the linear layer is a module that applies a linear transformation on the input using it's stored weights and biases."
   ]
  },
  {
   "cell_type": "code",
   "execution_count": 19,
   "id": "c8788afa",
   "metadata": {},
   "outputs": [
    {
     "name": "stdout",
     "output_type": "stream",
     "text": [
      "torch.Size([3, 20])\n",
      "tensor([[ 0.1192,  0.0855, -0.6055, -0.1172, -0.0813, -0.1265, -0.4832, -0.1372,\n",
      "         -0.1229,  0.2470,  0.0089,  0.0384, -0.0981, -0.3041,  0.2871, -0.4814,\n",
      "         -0.4479, -0.0800, -0.1748, -0.1271],\n",
      "        [-0.2083,  0.1636, -0.7108, -0.1456,  0.1213, -0.3079, -0.0879, -0.2617,\n",
      "          0.0130,  0.1749, -0.2508,  0.2043, -0.1474, -0.3024,  0.5385, -0.2021,\n",
      "         -0.8868, -0.1065, -0.3374, -0.5472],\n",
      "        [ 0.0138, -0.1285, -0.7495, -0.2676,  0.1638,  0.1955, -0.2730,  0.0480,\n",
      "         -0.0216,  0.1833, -0.1482,  0.2012, -0.1058, -0.2655, -0.2031, -0.4648,\n",
      "         -0.5155, -0.2494, -0.2936, -0.1638]], grad_fn=<AddmmBackward0>)\n"
     ]
    }
   ],
   "source": [
    "layer1 = nn.Linear(in_features=28*28, out_features=20)\n",
    "hidden1 = layer1(flat_image)\n",
    "print(hidden1.size())\n",
    "print(hidden1)"
   ]
  },
  {
   "cell_type": "markdown",
   "id": "6dde69cb",
   "metadata": {},
   "source": [
    "#### nn.ReLU\n",
    "\n",
    "Non Linear activations are what create the complex mappings between the models inputs and outputs. They are applied after linear transformations to introduce non-linearity, helping neural networks learn a wide variety of phenomena."
   ]
  },
  {
   "cell_type": "code",
   "execution_count": 20,
   "id": "457a1354",
   "metadata": {},
   "outputs": [
    {
     "name": "stdout",
     "output_type": "stream",
     "text": [
      "Before ReLU: tensor([[ 0.1192,  0.0855, -0.6055, -0.1172, -0.0813, -0.1265, -0.4832, -0.1372,\n",
      "         -0.1229,  0.2470,  0.0089,  0.0384, -0.0981, -0.3041,  0.2871, -0.4814,\n",
      "         -0.4479, -0.0800, -0.1748, -0.1271],\n",
      "        [-0.2083,  0.1636, -0.7108, -0.1456,  0.1213, -0.3079, -0.0879, -0.2617,\n",
      "          0.0130,  0.1749, -0.2508,  0.2043, -0.1474, -0.3024,  0.5385, -0.2021,\n",
      "         -0.8868, -0.1065, -0.3374, -0.5472],\n",
      "        [ 0.0138, -0.1285, -0.7495, -0.2676,  0.1638,  0.1955, -0.2730,  0.0480,\n",
      "         -0.0216,  0.1833, -0.1482,  0.2012, -0.1058, -0.2655, -0.2031, -0.4648,\n",
      "         -0.5155, -0.2494, -0.2936, -0.1638]], grad_fn=<AddmmBackward0>)\n",
      "\n",
      "\n",
      "After ReLU: tensor([[0.1192, 0.0855, 0.0000, 0.0000, 0.0000, 0.0000, 0.0000, 0.0000, 0.0000,\n",
      "         0.2470, 0.0089, 0.0384, 0.0000, 0.0000, 0.2871, 0.0000, 0.0000, 0.0000,\n",
      "         0.0000, 0.0000],\n",
      "        [0.0000, 0.1636, 0.0000, 0.0000, 0.1213, 0.0000, 0.0000, 0.0000, 0.0130,\n",
      "         0.1749, 0.0000, 0.2043, 0.0000, 0.0000, 0.5385, 0.0000, 0.0000, 0.0000,\n",
      "         0.0000, 0.0000],\n",
      "        [0.0138, 0.0000, 0.0000, 0.0000, 0.1638, 0.1955, 0.0000, 0.0480, 0.0000,\n",
      "         0.1833, 0.0000, 0.2012, 0.0000, 0.0000, 0.0000, 0.0000, 0.0000, 0.0000,\n",
      "         0.0000, 0.0000]], grad_fn=<ReluBackward0>)\n"
     ]
    }
   ],
   "source": [
    "print(f\"Before ReLU: {hidden1}\\n\\n\")\n",
    "hidden1 = nn.ReLU()(hidden1)\n",
    "print(f\"After ReLU: {hidden1}\")"
   ]
  },
  {
   "cell_type": "markdown",
   "id": "efd52c16",
   "metadata": {},
   "source": [
    "#### nn.Sequential\n",
    "\n",
    "- nn.Sequential is an ordered container of modules. The data is passed through all the modules in the same order as defined. You can use sequential containers to put together a networks like `seq_modules`."
   ]
  },
  {
   "cell_type": "code",
   "execution_count": 23,
   "id": "485b6f76",
   "metadata": {},
   "outputs": [
    {
     "name": "stdout",
     "output_type": "stream",
     "text": [
      "tensor([[ 0.0814,  0.0685,  0.0060, -0.0571, -0.0558, -0.1367, -0.0659, -0.0836,\n",
      "         -0.1954,  0.1114],\n",
      "        [ 0.0119,  0.0637,  0.1038, -0.0762, -0.0494, -0.1387, -0.0118, -0.0727,\n",
      "         -0.1550,  0.0983],\n",
      "        [-0.0545, -0.0026,  0.1999, -0.1464, -0.0529, -0.1576, -0.1144, -0.1902,\n",
      "         -0.1344,  0.0993]], grad_fn=<AddmmBackward0>)\n",
      "torch.Size([3, 10])\n"
     ]
    }
   ],
   "source": [
    "seq_modules = nn.Sequential(\n",
    "    flatten,\n",
    "    layer1,\n",
    "    nn.ReLU(),\n",
    "    nn.Linear(20,10),\n",
    ")\n",
    "input_image = torch.rand(3,28,28)\n",
    "logits = seq_modules(input_image)\n",
    "print(logits)\n",
    "print(logits.shape)"
   ]
  },
  {
   "cell_type": "markdown",
   "id": "e6615608",
   "metadata": {},
   "source": [
    "#### nn.Softmax\n",
    "\n",
    "- last linear layer of the neural network return logits- raw values in (-infty, +infty) which are passes to the `nn.Softmax` module.\n",
    "- values are normalized between [0,1] representing the model's predicted probabilities for each class. \n",
    "- dim parameter indicates the dimension along which the values must sum to 1."
   ]
  },
  {
   "cell_type": "code",
   "execution_count": 24,
   "id": "19aae5e3",
   "metadata": {},
   "outputs": [
    {
     "name": "stdout",
     "output_type": "stream",
     "text": [
      "tensor([[0.1116, 0.1102, 0.1035, 0.0972, 0.0973, 0.0897, 0.0963, 0.0946, 0.0846,\n",
      "         0.1150],\n",
      "        [0.1031, 0.1086, 0.1130, 0.0944, 0.0970, 0.0887, 0.1007, 0.0948, 0.0873,\n",
      "         0.1124],\n",
      "        [0.0994, 0.1047, 0.1282, 0.0906, 0.0995, 0.0896, 0.0936, 0.0868, 0.0917,\n",
      "         0.1159]], grad_fn=<SoftmaxBackward0>)\n"
     ]
    }
   ],
   "source": [
    "softmax = nn.Softmax(dim=1)\n",
    "pred_probab = softmax(logits)\n",
    "print(pred_probab)"
   ]
  },
  {
   "cell_type": "markdown",
   "id": "01c989d6",
   "metadata": {},
   "source": [
    "#### Model Parameters\n",
    "\n",
    "Many layers inside a neural network are parameterized, i.e. have associated weights and biases that are optimized during training. Subclassing nn.Module automatically tracks all fields defined inside your model object, and makes all parameters accessible using your model’s parameters() or named_parameters() methods."
   ]
  },
  {
   "cell_type": "code",
   "execution_count": 25,
   "id": "d588493f",
   "metadata": {},
   "outputs": [
    {
     "name": "stdout",
     "output_type": "stream",
     "text": [
      "Module Structure: NeuralNetwork(\n",
      "  (flatten): Flatten(start_dim=1, end_dim=-1)\n",
      "  (linear_relu_stack): Sequential(\n",
      "    (0): Linear(in_features=784, out_features=512, bias=True)\n",
      "    (1): ReLU()\n",
      "    (2): Linear(in_features=512, out_features=512, bias=True)\n",
      "    (3): ReLU()\n",
      "    (4): Linear(in_features=512, out_features=10, bias=True)\n",
      "  )\n",
      ")\n",
      "\n",
      "\n",
      "Layer: linear_relu_stack.0.weight | Size: torch.Size([512, 784]) | Values: tensor([[ 0.0186,  0.0005, -0.0284,  ..., -0.0063, -0.0351,  0.0296],\n",
      "        [ 0.0214,  0.0002,  0.0188,  ...,  0.0092,  0.0205,  0.0267]],\n",
      "       device='mps:0', grad_fn=<SliceBackward0>)\n",
      " \n",
      "Layer: linear_relu_stack.0.bias | Size: torch.Size([512]) | Values: tensor([-0.0259,  0.0276], device='mps:0', grad_fn=<SliceBackward0>)\n",
      " \n",
      "Layer: linear_relu_stack.2.weight | Size: torch.Size([512, 512]) | Values: tensor([[ 0.0223,  0.0098, -0.0209,  ..., -0.0248, -0.0036, -0.0035],\n",
      "        [ 0.0225,  0.0022,  0.0355,  ...,  0.0186,  0.0116,  0.0373]],\n",
      "       device='mps:0', grad_fn=<SliceBackward0>)\n",
      " \n",
      "Layer: linear_relu_stack.2.bias | Size: torch.Size([512]) | Values: tensor([-0.0153, -0.0251], device='mps:0', grad_fn=<SliceBackward0>)\n",
      " \n",
      "Layer: linear_relu_stack.4.weight | Size: torch.Size([10, 512]) | Values: tensor([[ 0.0097, -0.0184,  0.0442,  ..., -0.0043, -0.0211, -0.0028],\n",
      "        [ 0.0171, -0.0416,  0.0025,  ..., -0.0357, -0.0005,  0.0007]],\n",
      "       device='mps:0', grad_fn=<SliceBackward0>)\n",
      " \n",
      "Layer: linear_relu_stack.4.bias | Size: torch.Size([10]) | Values: tensor([0.0219, 0.0169], device='mps:0', grad_fn=<SliceBackward0>)\n",
      " \n"
     ]
    }
   ],
   "source": [
    "print(f\"Module Structure: {model}\\n\\n\")\n",
    "\n",
    "for name, param in model.named_parameters():\n",
    "    print(f\"Layer: {name} | Size: {param.size()} | Values: {param[:2]}\\n \")"
   ]
  },
  {
   "cell_type": "code",
   "execution_count": null,
   "id": "7773d0fe",
   "metadata": {},
   "outputs": [],
   "source": []
  }
 ],
 "metadata": {
  "kernelspec": {
   "display_name": "venv1",
   "language": "python",
   "name": "python3"
  },
  "language_info": {
   "codemirror_mode": {
    "name": "ipython",
    "version": 3
   },
   "file_extension": ".py",
   "mimetype": "text/x-python",
   "name": "python",
   "nbconvert_exporter": "python",
   "pygments_lexer": "ipython3",
   "version": "3.13.5"
  }
 },
 "nbformat": 4,
 "nbformat_minor": 5
}
