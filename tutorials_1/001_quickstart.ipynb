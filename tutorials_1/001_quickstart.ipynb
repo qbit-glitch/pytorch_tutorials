{
 "cells": [
  {
   "cell_type": "markdown",
   "id": "9e71e295",
   "metadata": {},
   "source": [
    "# QuickStart\n"
   ]
  },
  {
   "cell_type": "code",
   "execution_count": 1,
   "id": "e31debaa",
   "metadata": {},
   "outputs": [
    {
     "name": "stdout",
     "output_type": "stream",
     "text": [
      "Quickstart with Pytorch\n"
     ]
    }
   ],
   "source": [
    "print(\"Quickstart with Pytorch\")"
   ]
  },
  {
   "cell_type": "markdown",
   "id": "1ae9a2a6",
   "metadata": {},
   "source": [
    "## Working With Data"
   ]
  },
  {
   "cell_type": "code",
   "execution_count": 2,
   "id": "d98d0508",
   "metadata": {},
   "outputs": [],
   "source": [
    "import torch\n",
    "from torch import nn\n",
    "from torch.utils.data import DataLoader\n",
    "from torchvision import datasets\n",
    "from torchvision.transforms import ToTensor"
   ]
  },
  {
   "cell_type": "code",
   "execution_count": 3,
   "id": "80929538",
   "metadata": {},
   "outputs": [
    {
     "name": "stderr",
     "output_type": "stream",
     "text": [
      "100.0%\n",
      "100.0%\n",
      "100.0%\n",
      "100.0%\n"
     ]
    }
   ],
   "source": [
    "# Download training data from open datasets\n",
    "training_data = datasets.FashionMNIST(\n",
    "    root = \"data\", train=True, download = True, transform=ToTensor(),\n",
    ")\n",
    "\n",
    "# Download test data from open datasets\n",
    "test_data = datasets.FashionMNIST(\n",
    "    root = \"data\", train=False, download = True, transform=ToTensor(),\n",
    ")"
   ]
  },
  {
   "cell_type": "code",
   "execution_count": 13,
   "id": "7a3efb5a",
   "metadata": {},
   "outputs": [
    {
     "name": "stdout",
     "output_type": "stream",
     "text": [
      "Shape of X [N,C,H,W]: torch.Size([64, 1, 28, 28]) | Type: torch.float32\n",
      "Shape of y: torch.Size([64]) | Type: torch.int64\n"
     ]
    }
   ],
   "source": [
    "batch_size = 64\n",
    "\n",
    "# Create data loaders\n",
    "train_dataloader = DataLoader(training_data, batch_size=batch_size)\n",
    "test_dataloader = DataLoader(test_data, batch_size=batch_size)\n",
    "\n",
    "for X, y in test_dataloaders:\n",
    "    print(f\"Shape of X [N,C,H,W]: {X.shape} | Type: {X.dtype}\")\n",
    "    print(f\"Shape of y: {y.shape} | Type: {y.dtype}\")\n",
    "    break"
   ]
  },
  {
   "cell_type": "markdown",
   "id": "e063932a",
   "metadata": {},
   "source": [
    "## Creating Models"
   ]
  },
  {
   "cell_type": "markdown",
   "id": "db20eaae",
   "metadata": {},
   "source": [
    "- inherit from `nn.Module`\n",
    "- define layers in __init__ function\n",
    "- define how data will pass through the network in `forward` function.\n",
    "- move to the accelerator to accelerate the network."
   ]
  },
  {
   "cell_type": "code",
   "execution_count": 14,
   "id": "3fdc3c95",
   "metadata": {},
   "outputs": [
    {
     "name": "stdout",
     "output_type": "stream",
     "text": [
      "Using Device: mps\n"
     ]
    }
   ],
   "source": [
    "device = torch.accelerator.current_accelerator().type if torch.accelerator.is_available() else \"cpu\"\n",
    "print(f\"Using Device: {device}\")\n"
   ]
  },
  {
   "cell_type": "code",
   "execution_count": 15,
   "id": "66e70f70",
   "metadata": {},
   "outputs": [
    {
     "name": "stdout",
     "output_type": "stream",
     "text": [
      "NeuralNetwork(\n",
      "  (flatten): Flatten(start_dim=1, end_dim=-1)\n",
      "  (linear_relu_stack): Sequential(\n",
      "    (0): Linear(in_features=784, out_features=512, bias=True)\n",
      "    (1): ReLU()\n",
      "    (2): Linear(in_features=512, out_features=512, bias=True)\n",
      "    (3): ReLU()\n",
      "    (4): Linear(in_features=512, out_features=10, bias=True)\n",
      "  )\n",
      ")\n"
     ]
    }
   ],
   "source": [
    "# Define the model\n",
    "class NeuralNetwork(nn.Module):\n",
    "    def __init__(self):\n",
    "        super().__init__()\n",
    "        self.flatten = nn.Flatten()\n",
    "        self.linear_relu_stack = nn.Sequential(\n",
    "            nn.Linear(28*28, 512),\n",
    "            nn.ReLU(),\n",
    "            nn.Linear(512, 512),\n",
    "            nn.ReLU(),\n",
    "            nn.Linear(512, 10),\n",
    "        )\n",
    "\n",
    "    def forward(self, x):\n",
    "        x = self.flatten(x)\n",
    "        logits = self.linear_relu_stack(x)\n",
    "        return logits\n",
    "\n",
    "model = NeuralNetwork().to(device)\n",
    "print(model)"
   ]
  },
  {
   "cell_type": "markdown",
   "id": "244674a1",
   "metadata": {},
   "source": [
    "## Optimizing the Model Parameters\n"
   ]
  },
  {
   "cell_type": "markdown",
   "id": "7090f087",
   "metadata": {},
   "source": [
    "To train a model we need a Loss Function and an Optimizer"
   ]
  },
  {
   "cell_type": "markdown",
   "id": "fbeee284",
   "metadata": {},
   "source": [
    "Single training Loop:\n",
    "- model makes the prediction\n",
    "- backpropagates the prediction error to adjust the model's parameters"
   ]
  },
  {
   "cell_type": "code",
   "execution_count": 16,
   "id": "908c43be",
   "metadata": {},
   "outputs": [],
   "source": [
    "loss_fn = nn.CrossEntropyLoss()\n",
    "optimizer = torch.optim.SGD(model.parameters(), lr=1e-3)"
   ]
  },
  {
   "cell_type": "code",
   "execution_count": 20,
   "id": "b00f089f",
   "metadata": {},
   "outputs": [],
   "source": [
    "def train(dataloader, model, loss_fn, optimizer):\n",
    "    size = len(dataloader.dataset)\n",
    "    model.train()\n",
    "    for batch, (X, y) in enumerate(dataloader):\n",
    "        X, y = X.to(device), y.to(device)\n",
    "\n",
    "        # Compute prediction error\n",
    "        pred = model(X)\n",
    "        loss = loss_fn(pred, y)\n",
    "\n",
    "        # Backpropagation\n",
    "        loss.backward()\n",
    "        optimizer.step()\n",
    "        optimizer.zero_grad()\n",
    "\n",
    "        if batch % 100 == 0:\n",
    "            loss, current = loss.item(), (batch + 1) * len(X)\n",
    "            print(f\"Loss: {loss:>7f} [{current:>5d}/{size:>5d}]\")"
   ]
  },
  {
   "cell_type": "markdown",
   "id": "9613bb16",
   "metadata": {},
   "source": [
    "Check model's performance against test dataset"
   ]
  },
  {
   "cell_type": "code",
   "execution_count": 23,
   "id": "19d07c94",
   "metadata": {},
   "outputs": [],
   "source": [
    "def test(dataloader, model, loss_fn):\n",
    "    size = len(dataloader.dataset)\n",
    "    num_batches = len(dataloader)\n",
    "    model.eval()\n",
    "    test_loss, correct = 0,0\n",
    "    with torch.no_grad():\n",
    "        for X,y in dataloader:\n",
    "            X,y = X.to(device), y.to(device)\n",
    "            pred = model(X)\n",
    "            test_loss += loss_fn(pred, y).item()\n",
    "            correct += (pred.argmax(1) == y).type(torch.float).sum().item()\n",
    "\n",
    "    test_loss /= num_batches\n",
    "    correct /= size\n",
    "    print(f\"Test Error: \\n Accuracy: {(100*correct):>0.1f}%, Avg loss: {test_loss:>8f}\\n\")"
   ]
  },
  {
   "cell_type": "code",
   "execution_count": 25,
   "id": "992bf9d3",
   "metadata": {},
   "outputs": [
    {
     "name": "stdout",
     "output_type": "stream",
     "text": [
      "Epoch 1/n ---------------\n",
      "Loss: 1.042676 [   64/60000]\n",
      "Loss: 1.073318 [ 6464/60000]\n",
      "Loss: 0.870907 [12864/60000]\n",
      "Loss: 1.037434 [19264/60000]\n",
      "Loss: 0.914660 [25664/60000]\n",
      "Loss: 0.946474 [32064/60000]\n",
      "Loss: 0.990349 [38464/60000]\n",
      "Loss: 0.934532 [44864/60000]\n",
      "Loss: 0.971401 [51264/60000]\n",
      "Loss: 0.921574 [57664/60000]\n",
      "Test Error: \n",
      " Accuracy: 67.2%, Avg loss: 0.919987\n",
      "\n",
      "Epoch 2/n ---------------\n",
      "Loss: 0.952949 [   64/60000]\n",
      "Loss: 1.003248 [ 6464/60000]\n",
      "Loss: 0.787857 [12864/60000]\n",
      "Loss: 0.970303 [19264/60000]\n",
      "Loss: 0.850799 [25664/60000]\n",
      "Loss: 0.876605 [32064/60000]\n",
      "Loss: 0.932793 [38464/60000]\n",
      "Loss: 0.884055 [44864/60000]\n",
      "Loss: 0.912804 [51264/60000]\n",
      "Loss: 0.871720 [57664/60000]\n",
      "Test Error: \n",
      " Accuracy: 68.9%, Avg loss: 0.865320\n",
      "\n",
      "Epoch 3/n ---------------\n",
      "Loss: 0.883245 [   64/60000]\n",
      "Loss: 0.949898 [ 6464/60000]\n",
      "Loss: 0.725405 [12864/60000]\n",
      "Loss: 0.919511 [19264/60000]\n",
      "Loss: 0.805288 [25664/60000]\n",
      "Loss: 0.822940 [32064/60000]\n",
      "Loss: 0.888943 [38464/60000]\n",
      "Loss: 0.848641 [44864/60000]\n",
      "Loss: 0.868528 [51264/60000]\n",
      "Loss: 0.833273 [57664/60000]\n",
      "Test Error: \n",
      " Accuracy: 70.1%, Avg loss: 0.823755\n",
      "\n",
      "Epoch 4/n ---------------\n",
      "Loss: 0.827165 [   64/60000]\n",
      "Loss: 0.907091 [ 6464/60000]\n",
      "Loss: 0.676750 [12864/60000]\n",
      "Loss: 0.879663 [19264/60000]\n",
      "Loss: 0.771285 [25664/60000]\n",
      "Loss: 0.781091 [32064/60000]\n",
      "Loss: 0.853215 [38464/60000]\n",
      "Loss: 0.822635 [44864/60000]\n",
      "Loss: 0.833854 [51264/60000]\n",
      "Loss: 0.802366 [57664/60000]\n",
      "Test Error: \n",
      " Accuracy: 71.3%, Avg loss: 0.790820\n",
      "\n",
      "Epoch 5/n ---------------\n",
      "Loss: 0.781007 [   64/60000]\n",
      "Loss: 0.870950 [ 6464/60000]\n",
      "Loss: 0.637955 [12864/60000]\n",
      "Loss: 0.847496 [19264/60000]\n",
      "Loss: 0.744729 [25664/60000]\n",
      "Loss: 0.747896 [32064/60000]\n",
      "Loss: 0.822843 [38464/60000]\n",
      "Loss: 0.802489 [44864/60000]\n",
      "Loss: 0.805930 [51264/60000]\n",
      "Loss: 0.776357 [57664/60000]\n",
      "Test Error: \n",
      " Accuracy: 72.4%, Avg loss: 0.763714\n",
      "\n",
      "Epoch 6/n ---------------\n",
      "Loss: 0.742406 [   64/60000]\n",
      "Loss: 0.839512 [ 6464/60000]\n",
      "Loss: 0.606071 [12864/60000]\n",
      "Loss: 0.821240 [19264/60000]\n",
      "Loss: 0.723077 [25664/60000]\n",
      "Loss: 0.721214 [32064/60000]\n",
      "Loss: 0.796083 [38464/60000]\n",
      "Loss: 0.785895 [44864/60000]\n",
      "Loss: 0.782778 [51264/60000]\n",
      "Loss: 0.753790 [57664/60000]\n",
      "Test Error: \n",
      " Accuracy: 73.3%, Avg loss: 0.740618\n",
      "\n",
      "Epoch 7/n ---------------\n",
      "Loss: 0.709178 [   64/60000]\n",
      "Loss: 0.811633 [ 6464/60000]\n",
      "Loss: 0.579140 [12864/60000]\n",
      "Loss: 0.799175 [19264/60000]\n",
      "Loss: 0.704827 [25664/60000]\n",
      "Loss: 0.699314 [32064/60000]\n",
      "Loss: 0.771906 [38464/60000]\n",
      "Loss: 0.771551 [44864/60000]\n",
      "Loss: 0.762870 [51264/60000]\n",
      "Loss: 0.733707 [57664/60000]\n",
      "Test Error: \n",
      " Accuracy: 74.0%, Avg loss: 0.720363\n",
      "\n",
      "Epoch 8/n ---------------\n",
      "Loss: 0.680129 [   64/60000]\n",
      "Loss: 0.786374 [ 6464/60000]\n",
      "Loss: 0.555987 [12864/60000]\n",
      "Loss: 0.780189 [19264/60000]\n",
      "Loss: 0.689014 [25664/60000]\n",
      "Loss: 0.681090 [32064/60000]\n",
      "Loss: 0.749576 [38464/60000]\n",
      "Loss: 0.758633 [44864/60000]\n",
      "Loss: 0.745440 [51264/60000]\n",
      "Loss: 0.715493 [57664/60000]\n",
      "Test Error: \n",
      " Accuracy: 75.0%, Avg loss: 0.702245\n",
      "\n",
      "Epoch 9/n ---------------\n",
      "Loss: 0.654439 [   64/60000]\n",
      "Loss: 0.763358 [ 6464/60000]\n",
      "Loss: 0.535795 [12864/60000]\n",
      "Loss: 0.763533 [19264/60000]\n",
      "Loss: 0.675177 [25664/60000]\n",
      "Loss: 0.665683 [32064/60000]\n",
      "Loss: 0.728758 [38464/60000]\n",
      "Loss: 0.746768 [44864/60000]\n",
      "Loss: 0.730160 [51264/60000]\n",
      "Loss: 0.698943 [57664/60000]\n",
      "Test Error: \n",
      " Accuracy: 75.8%, Avg loss: 0.685861\n",
      "\n",
      "Epoch 10/n ---------------\n",
      "Loss: 0.631662 [   64/60000]\n",
      "Loss: 0.742334 [ 6464/60000]\n",
      "Loss: 0.517914 [12864/60000]\n",
      "Loss: 0.748623 [19264/60000]\n",
      "Loss: 0.662988 [25664/60000]\n",
      "Loss: 0.652503 [32064/60000]\n",
      "Loss: 0.709338 [38464/60000]\n",
      "Loss: 0.735776 [44864/60000]\n",
      "Loss: 0.716736 [51264/60000]\n",
      "Loss: 0.683662 [57664/60000]\n",
      "Test Error: \n",
      " Accuracy: 76.5%, Avg loss: 0.670940\n",
      "\n",
      "Epoch 11/n ---------------\n",
      "Loss: 0.611317 [   64/60000]\n",
      "Loss: 0.723154 [ 6464/60000]\n",
      "Loss: 0.502040 [12864/60000]\n",
      "Loss: 0.735231 [19264/60000]\n",
      "Loss: 0.652237 [25664/60000]\n",
      "Loss: 0.641097 [32064/60000]\n",
      "Loss: 0.691259 [38464/60000]\n",
      "Loss: 0.725779 [44864/60000]\n",
      "Loss: 0.704944 [51264/60000]\n",
      "Loss: 0.669461 [57664/60000]\n",
      "Test Error: \n",
      " Accuracy: 77.1%, Avg loss: 0.657287\n",
      "\n",
      "Epoch 12/n ---------------\n",
      "Loss: 0.593079 [   64/60000]\n",
      "Loss: 0.705627 [ 6464/60000]\n",
      "Loss: 0.487888 [12864/60000]\n",
      "Loss: 0.723081 [19264/60000]\n",
      "Loss: 0.642596 [25664/60000]\n",
      "Loss: 0.631252 [32064/60000]\n",
      "Loss: 0.674493 [38464/60000]\n",
      "Loss: 0.716806 [44864/60000]\n",
      "Loss: 0.694636 [51264/60000]\n",
      "Loss: 0.656302 [57664/60000]\n",
      "Test Error: \n",
      " Accuracy: 77.5%, Avg loss: 0.644766\n",
      "\n",
      "Epoch 13/n ---------------\n",
      "Loss: 0.576598 [   64/60000]\n",
      "Loss: 0.689568 [ 6464/60000]\n",
      "Loss: 0.475092 [12864/60000]\n",
      "Loss: 0.711944 [19264/60000]\n",
      "Loss: 0.633968 [25664/60000]\n",
      "Loss: 0.622691 [32064/60000]\n",
      "Loss: 0.658893 [38464/60000]\n",
      "Loss: 0.708753 [44864/60000]\n",
      "Loss: 0.685599 [51264/60000]\n",
      "Loss: 0.644029 [57664/60000]\n",
      "Test Error: \n",
      " Accuracy: 77.9%, Avg loss: 0.633251\n",
      "\n",
      "Epoch 14/n ---------------\n",
      "Loss: 0.561605 [   64/60000]\n",
      "Loss: 0.674802 [ 6464/60000]\n",
      "Loss: 0.463526 [12864/60000]\n",
      "Loss: 0.701605 [19264/60000]\n",
      "Loss: 0.626145 [25664/60000]\n",
      "Loss: 0.615112 [32064/60000]\n",
      "Loss: 0.644422 [38464/60000]\n",
      "Loss: 0.701601 [44864/60000]\n",
      "Loss: 0.677749 [51264/60000]\n",
      "Loss: 0.632528 [57664/60000]\n",
      "Test Error: \n",
      " Accuracy: 78.4%, Avg loss: 0.622647\n",
      "\n",
      "Epoch 15/n ---------------\n",
      "Loss: 0.548021 [   64/60000]\n",
      "Loss: 0.661290 [ 6464/60000]\n",
      "Loss: 0.452932 [12864/60000]\n",
      "Loss: 0.691922 [19264/60000]\n",
      "Loss: 0.619009 [25664/60000]\n",
      "Loss: 0.608220 [32064/60000]\n",
      "Loss: 0.630980 [38464/60000]\n",
      "Loss: 0.695522 [44864/60000]\n",
      "Loss: 0.671057 [51264/60000]\n",
      "Loss: 0.621685 [57664/60000]\n",
      "Test Error: \n",
      " Accuracy: 78.8%, Avg loss: 0.612897\n",
      "\n",
      "Epoch 16/n ---------------\n",
      "Loss: 0.535655 [   64/60000]\n",
      "Loss: 0.648947 [ 6464/60000]\n",
      "Loss: 0.443177 [12864/60000]\n",
      "Loss: 0.682765 [19264/60000]\n",
      "Loss: 0.612414 [25664/60000]\n",
      "Loss: 0.602057 [32064/60000]\n",
      "Loss: 0.618594 [38464/60000]\n",
      "Loss: 0.690353 [44864/60000]\n",
      "Loss: 0.665301 [51264/60000]\n",
      "Loss: 0.611451 [57664/60000]\n",
      "Test Error: \n",
      " Accuracy: 79.0%, Avg loss: 0.603914\n",
      "\n",
      "Epoch 17/n ---------------\n",
      "Loss: 0.524252 [   64/60000]\n",
      "Loss: 0.637714 [ 6464/60000]\n",
      "Loss: 0.434147 [12864/60000]\n",
      "Loss: 0.674108 [19264/60000]\n",
      "Loss: 0.606304 [25664/60000]\n",
      "Loss: 0.596386 [32064/60000]\n",
      "Loss: 0.607228 [38464/60000]\n",
      "Loss: 0.686049 [44864/60000]\n",
      "Loss: 0.660357 [51264/60000]\n",
      "Loss: 0.601770 [57664/60000]\n",
      "Test Error: \n",
      " Accuracy: 79.3%, Avg loss: 0.595623\n",
      "\n",
      "Epoch 18/n ---------------\n",
      "Loss: 0.513697 [   64/60000]\n",
      "Loss: 0.627337 [ 6464/60000]\n",
      "Loss: 0.425858 [12864/60000]\n",
      "Loss: 0.666001 [19264/60000]\n",
      "Loss: 0.600572 [25664/60000]\n",
      "Loss: 0.591114 [32064/60000]\n",
      "Loss: 0.596741 [38464/60000]\n",
      "Loss: 0.682440 [44864/60000]\n",
      "Loss: 0.656045 [51264/60000]\n",
      "Loss: 0.592470 [57664/60000]\n",
      "Test Error: \n",
      " Accuracy: 79.5%, Avg loss: 0.587960\n",
      "\n",
      "Epoch 19/n ---------------\n",
      "Loss: 0.503865 [   64/60000]\n",
      "Loss: 0.617729 [ 6464/60000]\n",
      "Loss: 0.418197 [12864/60000]\n",
      "Loss: 0.658380 [19264/60000]\n",
      "Loss: 0.595027 [25664/60000]\n",
      "Loss: 0.586187 [32064/60000]\n",
      "Loss: 0.587053 [38464/60000]\n",
      "Loss: 0.679547 [44864/60000]\n",
      "Loss: 0.652319 [51264/60000]\n",
      "Loss: 0.583517 [57664/60000]\n",
      "Test Error: \n",
      " Accuracy: 79.7%, Avg loss: 0.580855\n",
      "\n",
      "Epoch 20/n ---------------\n",
      "Loss: 0.494668 [   64/60000]\n",
      "Loss: 0.608812 [ 6464/60000]\n",
      "Loss: 0.411035 [12864/60000]\n",
      "Loss: 0.651202 [19264/60000]\n",
      "Loss: 0.589556 [25664/60000]\n",
      "Loss: 0.581480 [32064/60000]\n",
      "Loss: 0.578119 [38464/60000]\n",
      "Loss: 0.677267 [44864/60000]\n",
      "Loss: 0.649104 [51264/60000]\n",
      "Loss: 0.574916 [57664/60000]\n",
      "Test Error: \n",
      " Accuracy: 80.0%, Avg loss: 0.574247\n",
      "\n",
      "Done!\n"
     ]
    }
   ],
   "source": [
    "epochs = 20\n",
    "for t in range(epochs):\n",
    "    print(f\"Epoch {t+1}/n ---------------\")\n",
    "    train(train_dataloader, model, loss_fn, optimizer)\n",
    "    test(test_dataloader, model, loss_fn)\n",
    "\n",
    "print(\"Done!\")"
   ]
  },
  {
   "cell_type": "markdown",
   "id": "59060582",
   "metadata": {},
   "source": [
    "## Saving the Model"
   ]
  },
  {
   "cell_type": "code",
   "execution_count": 26,
   "id": "8a3500d9",
   "metadata": {},
   "outputs": [
    {
     "name": "stdout",
     "output_type": "stream",
     "text": [
      "Saved Pytorch Model State to  model.pth\n"
     ]
    }
   ],
   "source": [
    "torch.save(model.state_dict(), \"model.pth\")\n",
    "print(\"Saved Pytorch Model State to  model.pth\")"
   ]
  },
  {
   "cell_type": "markdown",
   "id": "c19ff486",
   "metadata": {},
   "source": [
    "## Loading Models"
   ]
  },
  {
   "cell_type": "code",
   "execution_count": 28,
   "id": "60e40da1",
   "metadata": {},
   "outputs": [
    {
     "data": {
      "text/plain": [
       "<All keys matched successfully>"
      ]
     },
     "execution_count": 28,
     "metadata": {},
     "output_type": "execute_result"
    }
   ],
   "source": [
    "model = NeuralNetwork().to(device)\n",
    "model.load_state_dict(torch.load(\"model.pth\", weights_only=True))"
   ]
  },
  {
   "cell_type": "code",
   "execution_count": 34,
   "id": "d147876c",
   "metadata": {},
   "outputs": [
    {
     "name": "stdout",
     "output_type": "stream",
     "text": [
      "Predicted: Ankle boot, Actual: Ankle boot\n"
     ]
    }
   ],
   "source": [
    "classes = [\n",
    "    \"T-shirt/top\", \"Trouser\", \"Pullover\", \"Dress\", \n",
    "    \"Coat\", \"Sandal\", \"Shirt\", \"Sneaker\", \"Bag\", \"Ankle boot\",\n",
    "]\n",
    "\n",
    "model.eval()\n",
    "x, y = test_data[0][0], test_data[0][1]\n",
    "with torch.no_grad():\n",
    "    x = x.to(device)\n",
    "    pred = model(x)\n",
    "    predicted, actual = classes[pred[0].argmax(0)], classes[y]\n",
    "    print(f\"Predicted: {predicted}, Actual: {actual}\")"
   ]
  },
  {
   "cell_type": "code",
   "execution_count": null,
   "id": "a1620719",
   "metadata": {},
   "outputs": [],
   "source": []
  }
 ],
 "metadata": {
  "kernelspec": {
   "display_name": "venv1",
   "language": "python",
   "name": "python3"
  },
  "language_info": {
   "codemirror_mode": {
    "name": "ipython",
    "version": 3
   },
   "file_extension": ".py",
   "mimetype": "text/x-python",
   "name": "python",
   "nbconvert_exporter": "python",
   "pygments_lexer": "ipython3",
   "version": "3.13.5"
  }
 },
 "nbformat": 4,
 "nbformat_minor": 5
}
