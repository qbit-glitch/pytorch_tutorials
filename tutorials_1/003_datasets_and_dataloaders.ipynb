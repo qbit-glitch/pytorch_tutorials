{
 "cells": [
  {
   "cell_type": "markdown",
   "id": "a0f44be3",
   "metadata": {},
   "source": [
    "# Datasets and DataLoaders"
   ]
  },
  {
   "cell_type": "code",
   "execution_count": 1,
   "id": "239ae4b9",
   "metadata": {},
   "outputs": [
    {
     "name": "stdout",
     "output_type": "stream",
     "text": [
      "Datasets and DataLoaders\n"
     ]
    }
   ],
   "source": [
    "print(\"Datasets and DataLoaders\")"
   ]
  },
  {
   "cell_type": "markdown",
   "id": "edfb0a4c",
   "metadata": {},
   "source": [
    "PyTorch provides two data primitives: `torch.utils.data.DataLoader` and `torch.utils.data.Dataset` that allow you to use pre-loaded datasets as well as your own data. `Dataset` stores the samples and their corresponding labels, and `DataLoader` wraps an iterable around the Dataset to enable easy access to the samples."
   ]
  },
  {
   "cell_type": "markdown",
   "id": "53923041",
   "metadata": {},
   "source": [
    "Fashion-MNIST is a dataset of Zalando's article images consisting of 60,000 training and 10000 test examples. Each image is a 28x28 grayscale image and has an assosciated label from one of 10 classes."
   ]
  },
  {
   "cell_type": "code",
   "execution_count": 3,
   "id": "52c3bc60",
   "metadata": {},
   "outputs": [
    {
     "name": "stderr",
     "output_type": "stream",
     "text": [
      "Matplotlib is building the font cache; this may take a moment.\n"
     ]
    }
   ],
   "source": [
    "import torch\n",
    "from torch.utils.data import Dataset\n",
    "from torchvision import datasets\n",
    "from torchvision.transforms import ToTensor\n",
    "import matplotlib.pyplot as plt\n"
   ]
  },
  {
   "cell_type": "code",
   "execution_count": 4,
   "id": "0ec4a3a9",
   "metadata": {},
   "outputs": [],
   "source": [
    "training_data = datasets.FashionMNIST(\n",
    "    root=\"data\", train=True, download=True, transform=ToTensor()\n",
    ")\n",
    "\n",
    "test_data = datasets.FashionMNIST(\n",
    "    root=\"data\", train=False, download=True, transform=ToTensor()\n",
    ")"
   ]
  },
  {
   "cell_type": "markdown",
   "id": "f4b26b6d",
   "metadata": {},
   "source": [
    "### Iterating and Visualizing the Dataset\n"
   ]
  },
  {
   "cell_type": "markdown",
   "id": "a18d9981",
   "metadata": {},
   "source": [
    "We can index Datasets manually like a list : `training_data[index]`."
   ]
  },
  {
   "cell_type": "code",
   "execution_count": 5,
   "id": "08f58dee",
   "metadata": {},
   "outputs": [
    {
     "data": {
      "image/png": "[encoded data removed]",
      "text/plain": [
       "<Figure size 800x800 with 9 Axes>"
      ]
     },
     "metadata": {},
     "output_type": "display_data"
    }
   ],
   "source": [
    "labels_map = {\n",
    "    0: \"T-Shirt\",\n",
    "    1: \"Trouser\",\n",
    "    2: \"Pullover\",\n",
    "    3: \"Dress\",\n",
    "    4: \"Coat\",\n",
    "    5: \"Sandal\",\n",
    "    6: \"Shirt\",\n",
    "    7: \"Sneaker\",\n",
    "    8: \"Bag\",\n",
    "    9: \"Ankle Boot\",\n",
    "}\n",
    "\n",
    "figure = plt.figure(figsize=(8,8))\n",
    "cols, rows = 3,3\n",
    "for i in range(1, cols * rows + 1):\n",
    "    sample_idx = torch.randint(len(training_data), size=(1,)).item()\n",
    "    img, label = training_data[sample_idx]\n",
    "    figure.add_subplot(rows, cols, i)\n",
    "    plt.title(labels_map[label])\n",
    "    plt.axis(\"off\")\n",
    "    plt.imshow(img.squeeze(), cmap=\"gray\")\n",
    "plt.show()\n",
    "\n"
   ]
  },
  {
   "cell_type": "markdown",
   "id": "cfe93ee1",
   "metadata": {},
   "source": [
    "## Creating a Custom Dataset for your Files"
   ]
  },
  {
   "cell_type": "markdown",
   "id": "fe68b66d",
   "metadata": {},
   "source": [
    "A custom dataset class must implement 3 functions:\n",
    "- `__init__`\n",
    "- `__len__`\n",
    "- `__getitem__`\n",
    "\n",
    "For FashionMNIST: \n",
    "- root_dir = img_dir, \n",
    "- labels are stored separately in a csv file (annotations_file)"
   ]
  },
  {
   "cell_type": "code",
   "execution_count": 7,
   "id": "7312874f",
   "metadata": {},
   "outputs": [],
   "source": [
    "import os\n",
    "import pandas as pd\n",
    "from torchvision.io import decode_image"
   ]
  },
  {
   "cell_type": "code",
   "execution_count": 8,
   "id": "e3dbaf4c",
   "metadata": {},
   "outputs": [],
   "source": [
    "class CustomImageDataset(Dataset):\n",
    "    def __init__(self, annotations_file, img_dir, transform=None, target_transform=None):\n",
    "        self.img_labels = pd.read_csv(annotations_file)\n",
    "        self.img_dir = img_dir\n",
    "        self.transform = transform\n",
    "        self.target_transform = target_transform\n",
    "\n",
    "    def __len__(self):\n",
    "        return len(self.img_labels)\n",
    "\n",
    "    def __getitem__():\n",
    "        img_path = os.path.join(self.img_dir, self.img_labels.iloc[idx,0])\n",
    "        image = decode_image(img_path)\n",
    "        label = self.img_labels.iloc[idx,1]\n",
    "        if self.transform:\n",
    "            image = self.transform(image)\n",
    "        if self.target_transform:\n",
    "            label = self.target_transform(label)\n",
    "        return image, label\n",
    "        "
   ]
  },
  {
   "cell_type": "markdown",
   "id": "90e01997",
   "metadata": {},
   "source": [
    "#### `__init__`\n",
    "\n",
    "- the __init__ function is run once when instantiating the Dataset object.\n"
   ]
  },
  {
   "cell_type": "markdown",
   "id": "e0f0e138",
   "metadata": {},
   "source": [
    "#### `__len__`\n",
    "\n",
    "- returns the number of samples in our dataset"
   ]
  },
  {
   "cell_type": "markdown",
   "id": "5c41ddd0",
   "metadata": {},
   "source": [
    "#### `__getitem__`\n",
    "\n",
    "- loads and returns a sample from the dataset at the given index idx.\n",
    "- based on the index :\n",
    "    - it identifies the image's location on disk,\n",
    "    - converts that to a tensor using decode_image,\n",
    "    - retrieves the corresponding label from the csv data in `self.img_labels`\n",
    "    - calls the transform functions on them (if applicable)\n",
    "    - returns the tensor image and corresponding label in a tuple"
   ]
  },
  {
   "cell_type": "markdown",
   "id": "240d78c6",
   "metadata": {},
   "source": [
    "## Preparing your data for training with DataLoaders\n",
    "\n",
    "The `Dataset` retrieves our dataset's features and labels one sample at a time. While training a model, we typically want to pass samples in \"minibatches\", reshuffle the data at every epoch to reduce model overfitting and use Python's multiprocessing to speed up data retrieval.\n",
    "\n",
    "`DataLoader` is a iterable that abstracts this complexity for us in an easy API."
   ]
  },
  {
   "cell_type": "code",
   "execution_count": 10,
   "id": "abaf0d8b",
   "metadata": {},
   "outputs": [],
   "source": [
    "from torch.utils.data import DataLoader\n",
    "\n",
    "train_dataloader = DataLoader(training_data, batch_size=64, shuffle=True)\n",
    "test_dataloader = DataLoader(test_data, batch_size=64, shuffle=True)"
   ]
  },
  {
   "cell_type": "markdown",
   "id": "5f059198",
   "metadata": {},
   "source": [
    "### Iterate through the DataLoader"
   ]
  },
  {
   "cell_type": "code",
   "execution_count": 13,
   "id": "9d32fc38",
   "metadata": {},
   "outputs": [
    {
     "name": "stdout",
     "output_type": "stream",
     "text": [
      "Feature batch shape: torch.Size([64, 1, 28, 28])\n",
      "Labels batch shape: torch.Size([64])\n"
     ]
    },
    {
     "data": {
      "image/png": "[encoded data removed]",
      "text/plain": [
       "<Figure size 640x480 with 1 Axes>"
      ]
     },
     "metadata": {},
     "output_type": "display_data"
    },
    {
     "name": "stdout",
     "output_type": "stream",
     "text": [
      "Label: 2\n"
     ]
    }
   ],
   "source": [
    "# Display image and label\n",
    "train_features, train_labels = next(iter(train_dataloader))\n",
    "print(f\"Feature batch shape: {train_features.size()}\")\n",
    "print(f\"Labels batch shape: {train_labels.size()}\")\n",
    "\n",
    "img = train_features[0].squeeze()\n",
    "label = train_labels[0]\n",
    "plt.imshow(img, cmap=\"gray\")\n",
    "plt.show()\n",
    "\n",
    "print(f\"Label: {label}\")"
   ]
  },
  {
   "cell_type": "code",
   "execution_count": null,
   "id": "f02b6c04",
   "metadata": {},
   "outputs": [],
   "source": []
  }
 ],
 "metadata": {
  "kernelspec": {
   "display_name": "venv1",
   "language": "python",
   "name": "python3"
  },
  "language_info": {
   "codemirror_mode": {
    "name": "ipython",
    "version": 3
   },
   "file_extension": ".py",
   "mimetype": "text/x-python",
   "name": "python",
   "nbconvert_exporter": "python",
   "pygments_lexer": "ipython3",
   "version": "3.13.5"
  }
 },
 "nbformat": 4,
 "nbformat_minor": 5
}
