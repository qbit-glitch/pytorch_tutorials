{
 "cells": [
  {
   "cell_type": "markdown",
   "id": "a26ee6fb",
   "metadata": {},
   "source": [
    "## Transforms"
   ]
  },
  {
   "cell_type": "markdown",
   "id": "4294bcf8",
   "metadata": {},
   "source": [
    "- use transforms for manipulation of the data and make it suitable for training.\n",
    "- torchvision datasets have 2 parameters:\n",
    "    - transform - to modify the features\n",
    "    - target_transform - to modify the labels\n",
    "    \n",
    "    accept callables containing the transformation logic."
   ]
  },
  {
   "cell_type": "markdown",
   "id": "a83cf22c",
   "metadata": {},
   "source": [
    "FashionMNIST dataset : \n",
    "- features in PIL Image format\n",
    "- labels in integers\n",
    "\n",
    "For training we need features as normalized tensors and the labels as one-hot encoded tensors. To make these transformations, we use `ToTensor` and `Lambda`"
   ]
  },
  {
   "cell_type": "code",
   "execution_count": 1,
   "id": "d88b8adc",
   "metadata": {},
   "outputs": [],
   "source": [
    "import torch\n",
    "from torchvision import datasets\n",
    "from torchvision.transforms import ToTensor, Lambda\n"
   ]
  },
  {
   "cell_type": "code",
   "execution_count": 2,
   "id": "523e0e93",
   "metadata": {},
   "outputs": [],
   "source": [
    "ds = datasets.FashionMNIST(\n",
    "    root = \"data\",\n",
    "    train = True,\n",
    "    download = True,\n",
    "    transform = ToTensor(),\n",
    "    target_transform = Lambda(lambda y: torch.zeros(10, dtype=torch.float).scatter_(0, torch.tensor(y), value=1))\n",
    ")"
   ]
  },
  {
   "cell_type": "markdown",
   "id": "987b28e1",
   "metadata": {},
   "source": [
    "### ToTensor()"
   ]
  },
  {
   "cell_type": "markdown",
   "id": "0da76ae0",
   "metadata": {},
   "source": [
    "ToTensor() converts a PIL Image or Numpy ndarray into `FloatTensor` and scales the image's pixel intensity values in the range [0.,1.].\n"
   ]
  },
  {
   "cell_type": "markdown",
   "id": "65cc778f",
   "metadata": {},
   "source": [
    "#### Lambda Transforms\n",
    "\n",
    "Lambda transforms apply user-defined lambda function. Here we define a function to turn the integer into a one-hot encoded tensor. It first creates a zero tensor of size 10 (the number of labels in our dataset) and calls scatter_ which assigns a value=1 on the index as given by the label y."
   ]
  },
  {
   "cell_type": "code",
   "execution_count": 4,
   "id": "f7a1c9f0",
   "metadata": {},
   "outputs": [],
   "source": [
    "target_transform = Lambda(lambda y: torch.zeros(10, dtype=torch.float).scatter_(dim=0, index=torch.tensor(y), value=1))"
   ]
  },
  {
   "cell_type": "code",
   "execution_count": null,
   "id": "0acb212b",
   "metadata": {},
   "outputs": [],
   "source": []
  }
 ],
 "metadata": {
  "kernelspec": {
   "display_name": "venv1",
   "language": "python",
   "name": "python3"
  },
  "language_info": {
   "codemirror_mode": {
    "name": "ipython",
    "version": 3
   },
   "file_extension": ".py",
   "mimetype": "text/x-python",
   "name": "python",
   "nbconvert_exporter": "python",
   "pygments_lexer": "ipython3",
   "version": "3.13.5"
  }
 },
 "nbformat": 4,
 "nbformat_minor": 5
}
