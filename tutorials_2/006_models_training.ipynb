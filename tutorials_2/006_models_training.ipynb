{
 "cells": [
  {
   "cell_type": "markdown",
   "id": "16df4f86",
   "metadata": {},
   "source": [
    "# Model Training"
   ]
  },
  {
   "cell_type": "markdown",
   "id": "b903acad",
   "metadata": {},
   "source": [
    "## Dataset and DataLoader"
   ]
  },
  {
   "cell_type": "markdown",
   "id": "d9670aa8",
   "metadata": {},
   "source": [
    "The Dataset and DataLoader classes encapsulate the process of pulling your data from storage and exposing it to your training loop in batches.\n",
    "\n",
    "The Dataset is responsible for accessing and processing single instances of data.\n",
    "\n",
    "The DataLoader pulls instances of data from the Dataset (either automatically or with a sampler that you define), collects them in batches, and returns them for consumption by your training loop. The DataLoader works with all kinds of datasets, regardless of the type of data they contain.\n",
    "\n",
    "We use torchvision.transforms.Normalize() to zero-center and normalize the distribution of the image tile content, and download both training and validation data splits.\n",
    "\n"
   ]
  },
  {
   "cell_type": "code",
   "execution_count": 1,
   "id": "bfbb9234",
   "metadata": {},
   "outputs": [
    {
     "name": "stdout",
     "output_type": "stream",
     "text": [
      "Training set has 60000 instances\n",
      "Validation set has 10000 instances\n"
     ]
    }
   ],
   "source": [
    "import torch\n",
    "import torchvision\n",
    "import torchvision.transforms as transforms\n",
    "\n",
    "# PyTorch TensorBoard support\n",
    "from torch.utils.tensorboard import SummaryWriter\n",
    "from datetime import datetime\n",
    "\n",
    "\n",
    "transform = transforms.Compose(\n",
    "    [transforms.ToTensor(),\n",
    "    transforms.Normalize((0.5,), (0.5,))])\n",
    "\n",
    "# Create datasets for training & validation, download if necessary\n",
    "training_set = torchvision.datasets.FashionMNIST('./data', train=True, transform=transform, download=True)\n",
    "validation_set = torchvision.datasets.FashionMNIST('./data', train=False, transform=transform, download=True)\n",
    "\n",
    "# Create data loaders for our datasets; shuffle for training, not for validation\n",
    "training_loader = torch.utils.data.DataLoader(training_set, batch_size=4, shuffle=True)\n",
    "validation_loader = torch.utils.data.DataLoader(validation_set, batch_size=4, shuffle=False)\n",
    "\n",
    "# Class labels\n",
    "classes = ('T-shirt/top', 'Trouser', 'Pullover', 'Dress', 'Coat',\n",
    "        'Sandal', 'Shirt', 'Sneaker', 'Bag', 'Ankle Boot')\n",
    "\n",
    "# Report split sizes\n",
    "print('Training set has {} instances'.format(len(training_set)))\n",
    "print('Validation set has {} instances'.format(len(validation_set)))"
   ]
  },
  {
   "cell_type": "code",
   "execution_count": 3,
   "id": "367214f1",
   "metadata": {},
   "outputs": [
    {
     "name": "stdout",
     "output_type": "stream",
     "text": [
      "Shirt Bag Shirt Coat\n"
     ]
    },
    {
     "data": {
      "image/png": "[encoded data removed]",
      "text/plain": [
       "<Figure size 640x480 with 1 Axes>"
      ]
     },
     "metadata": {},
     "output_type": "display_data"
    }
   ],
   "source": [
    "# Visualizing the data\n",
    "import matplotlib.pyplot as plt\n",
    "import numpy as np\n",
    "\n",
    "# Helper function for inline image display\n",
    "def matplotlib_imshow(img, one_channel=False):\n",
    "    if one_channel:\n",
    "        img = img.mean(dim=0)\n",
    "    img = img/2 + 0.5\n",
    "    npimg = img.numpy()\n",
    "    if one_channel:\n",
    "        plt.imshow(npimg, cmap=\"Greys\")\n",
    "    else:\n",
    "        plt.imshow(np.transpose(npimg, (1,2,0)))\n",
    "    \n",
    "dataiter = iter(training_loader)\n",
    "images, labels = next(dataiter)\n",
    "\n",
    "# create a grid from the images and show them\n",
    "img_grid = torchvision.utils.make_grid(images)\n",
    "matplotlib_imshow(img_grid, one_channel=True)\n",
    "print(' '.join(classes[labels[j]] for j in range(4)))"
   ]
  },
  {
   "cell_type": "markdown",
   "id": "4fae7255",
   "metadata": {},
   "source": [
    "## The Model"
   ]
  },
  {
   "cell_type": "code",
   "execution_count": 11,
   "id": "9194aa48",
   "metadata": {},
   "outputs": [],
   "source": [
    "import torch.nn as nn\n",
    "import torch.nn.functional as F\n",
    "\n",
    "# Pytorch models inherit from torch.nn.Module\n",
    "class GarmentClassifer(nn.Module):\n",
    "    def __init__(self):\n",
    "        super(GarmentClassifer, self).__init__()\n",
    "        self.conv1 = nn.Conv2d(1,6,3)\n",
    "        self.pool = nn.MaxPool2d(2,2)\n",
    "        self.conv2 = nn.Conv2d(6,16, 5)\n",
    "        self.fc1 = nn.Linear(16*4*4, 120)\n",
    "        self.fc2 = nn.Linear(120, 84)\n",
    "        self.fc3 = nn.Linear(84, 10)\n",
    "\n",
    "    def forward(self, x):\n",
    "        x = self.pool(F.relu(self.conv1(x)))\n",
    "        x = self.pool(F.relu(self.conv2(x)))\n",
    "        x = x.view(-1, 16*4*4)\n",
    "        x = F.relu(self.fc1(x))\n",
    "        x = F.relu(self.fc2(x))\n",
    "        x = self.fc3(x)\n",
    "        return x\n",
    "\n",
    "model = GarmentClassifer()"
   ]
  },
  {
   "cell_type": "markdown",
   "id": "39d677a4",
   "metadata": {},
   "source": [
    "## Loss Function"
   ]
  },
  {
   "cell_type": "code",
   "execution_count": 12,
   "id": "01202348",
   "metadata": {},
   "outputs": [
    {
     "name": "stdout",
     "output_type": "stream",
     "text": [
      "tensor([[0.3556, 0.9192, 0.7689, 0.9131, 0.2164, 0.2947, 0.2788, 0.5346, 0.4920,\n",
      "         0.3872],\n",
      "        [0.0855, 0.9061, 0.9003, 0.2267, 0.8943, 0.4355, 0.7913, 0.9441, 0.8491,\n",
      "         0.5884],\n",
      "        [0.2734, 0.5215, 0.5082, 0.2961, 0.8016, 0.9316, 0.4068, 0.1876, 0.1776,\n",
      "         0.0364],\n",
      "        [0.0199, 0.6402, 0.3897, 0.2563, 0.4374, 0.7078, 0.4785, 0.4819, 0.7710,\n",
      "         0.9050]])\n",
      "tensor([1, 5, 3, 7])\n",
      "Total Loss for this batch: 2.329662322998047\n"
     ]
    }
   ],
   "source": [
    "loss_fn = torch.nn.CrossEntropyLoss()\n",
    "\n",
    "# NB: Loss functions expect the data in batches, so we are creating batches of 4\n",
    "# Represents the model's confidence in each of the 10 classes for a given input\n",
    "dummy_outputs = torch.rand(4,10)\n",
    "# Represents the correct class among the 10 being tested\n",
    "dummy_labels = torch.tensor([1,5,3,7])\n",
    "\n",
    "print(dummy_outputs)\n",
    "print(dummy_labels)\n",
    "\n",
    "loss = loss_fn(dummy_outputs, dummy_labels)\n",
    "print('Total Loss for this batch: {}'.format(loss.item()))"
   ]
  },
  {
   "cell_type": "markdown",
   "id": "4d98f85b",
   "metadata": {},
   "source": [
    "## Optimizer\n",
    "\n",
    "- Learning rate determines the size of the steps the optimizer takes\n",
    "- Momentum nudges the optimizer in the direction of the strongest gradient over multiple steps.\n",
    "- Try some different optimization algorithms such as averaged SGD, Adagrad, Adam\n"
   ]
  },
  {
   "cell_type": "code",
   "execution_count": 13,
   "id": "b1464789",
   "metadata": {},
   "outputs": [],
   "source": [
    "# Optimizers specified in the torch.optim package\n",
    "optimizer = torch.optim.SGD(model.parameters(), lr=0.001, momentum=0.9)"
   ]
  },
  {
   "cell_type": "markdown",
   "id": "6d50e983",
   "metadata": {},
   "source": [
    "## The Training Loop"
   ]
  },
  {
   "cell_type": "markdown",
   "id": "221499f0",
   "metadata": {},
   "source": [
    " It enumerates data from the DataLoader, and on each pass of the loop does the following:\n",
    "\n",
    "- Gets a batch of training data from the DataLoader\n",
    "\n",
    "- Zeros the optimizer’s gradients\n",
    "\n",
    "- Performs an inference - that is, gets predictions from the model for an input batch\n",
    "\n",
    "- Calculates the loss for that set of predictions vs. the labels on the dataset\n",
    "\n",
    "- Calculates the backward gradients over the learning weights\n",
    "\n",
    "- Tells the optimizer to perform one learning step - that is, adjust the model’s learning weights based on the observed gradients for this batch, according to the optimization algorithm we chose\n",
    "\n",
    "- It reports on the loss for every 1000 batches.\n",
    "\n",
    "- Finally, it reports the average per-batch loss for the last 1000 batches, for comparison with a validation run"
   ]
  },
  {
   "cell_type": "code",
   "execution_count": 16,
   "id": "7dbd7b30",
   "metadata": {},
   "outputs": [],
   "source": [
    "def train_one_epoch(epoch_index, tb_writer):\n",
    "    running_loss = 0\n",
    "    last_loss = 0\n",
    "\n",
    "    for i, data in enumerate(training_loader):\n",
    "        inputs, labels = data\n",
    "        optimizer.zero_grad()\n",
    "        outputs = model(inputs)\n",
    "\n",
    "        # compute the loss and it's gradient\n",
    "        loss = loss_fn(outputs, labels)\n",
    "        loss.backward()\n",
    "\n",
    "        # Adjust learning weights\n",
    "        optimizer.step()\n",
    "\n",
    "        running_loss += loss.item()\n",
    "        if i%1000 == 999:\n",
    "            last_loss = running_loss / 1000     # loss per batch\n",
    "            print(' batch {} loss: {}'.format(i+1, last_loss))\n",
    "            tb_x = epoch_index * len(training_loader) + i + 1\n",
    "            tb_writer.add_scalar('Loss/train', last_loss, tb_x)\n",
    "            running_loss = 0\n",
    "        \n",
    "    return last_loss"
   ]
  },
  {
   "cell_type": "markdown",
   "id": "60a5c039",
   "metadata": {},
   "source": [
    "## Per-Epoch Activity\n",
    "\n",
    "- perform validation by checking our relative loss on a set of data that was not used for training and report this\n",
    "\n",
    "- save a copy of the model"
   ]
  },
  {
   "cell_type": "code",
   "execution_count": 18,
   "id": "3e179a77",
   "metadata": {},
   "outputs": [
    {
     "name": "stdout",
     "output_type": "stream",
     "text": [
      "EPOCH 1:\n",
      " batch 1000 loss: 0.4162347732186172\n",
      " batch 2000 loss: 0.396567293529748\n",
      " batch 3000 loss: 0.38364572353917176\n",
      " batch 4000 loss: 0.3821971240330604\n",
      " batch 5000 loss: 0.4049240105479257\n",
      " batch 6000 loss: 0.37119219710919427\n",
      " batch 7000 loss: 0.3655538364317326\n",
      " batch 8000 loss: 0.36531807727081467\n",
      " batch 9000 loss: 0.3554329101992407\n",
      " batch 10000 loss: 0.36840275773998293\n",
      " batch 11000 loss: 0.385828946279129\n",
      " batch 12000 loss: 0.37769150818089836\n",
      " batch 13000 loss: 0.3770883364690235\n",
      " batch 14000 loss: 0.35604417402122635\n",
      " batch 15000 loss: 0.35870866993500383\n",
      "Loss train 0.35870866993500383 valid 0.3817995488643646\n",
      "EPOCH 2:\n",
      " batch 1000 loss: 0.34877264730090973\n",
      " batch 2000 loss: 0.3457287328160601\n",
      " batch 3000 loss: 0.33760132688374145\n",
      " batch 4000 loss: 0.33484094184680724\n",
      " batch 5000 loss: 0.3353572844403243\n",
      " batch 6000 loss: 0.3454665229913662\n",
      " batch 7000 loss: 0.33355055543732304\n",
      " batch 8000 loss: 0.3310701325015543\n",
      " batch 9000 loss: 0.3336000036658006\n",
      " batch 10000 loss: 0.3241482089545243\n",
      " batch 11000 loss: 0.32699039758832077\n",
      " batch 12000 loss: 0.3300003444870526\n",
      " batch 13000 loss: 0.3400155857603095\n",
      " batch 14000 loss: 0.3024424655645853\n",
      " batch 15000 loss: 0.31948247296665794\n",
      "Loss train 0.31948247296665794 valid 0.34111931920051575\n",
      "EPOCH 3:\n",
      " batch 1000 loss: 0.3292037976515421\n",
      " batch 2000 loss: 0.28610520649628235\n",
      " batch 3000 loss: 0.30275322238792435\n",
      " batch 4000 loss: 0.32031927168099356\n",
      " batch 5000 loss: 0.30374349319332394\n",
      " batch 6000 loss: 0.30313770104594007\n",
      " batch 7000 loss: 0.3114059358359664\n",
      " batch 8000 loss: 0.30976462309969066\n",
      " batch 9000 loss: 0.29982467420765896\n",
      " batch 10000 loss: 0.2767808866605046\n",
      " batch 11000 loss: 0.297013617523422\n",
      " batch 12000 loss: 0.30534218418531234\n",
      " batch 13000 loss: 0.30892568073191795\n",
      " batch 14000 loss: 0.3012230989489617\n",
      " batch 15000 loss: 0.3052959328353172\n",
      "Loss train 0.3052959328353172 valid 0.3353455662727356\n",
      "EPOCH 4:\n",
      " batch 1000 loss: 0.27645557118086433\n",
      " batch 2000 loss: 0.29179115986716353\n",
      " batch 3000 loss: 0.2906918622815647\n",
      " batch 4000 loss: 0.27809312830092675\n",
      " batch 5000 loss: 0.29715052995591756\n",
      " batch 6000 loss: 0.26346558983559454\n",
      " batch 7000 loss: 0.2842287774075485\n",
      " batch 8000 loss: 0.2827711843694915\n",
      " batch 9000 loss: 0.2887893771313356\n",
      " batch 10000 loss: 0.2597854387444604\n",
      " batch 11000 loss: 0.2855141512064729\n",
      " batch 12000 loss: 0.3016743200440651\n",
      " batch 13000 loss: 0.27384553994161254\n",
      " batch 14000 loss: 0.2939058661778399\n",
      " batch 15000 loss: 0.3077876755661564\n",
      "Loss train 0.3077876755661564 valid 0.3284856677055359\n",
      "EPOCH 5:\n",
      " batch 1000 loss: 0.25956817497494195\n",
      " batch 2000 loss: 0.25438268008415615\n",
      " batch 3000 loss: 0.2791623913820222\n",
      " batch 4000 loss: 0.26558581459449854\n",
      " batch 5000 loss: 0.28180749773608793\n",
      " batch 6000 loss: 0.2767702029992652\n",
      " batch 7000 loss: 0.25995115564893057\n",
      " batch 8000 loss: 0.2848827680917129\n",
      " batch 9000 loss: 0.2592140297287406\n",
      " batch 10000 loss: 0.2872932584552036\n",
      " batch 11000 loss: 0.275866165986954\n",
      " batch 12000 loss: 0.26583549927861716\n",
      " batch 13000 loss: 0.26704406929354263\n",
      " batch 14000 loss: 0.2603911641953164\n",
      " batch 15000 loss: 0.267080487483654\n",
      "Loss train 0.267080487483654 valid 0.3122299909591675\n"
     ]
    }
   ],
   "source": [
    "timestamp = datetime.now().strftime('%Y%m%d_%H%M%S')\n",
    "writer = SummaryWriter('runs/fashion_trainer_{}'.format(timestamp))\n",
    "epoch_number = 0\n",
    "\n",
    "EPOCHS = 5\n",
    "\n",
    "best_vloss = 1_000_000\n",
    "\n",
    "for epoch in range(EPOCHS):\n",
    "    print(\"EPOCH {}:\".format(epoch_number+1))\n",
    "    # Make sure gradient tracking is on and do a pass over the data\n",
    "    model.train(True)\n",
    "    avg_loss = train_one_epoch(epoch_number, writer)\n",
    "\n",
    "    running_vloss = 0.0\n",
    "    # Set the model to evaluation mode, disabling dropout and \n",
    "    # using population statistics for batch normalization\n",
    "    model.eval()\n",
    "\n",
    "    # Disabling gradient computation and reduce memory consumption\n",
    "    with torch.no_grad():\n",
    "        for i,vdata in enumerate(validation_loader):\n",
    "            vinputs, vlabels = vdata\n",
    "            voutputs = model(vinputs)\n",
    "            vloss = loss_fn(voutputs, vlabels)\n",
    "            running_vloss += vloss\n",
    "\n",
    "    avg_vloss = running_vloss/(i+1)\n",
    "    print('Loss train {} valid {}'.format(avg_loss, avg_vloss))\n",
    "\n",
    "    # Log the running loss average per batch for training and validation\n",
    "    writer.add_scalars('Training vs Validation Loss', {'training': avg_loss, 'validation': avg_vloss}, epoch_number+1)\n",
    "    writer.flush()\n",
    "\n",
    "    # Track best performance and save the model's state\n",
    "    if avg_vloss < best_vloss:\n",
    "        best_vloss = avg_vloss\n",
    "        model_path = 'model_{}_{}'.format(timestamp, epoch_number)\n",
    "        torch.save(model.state_dict(), model_path)\n",
    "    epoch_number += 1"
   ]
  },
  {
   "cell_type": "code",
   "execution_count": null,
   "id": "32b1e760",
   "metadata": {},
   "outputs": [],
   "source": []
  },
  {
   "cell_type": "code",
   "execution_count": null,
   "id": "20123756",
   "metadata": {},
   "outputs": [],
   "source": []
  }
 ],
 "metadata": {
  "kernelspec": {
   "display_name": "venv1",
   "language": "python",
   "name": "python3"
  },
  "language_info": {
   "codemirror_mode": {
    "name": "ipython",
    "version": 3
   },
   "file_extension": ".py",
   "mimetype": "text/x-python",
   "name": "python",
   "nbconvert_exporter": "python",
   "pygments_lexer": "ipython3",
   "version": "3.13.5"
  }
 },
 "nbformat": 4,
 "nbformat_minor": 5
}
