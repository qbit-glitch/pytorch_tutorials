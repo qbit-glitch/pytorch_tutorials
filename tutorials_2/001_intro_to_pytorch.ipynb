{
 "cells": [
  {
   "cell_type": "markdown",
   "id": "179c0c7f",
   "metadata": {},
   "source": [
    "# Introduction to Pytorch"
   ]
  },
  {
   "cell_type": "code",
   "execution_count": 22,
   "id": "ec011f2f",
   "metadata": {},
   "outputs": [
    {
     "name": "stdout",
     "output_type": "stream",
     "text": [
      "Introduction to Pytorch - Pytorch Youtube series\n"
     ]
    }
   ],
   "source": [
    "print(\"Introduction to Pytorch - Pytorch Youtube series\")"
   ]
  },
  {
   "cell_type": "markdown",
   "id": "1bc3da3a",
   "metadata": {},
   "source": [
    "### Pytorch Tensors"
   ]
  },
  {
   "cell_type": "code",
   "execution_count": 23,
   "id": "e7cdbd62",
   "metadata": {},
   "outputs": [],
   "source": [
    "import torch\n",
    "import torch.nn as nn               # \n",
    "import torch.nn.functional as F     # for the activation function"
   ]
  },
  {
   "cell_type": "code",
   "execution_count": 24,
   "id": "6faed8c0",
   "metadata": {},
   "outputs": [],
   "source": [
    "class LeNet(nn.Module):\n",
    "    def __init__(self):\n",
    "        super(LeNet, self).__init__()\n",
    "        self.conv1 = nn.Conv2d(1,6,5)\n",
    "        self.conv2 = nn.Conv2d(6,16,5)\n",
    "\n",
    "        # affine operation: y = Wx + b\n",
    "        self.fc1 = nn.Linear(16 * 5 * 5, 120)   # 5*5 from image dimension\n",
    "        self.fc2 = nn.Linear(120, 84)\n",
    "        self.fc3 = nn.Linear(84, 10)\n",
    "\n",
    "    def forward(self, x):\n",
    "        x = F.max_pool2d(F.relu(self.conv1(x)), (2,2))\n",
    "        x = F.max_pool2d(F.relu(self.conv2(x)), 2)\n",
    "        x = x.view(-1, self.num_flat_features(x))\n",
    "        x = F.relu(self.fc1(x))\n",
    "        x = F.relu(self.fc2(x))\n",
    "        x = self.fc3(x)\n",
    "        return x\n",
    "\n",
    "    def num_flat_features(self, x):\n",
    "        size = x.size()[1:]\n",
    "        num_features = 1\n",
    "        for s in size:\n",
    "            num_features *= s\n",
    "        return num_features"
   ]
  },
  {
   "cell_type": "code",
   "execution_count": 25,
   "id": "f0825e4f",
   "metadata": {},
   "outputs": [
    {
     "name": "stdout",
     "output_type": "stream",
     "text": [
      "LeNet(\n",
      "  (conv1): Conv2d(1, 6, kernel_size=(5, 5), stride=(1, 1))\n",
      "  (conv2): Conv2d(6, 16, kernel_size=(5, 5), stride=(1, 1))\n",
      "  (fc1): Linear(in_features=400, out_features=120, bias=True)\n",
      "  (fc2): Linear(in_features=120, out_features=84, bias=True)\n",
      "  (fc3): Linear(in_features=84, out_features=10, bias=True)\n",
      ")\n",
      "\n",
      " Image Batch Shape: torch.Size([1, 1, 32, 32])\n",
      "\n",
      " Raw Output: tensor([[-0.0141, -0.0698, -0.1006,  0.1091, -0.0276, -0.0615, -0.0511,  0.0734,\n",
      "          0.0177, -0.0383]], grad_fn=<AddmmBackward0>) \n",
      "Shape: torch.Size([1, 10])\n"
     ]
    }
   ],
   "source": [
    "net = LeNet()\n",
    "print(net)\n",
    "\n",
    "input = torch.rand(1,1,32,32)\n",
    "print(f'\\n Image Batch Shape: {input.shape}')\n",
    "\n",
    "output = net(input)\n",
    "print(f\"\\n Raw Output: {output} \\nShape: {output.shape}\")\n"
   ]
  },
  {
   "cell_type": "markdown",
   "id": "26496ab5",
   "metadata": {},
   "source": [
    "## Datasets and DataLoaders"
   ]
  },
  {
   "cell_type": "code",
   "execution_count": 26,
   "id": "dedd93a3",
   "metadata": {},
   "outputs": [],
   "source": [
    "# matplotlib inline\n",
    "\n",
    "import torch\n",
    "import torchvision\n",
    "import torchvision.transforms as transforms\n",
    "\n",
    "transform = transforms.Compose(\n",
    "    [\n",
    "        transforms.ToTensor(),\n",
    "        transforms.Normalize((0.4914,0.4822,0.4465), (0.2470,0.2435,0.2616))\n",
    "    ]\n",
    ")"
   ]
  },
  {
   "cell_type": "code",
   "execution_count": 27,
   "id": "13d849ea",
   "metadata": {},
   "outputs": [
    {
     "name": "stdout",
     "output_type": "stream",
     "text": [
      "tensor([0.4914, 0.4822, 0.4465])\n"
     ]
    }
   ],
   "source": [
    "from torch.utils.data import ConcatDataset\n",
    "transform = transforms.Compose([transforms.ToTensor()])\n",
    "trainset = torchvision.datasets.CIFAR10(root=\"./data\", train=True,\n",
    "                    download=True, transform=transform)\n",
    "\n",
    "# Stack all train images together into a tensor of shape (50000, 3, 32, 32)\n",
    "x = torch.stack([sample[0] for sample in ConcatDataset([trainset])])\n",
    "\n",
    "# get the mean of each channels\n",
    "mean = torch.mean(x, dim=(0,2,3))   \n",
    "print(mean)\n",
    "\n",
    "std = torch.std(x, dim=(0,2,3))"
   ]
  },
  {
   "cell_type": "markdown",
   "id": "6bc9cb56",
   "metadata": {},
   "source": [
    "Once your dataset is ready, we can give it to the DataLoader"
   ]
  },
  {
   "cell_type": "code",
   "execution_count": 28,
   "id": "9efb88d5",
   "metadata": {},
   "outputs": [],
   "source": [
    "trainloader = torch.utils.data.DataLoader(trainset, batch_size=4, shuffle=True, num_workers=2)"
   ]
  },
  {
   "cell_type": "markdown",
   "id": "53de8027",
   "metadata": {},
   "source": [
    "A Dataset subclass wraps access to the data, and is specialized to the type of data it’s serving. The DataLoader knows nothing about the data, but organizes the input tensors served by the Dataset into batches with the parameters you specify."
   ]
  },
  {
   "cell_type": "code",
   "execution_count": 29,
   "id": "c2a11baa",
   "metadata": {},
   "outputs": [
    {
     "name": "stdout",
     "output_type": "stream",
     "text": [
      " bird  frog  frog  frog\n"
     ]
    },
    {
     "data": {
      "image/png": "[encoded data removed]",
      "text/plain": [
       "<Figure size 640x480 with 1 Axes>"
      ]
     },
     "metadata": {},
     "output_type": "display_data"
    }
   ],
   "source": [
    "import matplotlib.pyplot as plt\n",
    "import numpy as np\n",
    "\n",
    "classes = ('plane', 'car','bird','cat','deer','dog','frog','horse','ship','truck')\n",
    "\n",
    "def imshow(img):\n",
    "    img = img/2 + 0.5       # unnormalize\n",
    "    npimg = img.numpy()\n",
    "    plt.imshow(np.transpose(npimg, (1,2,0)))\n",
    "\n",
    "# get some random training images\n",
    "dataiter = iter(trainloader)\n",
    "images, labels = next(dataiter)\n",
    "\n",
    "# Show images\n",
    "imshow(torchvision.utils.make_grid(images))\n",
    "# print labels\n",
    "print(' '.join('%5s' %classes[labels[j]] for j in range(4)))"
   ]
  },
  {
   "cell_type": "markdown",
   "id": "b7499d6a",
   "metadata": {},
   "source": [
    "## Training our Pytorch Model"
   ]
  },
  {
   "cell_type": "code",
   "execution_count": 30,
   "id": "26beae6f",
   "metadata": {},
   "outputs": [],
   "source": [
    "import torch\n",
    "from torch import nn\n",
    "import torch.nn.functional as F\n",
    "import torch.optim as optim\n",
    "\n",
    "import torchvision\n",
    "import torchvision.transforms as transforms\n",
    "\n",
    "import matplotlib\n",
    "import matplotlib.pyplot as plt\n",
    "import numpy as np\n"
   ]
  },
  {
   "cell_type": "code",
   "execution_count": 31,
   "id": "3eb32435",
   "metadata": {},
   "outputs": [],
   "source": [
    "transform = transforms.Compose(\n",
    "    [\n",
    "        transforms.ToTensor(),\n",
    "        transforms.Normalize((0.5,0.5,0.5), (0.5,0.5,0.5))\n",
    "    ]\n",
    ")\n",
    "trainset = torchvision.datasets.CIFAR10(root=\"./data\", train=True,\n",
    "                download=True, transform=transform)\n",
    "\n",
    "trainloader = torch.utils.data.DataLoader(trainset, batch_size=4, shuffle=True, num_workers=2)\n",
    "\n",
    "testset = torchvision.datasets.CIFAR10(root=\"./data\", train=False, download=True, transform=transform)\n",
    "testloader = torch.utils.data.DataLoader(testset, batch_size=4,shuffle=False, num_workers=2)\n",
    "\n",
    "classes = ('plane','car','bird','cat','derr','dog','frog','horse','ship','truck')"
   ]
  },
  {
   "cell_type": "code",
   "execution_count": 32,
   "id": "8533d97a",
   "metadata": {},
   "outputs": [
    {
     "name": "stdout",
     "output_type": "stream",
     "text": [
      " derr plane horse  frog\n"
     ]
    },
    {
     "data": {
      "image/png": "[encoded data removed]",
      "text/plain": [
       "<Figure size 640x480 with 1 Axes>"
      ]
     },
     "metadata": {},
     "output_type": "display_data"
    }
   ],
   "source": [
    "import matplotlib.pyplot as plt\n",
    "import numpy as np\n",
    "\n",
    "# Functions to show an image\n",
    "def imshow(img):\n",
    "    img = img/2 + 0.5\n",
    "    npimg = img.numpy()\n",
    "    plt.imshow(np.transpose(npimg, (1,2,0)))\n",
    "\n",
    "# get some random training images\n",
    "dataiter = iter(trainloader)\n",
    "images, labels = next(dataiter)\n",
    "\n",
    "# show images\n",
    "imshow(torchvision.utils.make_grid(images))\n",
    "print(' '.join('%5s' % classes[labels[j]] for j in range(4)))"
   ]
  },
  {
   "cell_type": "markdown",
   "id": "ea36a0e1",
   "metadata": {},
   "source": [
    "Building the model"
   ]
  },
  {
   "cell_type": "code",
   "execution_count": 33,
   "id": "7e63f2e5",
   "metadata": {},
   "outputs": [],
   "source": [
    "class Net(nn.Module):\n",
    "    def __init__(self):\n",
    "        super(Net,self).__init__()\n",
    "        self.conv1 = nn.Conv2d(3,6,5)\n",
    "        self.pool = nn.MaxPool2d(2,2)\n",
    "        self.conv2 = nn.Conv2d(6,16,5)\n",
    "        self.fc1 = nn.Linear(16*5*5, 120)\n",
    "        self.fc2 = nn.Linear(120,84)\n",
    "        self.fc3 = nn.Linear(84,10)\n",
    "\n",
    "    def forward(self,x):\n",
    "        x = self.pool(F.relu(self.conv1(x)))\n",
    "        x = self.pool(F.relu(self.conv2(x)))\n",
    "        x = x.view(-1,16*5*5)\n",
    "        x = F.relu(self.fc1(x))\n",
    "        x = F.relu(self.fc2(x))\n",
    "        return x\n",
    "\n",
    "net = Net()"
   ]
  },
  {
   "cell_type": "code",
   "execution_count": 34,
   "id": "f5256b76",
   "metadata": {},
   "outputs": [],
   "source": [
    "criterion = nn.CrossEntropyLoss()\n",
    "optimizer = optim.SGD(net.parameters(), lr=0.001, momentum=0.9)"
   ]
  },
  {
   "cell_type": "code",
   "execution_count": 35,
   "id": "d23b464a",
   "metadata": {},
   "outputs": [
    {
     "name": "stdout",
     "output_type": "stream",
     "text": [
      "[1,  2000] loss: 3.251\n",
      "[1,  4000] loss: 1.934\n",
      "[1,  6000] loss: 1.623\n",
      "[1,  8000] loss: 1.518\n",
      "[1, 10000] loss: 1.468\n",
      "[1, 12000] loss: 1.409\n",
      "[2,  2000] loss: 1.333\n",
      "[2,  4000] loss: 1.294\n",
      "[2,  6000] loss: 1.291\n",
      "[2,  8000] loss: 1.298\n",
      "[2, 10000] loss: 1.260\n",
      "[2, 12000] loss: 1.248\n",
      "[3,  2000] loss: 1.183\n",
      "[3,  4000] loss: 1.168\n",
      "[3,  6000] loss: 1.163\n",
      "[3,  8000] loss: 1.180\n",
      "[3, 10000] loss: 1.163\n",
      "[3, 12000] loss: 1.134\n",
      "[4,  2000] loss: 1.080\n",
      "[4,  4000] loss: 1.078\n",
      "[4,  6000] loss: 1.080\n",
      "[4,  8000] loss: 1.115\n",
      "[4, 10000] loss: 1.070\n",
      "[4, 12000] loss: 1.090\n",
      "[5,  2000] loss: 0.992\n",
      "[5,  4000] loss: 1.009\n",
      "[5,  6000] loss: 1.017\n",
      "[5,  8000] loss: 1.052\n",
      "[5, 10000] loss: 1.025\n",
      "[5, 12000] loss: 1.043\n",
      "[6,  2000] loss: 0.949\n",
      "[6,  4000] loss: 0.950\n",
      "[6,  6000] loss: 0.951\n",
      "[6,  8000] loss: 1.005\n",
      "[6, 10000] loss: 0.992\n",
      "[6, 12000] loss: 0.978\n",
      "[7,  2000] loss: 0.876\n",
      "[7,  4000] loss: 0.896\n",
      "[7,  6000] loss: 0.934\n",
      "[7,  8000] loss: 0.956\n",
      "[7, 10000] loss: 0.934\n",
      "[7, 12000] loss: 0.964\n",
      "[8,  2000] loss: 0.833\n",
      "[8,  4000] loss: 0.889\n",
      "[8,  6000] loss: 0.894\n",
      "[8,  8000] loss: 0.912\n",
      "[8, 10000] loss: 0.906\n",
      "[8, 12000] loss: 0.925\n",
      "[9,  2000] loss: 0.803\n",
      "[9,  4000] loss: 0.830\n",
      "[9,  6000] loss: 0.857\n",
      "[9,  8000] loss: 0.861\n",
      "[9, 10000] loss: 0.902\n",
      "[9, 12000] loss: 0.913\n",
      "[10,  2000] loss: 0.772\n",
      "[10,  4000] loss: 0.807\n",
      "[10,  6000] loss: 0.840\n",
      "[10,  8000] loss: 0.864\n",
      "[10, 10000] loss: 0.852\n",
      "[10, 12000] loss: 0.872\n",
      "[11,  2000] loss: 0.748\n",
      "[11,  4000] loss: 0.773\n",
      "[11,  6000] loss: 0.791\n",
      "[11,  8000] loss: 0.843\n",
      "[11, 10000] loss: 0.857\n",
      "[11, 12000] loss: 0.855\n",
      "[12,  2000] loss: 0.737\n",
      "[12,  4000] loss: 0.743\n",
      "[12,  6000] loss: 0.795\n",
      "[12,  8000] loss: 0.789\n",
      "[12, 10000] loss: 0.842\n",
      "[12, 12000] loss: 0.847\n",
      "[13,  2000] loss: 0.700\n",
      "[13,  4000] loss: 0.751\n",
      "[13,  6000] loss: 0.767\n",
      "[13,  8000] loss: 0.811\n",
      "[13, 10000] loss: 0.805\n",
      "[13, 12000] loss: 0.817\n",
      "[14,  2000] loss: 0.700\n",
      "[14,  4000] loss: 0.721\n",
      "[14,  6000] loss: 0.750\n",
      "[14,  8000] loss: 0.785\n",
      "[14, 10000] loss: 0.783\n",
      "[14, 12000] loss: 0.792\n",
      "[15,  2000] loss: 0.679\n",
      "[15,  4000] loss: 0.717\n",
      "[15,  6000] loss: 0.737\n",
      "[15,  8000] loss: 0.735\n",
      "[15, 10000] loss: 0.757\n",
      "[15, 12000] loss: 0.797\n",
      "[16,  2000] loss: 0.656\n",
      "[16,  4000] loss: 0.709\n",
      "[16,  6000] loss: 0.708\n",
      "[16,  8000] loss: 0.749\n",
      "[16, 10000] loss: 0.755\n",
      "[16, 12000] loss: 0.780\n",
      "[17,  2000] loss: 0.629\n",
      "[17,  4000] loss: 0.675\n",
      "[17,  6000] loss: 0.703\n",
      "[17,  8000] loss: 0.739\n",
      "[17, 10000] loss: 0.757\n",
      "[17, 12000] loss: 0.762\n",
      "[18,  2000] loss: 0.635\n",
      "[18,  4000] loss: 0.673\n",
      "[18,  6000] loss: 0.697\n",
      "[18,  8000] loss: 0.722\n",
      "[18, 10000] loss: 0.738\n",
      "[18, 12000] loss: 0.737\n",
      "[19,  2000] loss: 0.626\n",
      "[19,  4000] loss: 0.671\n",
      "[19,  6000] loss: 0.707\n",
      "[19,  8000] loss: 0.740\n",
      "[19, 10000] loss: 0.713\n",
      "[19, 12000] loss: 0.750\n",
      "[20,  2000] loss: 0.597\n",
      "[20,  4000] loss: 0.666\n",
      "[20,  6000] loss: 0.675\n",
      "[20,  8000] loss: 0.682\n",
      "[20, 10000] loss: 0.730\n",
      "[20, 12000] loss: 0.729\n",
      "Finished Training\n"
     ]
    }
   ],
   "source": [
    "for epoch in range(20):  # loop over the dataset mulitple times\n",
    "    running_loss = 0.0\n",
    "    for i,data in enumerate(trainloader, 0):\n",
    "        # get the inputs\n",
    "        inputs, labels = data\n",
    "\n",
    "        # zero the parameter gradients\n",
    "        optimizer.zero_grad()\n",
    "\n",
    "        # forward + backward + optimize\n",
    "        outputs = net(inputs)\n",
    "        loss = criterion(outputs, labels)\n",
    "        loss.backward()\n",
    "        optimizer.step()\n",
    "\n",
    "        # print statistics\n",
    "        running_loss += loss.item()\n",
    "        if i % 2000 == 1999 :      # print every 2000 mini batches\n",
    "            print('[%d, %5d] loss: %.3f' % (epoch+1, i+1, running_loss/2000))\n",
    "            running_loss = 0.0\n",
    "\n",
    "print('Finished Training')"
   ]
  },
  {
   "cell_type": "code",
   "execution_count": 36,
   "id": "a75470fa",
   "metadata": {},
   "outputs": [
    {
     "name": "stdout",
     "output_type": "stream",
     "text": [
      "Accuracy of the network on 10000 test images: 60 %\n"
     ]
    }
   ],
   "source": [
    "correct = 0\n",
    "total = 0\n",
    "with torch.no_grad():\n",
    "    for data in testloader:\n",
    "        images, labels = data\n",
    "        outputs = net(images)\n",
    "        _, predicted = torch.max(outputs.data, 1)\n",
    "        total += labels.size(0)\n",
    "        correct += (predicted == labels).sum().item()\n",
    "print('Accuracy of the network on 10000 test images: %d %%' % (100 * correct/total))"
   ]
  }
 ],
 "metadata": {
  "kernelspec": {
   "display_name": "venv1",
   "language": "python",
   "name": "python3"
  },
  "language_info": {
   "codemirror_mode": {
    "name": "ipython",
    "version": 3
   },
   "file_extension": ".py",
   "mimetype": "text/x-python",
   "name": "python",
   "nbconvert_exporter": "python",
   "pygments_lexer": "ipython3",
   "version": "3.13.5"
  }
 },
 "nbformat": 4,
 "nbformat_minor": 5
}
