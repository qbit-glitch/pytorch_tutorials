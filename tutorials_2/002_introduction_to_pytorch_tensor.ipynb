{
 "cells": [
  {
   "cell_type": "markdown",
   "id": "b81e0ad9",
   "metadata": {},
   "source": [
    "# Introduction to Pytorch Tensors"
   ]
  },
  {
   "cell_type": "code",
   "execution_count": 1,
   "id": "6bff82e0",
   "metadata": {},
   "outputs": [],
   "source": [
    "import torch \n",
    "import math "
   ]
  },
  {
   "cell_type": "markdown",
   "id": "08bad816",
   "metadata": {},
   "source": [
    "The rules for broadcasting are:\n",
    "\n",
    "- Each tensor must have at least one dimension - no empty tensors.\n",
    "\n",
    "- Comparing the dimension sizes of the two tensors, going from last to first:\n",
    "\n",
    "    - Each dimension must be equal, or\n",
    "\n",
    "    - One of the dimensions must be of size 1, or\n",
    "\n",
    "    - The dimension does not exist in one of the tensors\n",
    "\n"
   ]
  },
  {
   "cell_type": "markdown",
   "id": "ffe85bd8",
   "metadata": {},
   "source": []
  },
  {
   "cell_type": "code",
   "execution_count": 2,
   "id": "bfdc7ce3",
   "metadata": {},
   "outputs": [
    {
     "name": "stdout",
     "output_type": "stream",
     "text": [
      "<class 'torch.Tensor'>\n",
      "tensor([[0., 0., 0., 0.],\n",
      "        [0., 0., 0., 0.],\n",
      "        [0., 0., 0., 0.]])\n"
     ]
    }
   ],
   "source": [
    "x = torch.empty(3,4)\n",
    "print(type(x))\n",
    "print(x)"
   ]
  },
  {
   "cell_type": "markdown",
   "id": "0f886010",
   "metadata": {},
   "source": [
    "A brief note about tensors and their number of dimensions, and terminology:\n",
    "\n",
    "- You will sometimes see a 1-dimensional tensor called a vector.\n",
    "\n",
    "- Likewise, a 2-dimensional tensor is often referred to as a matrix.\n",
    "\n",
    "- Anything with more than two dimensions is generally just called a tensor.\n",
    "\n"
   ]
  },
  {
   "cell_type": "code",
   "execution_count": 4,
   "id": "dde6465d",
   "metadata": {},
   "outputs": [
    {
     "name": "stdout",
     "output_type": "stream",
     "text": [
      "tensor([[0., 0., 0.],\n",
      "        [0., 0., 0.]])\n",
      "tensor([[1., 1., 1.],\n",
      "        [1., 1., 1.]])\n",
      "tensor([[0.1117, 0.8158, 0.2626],\n",
      "        [0.4839, 0.6765, 0.7539]])\n",
      "tensor([[0.3126, 0.3791, 0.3087],\n",
      "        [0.0736, 0.4216, 0.0691]])\n"
     ]
    }
   ],
   "source": [
    "zeros = torch.zeros(2,3)\n",
    "print(zeros)\n",
    "\n",
    "ones = torch.ones(2,3)\n",
    "print(ones)\n",
    "\n",
    "torch.manual_seed(100)\n",
    "random = torch.rand(2,3)\n",
    "print(random)\n",
    "\n",
    "torch.manual_seed(1729)\n",
    "random = torch.rand(2,3)\n",
    "print(random)"
   ]
  },
  {
   "cell_type": "markdown",
   "id": "a2f5a277",
   "metadata": {},
   "source": [
    "## Tensor Shapes"
   ]
  },
  {
   "cell_type": "code",
   "execution_count": 8,
   "id": "7d58d60d",
   "metadata": {},
   "outputs": [
    {
     "name": "stdout",
     "output_type": "stream",
     "text": [
      "torch.Size([1, 2, 11])\n",
      "tensor([[[0., 0., 0., 0., 0., 0., 0., 0., 0., 0., 0.],\n",
      "         [0., 0., 0., 0., 0., 0., 0., 0., 0., 0., 0.]]])\n",
      "tensor([[[0., 0., 0., 0., 0., 0., 0., 0., 0., 0., 0.],\n",
      "         [0., 0., 0., 0., 0., 0., 0., 0., 0., 0., 0.]]])\n",
      "tensor([[[1., 1., 1., 1., 1., 1., 1., 1., 1., 1., 1.],\n",
      "         [1., 1., 1., 1., 1., 1., 1., 1., 1., 1., 1.]]])\n"
     ]
    }
   ],
   "source": [
    "x = torch.rand((1,2,11))\n",
    "print(x.shape)\n",
    "\n",
    "empty_like_x = torch.empty_like(x)\n",
    "print(empty_like_x)\n",
    "\n",
    "zeros_like_x = torch.zeros_like(x)\n",
    "print(zeros_like_x)\n",
    "\n",
    "onees_like_x = torch.ones_like(x)\n",
    "print(onees_like_x)\n"
   ]
  },
  {
   "cell_type": "code",
   "execution_count": 10,
   "id": "0e44de1c",
   "metadata": {},
   "outputs": [
    {
     "name": "stdout",
     "output_type": "stream",
     "text": [
      "tensor([[2, 4, 6],\n",
      "        [3, 6, 9]])\n"
     ]
    }
   ],
   "source": [
    "more_integers = torch.tensor(((2,4,6), [3,6,9]))\n",
    "print(more_integers)"
   ]
  },
  {
   "cell_type": "markdown",
   "id": "78535dc0",
   "metadata": {},
   "source": [
    "Using torch.tensor() is the most straightforward way to create a tensor if you already have data in a Python tuple or list. As shown above, nesting the collections will result in a multi-dimensional tensor.\n",
    "\n",
    "`torch.tensor()` creates a copy of the data."
   ]
  },
  {
   "cell_type": "code",
   "execution_count": 11,
   "id": "b9418bb8",
   "metadata": {},
   "outputs": [
    {
     "name": "stdout",
     "output_type": "stream",
     "text": [
      "tensor([[1.1528, 1.1844, 1.9394, 1.4087, 1.8121, 1.1060, 2.0313],\n",
      "        [1.4106, 1.6721, 1.6179, 1.3059, 1.7067, 1.6244, 1.5247]],\n",
      "       dtype=torch.float64)\n",
      "tensor([[1, 1, 1, 1, 1, 1, 2],\n",
      "        [1, 1, 1, 1, 1, 1, 1]], dtype=torch.int16)\n"
     ]
    }
   ],
   "source": [
    "b = torch.rand((2,7), dtype=torch.float64) + 7 * 10 / 64\n",
    "print(b)\n",
    "\n",
    "c = b.to(torch.int16)\n",
    "print(c)"
   ]
  },
  {
   "cell_type": "markdown",
   "id": "c4856a36",
   "metadata": {},
   "source": [
    "## Tensor Broadcasting"
   ]
  },
  {
   "cell_type": "code",
   "execution_count": 12,
   "id": "4f358dab",
   "metadata": {},
   "outputs": [
    {
     "name": "stdout",
     "output_type": "stream",
     "text": [
      "tensor([[0.6264, 0.4704, 0.6077, 0.4757],\n",
      "        [0.5874, 0.4363, 0.6339, 0.3208]])\n",
      "tensor([[1.2528, 0.9407, 1.2153, 0.9515],\n",
      "        [1.1747, 0.8727, 1.2679, 0.6415]])\n"
     ]
    }
   ],
   "source": [
    "rand = torch.rand(2,4)\n",
    "doubled = rand * (torch.ones(1,4) * 2)\n",
    "\n",
    "print(rand)\n",
    "print(doubled)"
   ]
  },
  {
   "cell_type": "code",
   "execution_count": 14,
   "id": "83f75a77",
   "metadata": {},
   "outputs": [
    {
     "name": "stdout",
     "output_type": "stream",
     "text": [
      "tensor([[[0.3132, 0.6331],\n",
      "         [0.8222, 0.2652],\n",
      "         [0.7328, 0.2126]],\n",
      "\n",
      "        [[0.3132, 0.6331],\n",
      "         [0.8222, 0.2652],\n",
      "         [0.7328, 0.2126]],\n",
      "\n",
      "        [[0.3132, 0.6331],\n",
      "         [0.8222, 0.2652],\n",
      "         [0.7328, 0.2126]],\n",
      "\n",
      "        [[0.3132, 0.6331],\n",
      "         [0.8222, 0.2652],\n",
      "         [0.7328, 0.2126]]])\n",
      "tensor([[[0.4408, 0.4408],\n",
      "         [0.3877, 0.3877],\n",
      "         [0.6078, 0.6078]],\n",
      "\n",
      "        [[0.4408, 0.4408],\n",
      "         [0.3877, 0.3877],\n",
      "         [0.6078, 0.6078]],\n",
      "\n",
      "        [[0.4408, 0.4408],\n",
      "         [0.3877, 0.3877],\n",
      "         [0.6078, 0.6078]],\n",
      "\n",
      "        [[0.4408, 0.4408],\n",
      "         [0.3877, 0.3877],\n",
      "         [0.6078, 0.6078]]])\n",
      "tensor([[[0.2345, 0.7117],\n",
      "         [0.2345, 0.7117],\n",
      "         [0.2345, 0.7117]],\n",
      "\n",
      "        [[0.2345, 0.7117],\n",
      "         [0.2345, 0.7117],\n",
      "         [0.2345, 0.7117]],\n",
      "\n",
      "        [[0.2345, 0.7117],\n",
      "         [0.2345, 0.7117],\n",
      "         [0.2345, 0.7117]],\n",
      "\n",
      "        [[0.2345, 0.7117],\n",
      "         [0.2345, 0.7117],\n",
      "         [0.2345, 0.7117]]])\n"
     ]
    }
   ],
   "source": [
    "a = torch.ones(4,3,2)\n",
    "b = a * torch.rand(3,2)\n",
    "print(b)\n",
    "\n",
    "c = a * torch.rand(3,1)\n",
    "print(c)\n",
    "\n",
    "d = a * torch.rand(1,2)\n",
    "print(d)"
   ]
  },
  {
   "cell_type": "markdown",
   "id": "82a5a11c",
   "metadata": {},
   "source": [
    "Look closely at the values of each tensor above:\n",
    "\n",
    "- The multiplication operation that created b was broadcast over every “layer” of a.\n",
    "\n",
    "- For c, the operation was broadcast over every layer and row of a - every 3-element column is identical.\n",
    "\n",
    "- For d, we switched it around - now every row is identical, across layers and columns.\n",
    "\n"
   ]
  },
  {
   "cell_type": "code",
   "execution_count": 16,
   "id": "7d5d2910",
   "metadata": {},
   "outputs": [
    {
     "ename": "RuntimeError",
     "evalue": "The size of tensor a (2) must match the size of tensor b (3) at non-singleton dimension 2",
     "output_type": "error",
     "traceback": [
      "\u001b[31m---------------------------------------------------------------------------\u001b[39m",
      "\u001b[31mRuntimeError\u001b[39m                              Traceback (most recent call last)",
      "\u001b[36mCell\u001b[39m\u001b[36m \u001b[39m\u001b[32mIn[16]\u001b[39m\u001b[32m, line 3\u001b[39m\n\u001b[32m      1\u001b[39m a = torch.ones(\u001b[32m4\u001b[39m,\u001b[32m3\u001b[39m,\u001b[32m2\u001b[39m)\n\u001b[32m----> \u001b[39m\u001b[32m3\u001b[39m b = \u001b[43ma\u001b[49m\u001b[43m \u001b[49m\u001b[43m*\u001b[49m\u001b[43m \u001b[49m\u001b[43mtorch\u001b[49m\u001b[43m.\u001b[49m\u001b[43mrand\u001b[49m\u001b[43m(\u001b[49m\u001b[32;43m4\u001b[39;49m\u001b[43m,\u001b[49m\u001b[32;43m3\u001b[39;49m\u001b[43m)\u001b[49m     \u001b[38;5;66;03m# dimensions must match last to first\u001b[39;00m\n\u001b[32m      4\u001b[39m c = a * torch.rand( \u001b[32m2\u001b[39m,\u001b[32m3\u001b[39m)    \u001b[38;5;66;03m# both 3rd and 2nd dims different\u001b[39;00m\n\u001b[32m      5\u001b[39m d = a * torch.rand((\u001b[32m0\u001b[39m,))    \u001b[38;5;66;03m# can't broadcast with an empty tensor\u001b[39;00m\n",
      "\u001b[31mRuntimeError\u001b[39m: The size of tensor a (2) must match the size of tensor b (3) at non-singleton dimension 2"
     ]
    }
   ],
   "source": [
    "a = torch.ones(4,3,2)\n",
    "\n",
    "b = a * torch.rand(4,3)     # dimensions must match last to first\n",
    "c = a * torch.rand( 2,3)    # both 3rd and 2nd dims different\n",
    "d = a * torch.rand((0,))    # can't broadcast with an empty tensor"
   ]
  },
  {
   "cell_type": "markdown",
   "id": "e45dd53c",
   "metadata": {},
   "source": [
    "## Altering Tensors in-place"
   ]
  },
  {
   "cell_type": "markdown",
   "id": "c8ab5368",
   "metadata": {},
   "source": [
    "There are times, though, that you may wish to alter a tensor in place - for example, if you’re doing an element-wise computation where you can discard intermediate values. For this, most of the math functions have a version with an appended underscore (_) that will alter a tensor in place."
   ]
  },
  {
   "cell_type": "code",
   "execution_count": 18,
   "id": "3b30a607",
   "metadata": {},
   "outputs": [
    {
     "name": "stdout",
     "output_type": "stream",
     "text": [
      "tensor([[0.0425, 0.0313, 0.5074, 0.7209, 0.6635, 0.1084],\n",
      "        [0.1523, 0.8454, 0.1194, 0.7245, 0.6522, 0.1779]])\n",
      "tensor([[0.7497, 0.9760, 0.5971, 0.3992, 0.9713, 0.3280],\n",
      "        [0.5546, 0.6437, 0.6709, 0.2887, 0.3544, 0.3579]])\n",
      "tensor([[0.7922, 1.0073, 1.1045, 1.1202, 1.6349, 0.4364],\n",
      "        [0.7069, 1.4891, 0.7903, 1.0132, 1.0066, 0.5358]])\n",
      "tensor([[0.5620, 0.9525, 0.3565, 0.1594, 0.9435, 0.1076],\n",
      "        [0.3075, 0.4144, 0.4501, 0.0833, 0.1256, 0.1281]])\n"
     ]
    }
   ],
   "source": [
    "a = torch.rand(2,6)\n",
    "b = torch.rand(2,6)\n",
    "print(a)\n",
    "print(b)\n",
    "\n",
    "a.add_(b)\n",
    "print(a)\n",
    "\n",
    "b.mul_(b)\n",
    "print(b)"
   ]
  },
  {
   "cell_type": "code",
   "execution_count": 19,
   "id": "a2321871",
   "metadata": {},
   "outputs": [
    {
     "name": "stdout",
     "output_type": "stream",
     "text": [
      "tensor([[0.4170, 0.1459],\n",
      "        [0.5558, 0.1531]]) \n",
      " tensor([[0.4170, 0.1459],\n",
      "        [0.5558, 0.1531]])\n"
     ]
    }
   ],
   "source": [
    "a = torch.rand(2,2)\n",
    "b = torch.rand(2,2)\n",
    "c = torch.zeros(2,2)\n",
    "\n",
    "d = torch.matmul(a,b, out=c)\n",
    "print(d, \"\\n\", c)"
   ]
  },
  {
   "cell_type": "markdown",
   "id": "7f5010d1",
   "metadata": {},
   "source": [
    "## Copying Tensors"
   ]
  },
  {
   "cell_type": "markdown",
   "id": "24d278ca",
   "metadata": {},
   "source": [
    "As with any object in python, assigning a tensor to a variable makes the variable a label of the tensor, and does not copy it. BUt if you want a separate copy, `clone()` method is used."
   ]
  },
  {
   "cell_type": "code",
   "execution_count": 20,
   "id": "9cd9e3e0",
   "metadata": {},
   "outputs": [
    {
     "name": "stdout",
     "output_type": "stream",
     "text": [
      "tensor([[  1., 561.],\n",
      "        [  1.,   1.]])\n"
     ]
    }
   ],
   "source": [
    "a = torch.ones(2,2)\n",
    "b = a\n",
    "\n",
    "a[0][1] = 561\n",
    "print(b)"
   ]
  },
  {
   "cell_type": "markdown",
   "id": "15719d1d",
   "metadata": {},
   "source": [
    "There is an important thing to be aware of when using ``clone()``. If your source tensor has autograd, enabled then so will the clone. Use `.detach()` to turn off the autograd for faster computations needed for forward pass. "
   ]
  },
  {
   "cell_type": "markdown",
   "id": "b2c7a3b8",
   "metadata": {},
   "source": [
    "## Moving to accelerator"
   ]
  },
  {
   "cell_type": "markdown",
   "id": "0c230e80",
   "metadata": {},
   "source": [
    "By default new tensors are created on the CPU, so we have to specify when we want to create our tensor on the accelerator with the optional `device` argument."
   ]
  },
  {
   "cell_type": "code",
   "execution_count": 21,
   "id": "b845efe1",
   "metadata": {},
   "outputs": [
    {
     "name": "stdout",
     "output_type": "stream",
     "text": [
      "Device: mps\n",
      "tensor([[0.2172, 0.3683],\n",
      "        [0.0173, 0.0119]], device='mps:0')\n"
     ]
    }
   ],
   "source": [
    "my_device = torch.accelerator.current_accelerator() if torch.accelerator.is_available() else torch.device('cpu')\n",
    "print('Device: {}'.format(my_device))\n",
    "\n",
    "x = torch.rand(2,2, device=my_device)\n",
    "print(x)"
   ]
  },
  {
   "cell_type": "markdown",
   "id": "e2cbc4ae",
   "metadata": {},
   "source": [
    "It is important to know that in order to do computation involving two or more tensors, all of the tensors must be on the same device. "
   ]
  },
  {
   "cell_type": "markdown",
   "id": "2006ee1c",
   "metadata": {},
   "source": [
    "## Manipulating Tensor shapes"
   ]
  },
  {
   "cell_type": "code",
   "execution_count": 22,
   "id": "5c4c341d",
   "metadata": {},
   "outputs": [
    {
     "name": "stdout",
     "output_type": "stream",
     "text": [
      "torch.Size([3, 226, 226])\n",
      "torch.Size([1, 3, 226, 226])\n"
     ]
    }
   ],
   "source": [
    "a = torch.rand(3,226,226)\n",
    "b = a.unsqueeze(0)\n",
    "\n",
    "print(a.shape)\n",
    "print(b.shape)"
   ]
  },
  {
   "cell_type": "markdown",
   "id": "425829a8",
   "metadata": {},
   "source": [
    "The unsqueeze() method adds a dimension of extent 1. unsqueeze(0) adds it as a new zeroth dimension - now you have a batch of one!"
   ]
  },
  {
   "cell_type": "code",
   "execution_count": 24,
   "id": "05e736fa",
   "metadata": {},
   "outputs": [
    {
     "name": "stdout",
     "output_type": "stream",
     "text": [
      "torch.Size([3, 1, 226, 226]) \n",
      " torch.Size([3, 226, 1, 226]) \n",
      " torch.Size([3, 226, 226, 1])\n"
     ]
    }
   ],
   "source": [
    "c = a.unsqueeze(1)\n",
    "d = a.unsqueeze(2)\n",
    "e = a.unsqueeze(3)\n",
    "print(c.shape, \"\\n\", d.shape, \"\\n\", e.shape)"
   ]
  },
  {
   "cell_type": "markdown",
   "id": "d84e49a3",
   "metadata": {},
   "source": [
    "You may only squeeze() dimensions of extent 1. Calls to squeeze() and unsqueeze() can only act on dimensions of extent 1 because to do otherwise would change the number of elements in the tensor."
   ]
  },
  {
   "cell_type": "code",
   "execution_count": 25,
   "id": "0d4af3ae",
   "metadata": {},
   "outputs": [
    {
     "name": "stdout",
     "output_type": "stream",
     "text": [
      "torch.Size([1, 20])\n",
      "tensor([[0.9062, 0.2904, 0.2634, 0.6897, 0.3774, 0.0906, 0.3839, 0.4696, 0.2363,\n",
      "         0.4035, 0.5047, 0.6997, 0.0530, 0.2326, 0.0159, 0.0429, 0.3702, 0.2488,\n",
      "         0.9021, 0.2889]])\n",
      "torch.Size([20])\n",
      "tensor([0.9062, 0.2904, 0.2634, 0.6897, 0.3774, 0.0906, 0.3839, 0.4696, 0.2363,\n",
      "        0.4035, 0.5047, 0.6997, 0.0530, 0.2326, 0.0159, 0.0429, 0.3702, 0.2488,\n",
      "        0.9021, 0.2889])\n",
      "torch.Size([2, 2])\n",
      "torch.Size([2, 2])\n"
     ]
    }
   ],
   "source": [
    "a = torch.rand(1,20)\n",
    "print(a.shape)\n",
    "print(a)\n",
    "\n",
    "b = a.squeeze(0)\n",
    "print(b.shape)\n",
    "print(b)\n",
    "\n",
    "c = torch.rand(2,2)\n",
    "print(c.shape)\n",
    "\n",
    "d = c.squeeze(0)\n",
    "print(d.shape)"
   ]
  },
  {
   "cell_type": "markdown",
   "id": "6e8a89b6",
   "metadata": {},
   "source": [
    "The `squeeze()` and `unsqueeze()` methods also have in-place versions, `squeeze_()` and `unsqueeze_()`:"
   ]
  },
  {
   "cell_type": "markdown",
   "id": "30fa628d",
   "metadata": {},
   "source": [
    "When it can, reshape() will return a view on the tensor to be changed - that is, a separate tensor object looking at the same underlying region of memory. This is important: That means any change made to the source tensor will be reflected in the view on that tensor, unless you clone() it.\n",
    "\n"
   ]
  },
  {
   "cell_type": "code",
   "execution_count": 26,
   "id": "f2093e15",
   "metadata": {},
   "outputs": [
    {
     "name": "stdout",
     "output_type": "stream",
     "text": [
      "torch.Size([6, 20, 20])\n",
      "torch.Size([2400])\n",
      "torch.Size([2400])\n"
     ]
    }
   ],
   "source": [
    "output3d = torch.rand(6,20,20)\n",
    "print(output3d.shape)\n",
    "\n",
    "input1d = output3d.reshape(6*20*20)\n",
    "print(input1d.shape)\n",
    "\n",
    "# can also call it as a method on the torch module\n",
    "print(torch.reshape(output3d, (6*20*20,)).shape)"
   ]
  },
  {
   "cell_type": "code",
   "execution_count": null,
   "id": "2fd5c564",
   "metadata": {},
   "outputs": [],
   "source": []
  }
 ],
 "metadata": {
  "kernelspec": {
   "display_name": "venv1",
   "language": "python",
   "name": "python3"
  },
  "language_info": {
   "codemirror_mode": {
    "name": "ipython",
    "version": 3
   },
   "file_extension": ".py",
   "mimetype": "text/x-python",
   "name": "python",
   "nbconvert_exporter": "python",
   "pygments_lexer": "ipython3",
   "version": "3.13.5"
  }
 },
 "nbformat": 4,
 "nbformat_minor": 5
}
