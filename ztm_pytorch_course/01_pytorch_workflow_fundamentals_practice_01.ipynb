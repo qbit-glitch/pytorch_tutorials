{
 "cells": [
  {
   "cell_type": "markdown",
   "id": "a65aa508",
   "metadata": {},
   "source": [
    "## 01. Pytorch Workflow Fundamentals"
   ]
  },
  {
   "cell_type": "markdown",
   "id": "e2ab2ced",
   "metadata": {},
   "source": [
    "### 1. Importing Necessary Libraries and Setting up the device"
   ]
  },
  {
   "cell_type": "code",
   "execution_count": 1,
   "id": "e5b65b48",
   "metadata": {},
   "outputs": [
    {
     "data": {
      "text/plain": [
       "'2.8.0'"
      ]
     },
     "execution_count": 1,
     "metadata": {},
     "output_type": "execute_result"
    }
   ],
   "source": [
    "import torch\n",
    "from torch import nn\n",
    "import matplotlib.pyplot as plt\n",
    "\n",
    "torch.__version__"
   ]
  },
  {
   "cell_type": "code",
   "execution_count": 2,
   "id": "b2187fb4",
   "metadata": {},
   "outputs": [
    {
     "name": "stdout",
     "output_type": "stream",
     "text": [
      "mps\n"
     ]
    }
   ],
   "source": [
    "get_device = lambda: \"cuda\" if torch.cuda.is_available() else \"mps\" if torch.backends.mps.is_available() else \"cpu\"\n",
    "\n",
    "device = get_device()\n",
    "print(device)"
   ]
  },
  {
   "cell_type": "markdown",
   "id": "94be2b3b",
   "metadata": {},
   "source": [
    "### 2. Data"
   ]
  },
  {
   "cell_type": "code",
   "execution_count": 3,
   "id": "021a7d3d",
   "metadata": {},
   "outputs": [
    {
     "data": {
      "text/plain": [
       "(tensor([[1.0000],\n",
       "         [1.0700],\n",
       "         [1.1400],\n",
       "         [1.2100],\n",
       "         [1.2800],\n",
       "         [1.3500],\n",
       "         [1.4200],\n",
       "         [1.4900],\n",
       "         [1.5600],\n",
       "         [1.6300]]),\n",
       " tensor([[1.2000],\n",
       "         [1.2280],\n",
       "         [1.2560],\n",
       "         [1.2840],\n",
       "         [1.3120],\n",
       "         [1.3400],\n",
       "         [1.3680],\n",
       "         [1.3960],\n",
       "         [1.4240],\n",
       "         [1.4520]]))"
      ]
     },
     "execution_count": 3,
     "metadata": {},
     "output_type": "execute_result"
    }
   ],
   "source": [
    "# create weight and bias\n",
    "weight = 0.4\n",
    "bias = 0.8\n",
    "\n",
    "start = 1\n",
    "end = 5\n",
    "step = 0.07\n",
    "\n",
    "# create X and y (features and labels)\n",
    "X = torch.arange(start, end, step).unsqueeze(dim=1)\n",
    "y = weight*X + bias\n",
    "X[:10], y[:10]"
   ]
  },
  {
   "cell_type": "code",
   "execution_count": 4,
   "id": "54c73a76",
   "metadata": {},
   "outputs": [
    {
     "data": {
      "text/plain": [
       "(46, 46, 12, 12)"
      ]
     },
     "execution_count": 4,
     "metadata": {},
     "output_type": "execute_result"
    }
   ],
   "source": [
    "# Split the data\n",
    "train_split = int(0.8 * len(X))\n",
    "X_train, y_train = X[:train_split], y[:train_split]\n",
    "X_test, y_test = X[train_split:], y[train_split:]\n",
    "\n",
    "len(X_train), len(y_train), len(X_test), len(y_test)"
   ]
  },
  {
   "cell_type": "code",
   "execution_count": 5,
   "id": "b489860e",
   "metadata": {},
   "outputs": [],
   "source": [
    "# Lets visualize them, to make sure they look okay\n",
    "\n",
    "def plot_predictions(train_data = X_train,\n",
    "                    train_labels = y_train,\n",
    "                    test_data = X_test,\n",
    "                    test_labels = y_test,\n",
    "                    predictions = None):\n",
    "    plt.figure(figsize=(10,7))\n",
    "    plt.scatter(train_data, train_labels, c=\"b\", s=4, label=\"training data\")\n",
    "    plt.scatter(test_data, test_labels, c='g', s=4, label=\"testing data\")\n",
    "    if predictions is not None:\n",
    "        plt.scatter(test_data, predictions, c='r', s=4, label=\"predictions\")\n",
    "\n",
    "    # show legend\n",
    "    plt.legend(prop={\"size\": 14})\n"
   ]
  },
  {
   "cell_type": "code",
   "execution_count": 6,
   "id": "30eb1dc5",
   "metadata": {},
   "outputs": [
    {
     "data": {
      "image/png": "[encoded data removed]",
      "text/plain": [
       "<Figure size 1000x700 with 1 Axes>"
      ]
     },
     "metadata": {},
     "output_type": "display_data"
    }
   ],
   "source": [
    "plot_predictions()"
   ]
  },
  {
   "cell_type": "markdown",
   "id": "120ce9af",
   "metadata": {},
   "source": [
    "### 2. Build Model"
   ]
  },
  {
   "cell_type": "code",
   "execution_count": 12,
   "id": "86c382bc",
   "metadata": {},
   "outputs": [],
   "source": [
    "class LinearRegressionModel(nn.Module):\n",
    "    def __init__(self):\n",
    "        super().__init__()\n",
    "        self.linear_layer = nn.Linear(in_features=1, out_features=1)\n",
    "        \n",
    "    def forward(self, x: torch.Tensor) -> torch.Tensor:\n",
    "        return self.linear_layer(x)"
   ]
  },
  {
   "cell_type": "code",
   "execution_count": 13,
   "id": "783a3090",
   "metadata": {},
   "outputs": [
    {
     "data": {
      "text/plain": [
       "(LinearRegressionModel(\n",
       "   (linear_layer): Linear(in_features=1, out_features=1, bias=True)\n",
       " ),\n",
       " OrderedDict([('linear_layer.weight', tensor([[0.7645]])),\n",
       "              ('linear_layer.bias', tensor([0.8300]))]))"
      ]
     },
     "execution_count": 13,
     "metadata": {},
     "output_type": "execute_result"
    }
   ],
   "source": [
    "torch.manual_seed(42)\n",
    "model_1 = LinearRegressionModel()\n",
    "model_1, model_1.state_dict()"
   ]
  },
  {
   "cell_type": "code",
   "execution_count": 14,
   "id": "cd78c61c",
   "metadata": {},
   "outputs": [
    {
     "data": {
      "text/plain": [
       "device(type='mps', index=0)"
      ]
     },
     "execution_count": 14,
     "metadata": {},
     "output_type": "execute_result"
    }
   ],
   "source": [
    "model_1.to(device)\n",
    "next(model_1.parameters()).device"
   ]
  },
  {
   "cell_type": "markdown",
   "id": "df3c1b0d",
   "metadata": {},
   "source": [
    "### 3. Training"
   ]
  },
  {
   "cell_type": "code",
   "execution_count": 15,
   "id": "661fb1e5",
   "metadata": {},
   "outputs": [],
   "source": [
    "# Defining the loss function and optimizer\n",
    "loss_fn = nn.L1Loss()\n",
    "optimizer = torch.optim.SGD(params=model_1.parameters(), lr=0.01)\n"
   ]
  },
  {
   "cell_type": "code",
   "execution_count": 16,
   "id": "30209099",
   "metadata": {},
   "outputs": [
    {
     "name": "stdout",
     "output_type": "stream",
     "text": [
      "Epoch: 0 | Train Loss: 0.9686946272850037 | Test loss: 1.5801293849945068\n",
      "Epoch: 10 | Train Loss: 0.20563267171382904 | Test loss: 0.29434239864349365\n",
      "Epoch: 20 | Train Loss: 0.023678680881857872 | Test loss: 0.06284844875335693\n",
      "Epoch: 30 | Train Loss: 0.019741125404834747 | Test loss: 0.07348664849996567\n",
      "Epoch: 40 | Train Loss: 0.028221506625413895 | Test loss: 0.12094771862030029\n",
      "Epoch: 50 | Train Loss: 0.018440278246998787 | Test loss: 0.1256103217601776\n",
      "Epoch: 60 | Train Loss: 0.02091972716152668 | Test loss: 0.12817898392677307\n",
      "Epoch: 70 | Train Loss: 0.017811067402362823 | Test loss: 0.13305285573005676\n",
      "Epoch: 80 | Train Loss: 0.017811067402362823 | Test loss: 0.13305285573005676\n",
      "Epoch: 90 | Train Loss: 0.017811067402362823 | Test loss: 0.13305285573005676\n",
      "Epoch: 100 | Train Loss: 0.017811067402362823 | Test loss: 0.13305285573005676\n",
      "Epoch: 110 | Train Loss: 0.017811067402362823 | Test loss: 0.13305285573005676\n",
      "Epoch: 120 | Train Loss: 0.017811067402362823 | Test loss: 0.13305285573005676\n",
      "Epoch: 130 | Train Loss: 0.017811067402362823 | Test loss: 0.13305285573005676\n",
      "Epoch: 140 | Train Loss: 0.017811067402362823 | Test loss: 0.13305285573005676\n",
      "Epoch: 150 | Train Loss: 0.017811067402362823 | Test loss: 0.13305285573005676\n",
      "Epoch: 160 | Train Loss: 0.017811067402362823 | Test loss: 0.13305285573005676\n",
      "Epoch: 170 | Train Loss: 0.017811067402362823 | Test loss: 0.13305285573005676\n",
      "Epoch: 180 | Train Loss: 0.017811067402362823 | Test loss: 0.13305285573005676\n",
      "Epoch: 190 | Train Loss: 0.017811067402362823 | Test loss: 0.13305285573005676\n",
      "Epoch: 200 | Train Loss: 0.017811067402362823 | Test loss: 0.13305285573005676\n",
      "Epoch: 210 | Train Loss: 0.017811067402362823 | Test loss: 0.13305285573005676\n",
      "Epoch: 220 | Train Loss: 0.017811067402362823 | Test loss: 0.13305285573005676\n",
      "Epoch: 230 | Train Loss: 0.017811067402362823 | Test loss: 0.13305285573005676\n",
      "Epoch: 240 | Train Loss: 0.017811067402362823 | Test loss: 0.13305285573005676\n",
      "Epoch: 250 | Train Loss: 0.017811067402362823 | Test loss: 0.13305285573005676\n",
      "Epoch: 260 | Train Loss: 0.017811067402362823 | Test loss: 0.13305285573005676\n",
      "Epoch: 270 | Train Loss: 0.017811067402362823 | Test loss: 0.13305285573005676\n",
      "Epoch: 280 | Train Loss: 0.017811067402362823 | Test loss: 0.13305285573005676\n",
      "Epoch: 290 | Train Loss: 0.017811067402362823 | Test loss: 0.13305285573005676\n",
      "Epoch: 300 | Train Loss: 0.017811067402362823 | Test loss: 0.13305285573005676\n",
      "Epoch: 310 | Train Loss: 0.017811067402362823 | Test loss: 0.13305285573005676\n",
      "Epoch: 320 | Train Loss: 0.017811067402362823 | Test loss: 0.13305285573005676\n",
      "Epoch: 330 | Train Loss: 0.017811067402362823 | Test loss: 0.13305285573005676\n",
      "Epoch: 340 | Train Loss: 0.017811067402362823 | Test loss: 0.13305285573005676\n",
      "Epoch: 350 | Train Loss: 0.017811067402362823 | Test loss: 0.13305285573005676\n",
      "Epoch: 360 | Train Loss: 0.017811067402362823 | Test loss: 0.13305285573005676\n",
      "Epoch: 370 | Train Loss: 0.017811067402362823 | Test loss: 0.13305285573005676\n",
      "Epoch: 380 | Train Loss: 0.017811067402362823 | Test loss: 0.13305285573005676\n",
      "Epoch: 390 | Train Loss: 0.017811067402362823 | Test loss: 0.13305285573005676\n",
      "Epoch: 400 | Train Loss: 0.017811067402362823 | Test loss: 0.13305285573005676\n",
      "Epoch: 410 | Train Loss: 0.017811067402362823 | Test loss: 0.13305285573005676\n",
      "Epoch: 420 | Train Loss: 0.017811067402362823 | Test loss: 0.13305285573005676\n",
      "Epoch: 430 | Train Loss: 0.017811067402362823 | Test loss: 0.13305285573005676\n",
      "Epoch: 440 | Train Loss: 0.017811067402362823 | Test loss: 0.13305285573005676\n",
      "Epoch: 450 | Train Loss: 0.017811067402362823 | Test loss: 0.13305285573005676\n",
      "Epoch: 460 | Train Loss: 0.017811067402362823 | Test loss: 0.13305285573005676\n",
      "Epoch: 470 | Train Loss: 0.017811067402362823 | Test loss: 0.13305285573005676\n",
      "Epoch: 480 | Train Loss: 0.017811067402362823 | Test loss: 0.13305285573005676\n",
      "Epoch: 490 | Train Loss: 0.017811067402362823 | Test loss: 0.13305285573005676\n",
      "Epoch: 500 | Train Loss: 0.017811067402362823 | Test loss: 0.13305285573005676\n",
      "Epoch: 510 | Train Loss: 0.017811067402362823 | Test loss: 0.13305285573005676\n",
      "Epoch: 520 | Train Loss: 0.017811067402362823 | Test loss: 0.13305285573005676\n",
      "Epoch: 530 | Train Loss: 0.017811067402362823 | Test loss: 0.13305285573005676\n",
      "Epoch: 540 | Train Loss: 0.017811067402362823 | Test loss: 0.13305285573005676\n",
      "Epoch: 550 | Train Loss: 0.017811067402362823 | Test loss: 0.13305285573005676\n",
      "Epoch: 560 | Train Loss: 0.017811067402362823 | Test loss: 0.13305285573005676\n",
      "Epoch: 570 | Train Loss: 0.017811067402362823 | Test loss: 0.13305285573005676\n",
      "Epoch: 580 | Train Loss: 0.017811067402362823 | Test loss: 0.13305285573005676\n",
      "Epoch: 590 | Train Loss: 0.017811067402362823 | Test loss: 0.13305285573005676\n",
      "Epoch: 600 | Train Loss: 0.017811067402362823 | Test loss: 0.13305285573005676\n",
      "Epoch: 610 | Train Loss: 0.017811067402362823 | Test loss: 0.13305285573005676\n",
      "Epoch: 620 | Train Loss: 0.017811067402362823 | Test loss: 0.13305285573005676\n",
      "Epoch: 630 | Train Loss: 0.017811067402362823 | Test loss: 0.13305285573005676\n",
      "Epoch: 640 | Train Loss: 0.017811067402362823 | Test loss: 0.13305285573005676\n",
      "Epoch: 650 | Train Loss: 0.017811067402362823 | Test loss: 0.13305285573005676\n",
      "Epoch: 660 | Train Loss: 0.017811067402362823 | Test loss: 0.13305285573005676\n",
      "Epoch: 670 | Train Loss: 0.017811067402362823 | Test loss: 0.13305285573005676\n",
      "Epoch: 680 | Train Loss: 0.017811067402362823 | Test loss: 0.13305285573005676\n",
      "Epoch: 690 | Train Loss: 0.017811067402362823 | Test loss: 0.13305285573005676\n",
      "Epoch: 700 | Train Loss: 0.017811067402362823 | Test loss: 0.13305285573005676\n",
      "Epoch: 710 | Train Loss: 0.017811067402362823 | Test loss: 0.13305285573005676\n",
      "Epoch: 720 | Train Loss: 0.017811067402362823 | Test loss: 0.13305285573005676\n",
      "Epoch: 730 | Train Loss: 0.017811067402362823 | Test loss: 0.13305285573005676\n",
      "Epoch: 740 | Train Loss: 0.017811067402362823 | Test loss: 0.13305285573005676\n",
      "Epoch: 750 | Train Loss: 0.017811067402362823 | Test loss: 0.13305285573005676\n",
      "Epoch: 760 | Train Loss: 0.017811067402362823 | Test loss: 0.13305285573005676\n",
      "Epoch: 770 | Train Loss: 0.017811067402362823 | Test loss: 0.13305285573005676\n",
      "Epoch: 780 | Train Loss: 0.017811067402362823 | Test loss: 0.13305285573005676\n",
      "Epoch: 790 | Train Loss: 0.017811067402362823 | Test loss: 0.13305285573005676\n",
      "Epoch: 800 | Train Loss: 0.017811067402362823 | Test loss: 0.13305285573005676\n",
      "Epoch: 810 | Train Loss: 0.017811067402362823 | Test loss: 0.13305285573005676\n",
      "Epoch: 820 | Train Loss: 0.017811067402362823 | Test loss: 0.13305285573005676\n",
      "Epoch: 830 | Train Loss: 0.017811067402362823 | Test loss: 0.13305285573005676\n",
      "Epoch: 840 | Train Loss: 0.017811067402362823 | Test loss: 0.13305285573005676\n",
      "Epoch: 850 | Train Loss: 0.017811067402362823 | Test loss: 0.13305285573005676\n",
      "Epoch: 860 | Train Loss: 0.017811067402362823 | Test loss: 0.13305285573005676\n",
      "Epoch: 870 | Train Loss: 0.017811067402362823 | Test loss: 0.13305285573005676\n",
      "Epoch: 880 | Train Loss: 0.017811067402362823 | Test loss: 0.13305285573005676\n",
      "Epoch: 890 | Train Loss: 0.017811067402362823 | Test loss: 0.13305285573005676\n",
      "Epoch: 900 | Train Loss: 0.017811067402362823 | Test loss: 0.13305285573005676\n",
      "Epoch: 910 | Train Loss: 0.017811067402362823 | Test loss: 0.13305285573005676\n",
      "Epoch: 920 | Train Loss: 0.017811067402362823 | Test loss: 0.13305285573005676\n",
      "Epoch: 930 | Train Loss: 0.017811067402362823 | Test loss: 0.13305285573005676\n",
      "Epoch: 940 | Train Loss: 0.017811067402362823 | Test loss: 0.13305285573005676\n",
      "Epoch: 950 | Train Loss: 0.017811067402362823 | Test loss: 0.13305285573005676\n",
      "Epoch: 960 | Train Loss: 0.017811067402362823 | Test loss: 0.13305285573005676\n",
      "Epoch: 970 | Train Loss: 0.017811067402362823 | Test loss: 0.13305285573005676\n",
      "Epoch: 980 | Train Loss: 0.017811067402362823 | Test loss: 0.13305285573005676\n",
      "Epoch: 990 | Train Loss: 0.017811067402362823 | Test loss: 0.13305285573005676\n"
     ]
    }
   ],
   "source": [
    "# Pytorch training loop\n",
    "torch.manual_seed(42)\n",
    "epochs = 1000\n",
    "\n",
    "# Put the data on the available device\n",
    "X_train = X_train.to(device)\n",
    "X_test = X_test.to(device)\n",
    "y_train = y_train.to(device)\n",
    "y_test = y_test.to(device)\n",
    "\n",
    "for epoch in range(epochs):\n",
    "    # training\n",
    "    model_1.train()\n",
    "    y_pred = model_1(X_train)\n",
    "    loss = loss_fn(y_pred, y_train)\n",
    "    optimizer.zero_grad()\n",
    "    loss.backward()\n",
    "    optimizer.step()\n",
    "\n",
    "    # Testing loop\n",
    "    model_1.eval()\n",
    "    with torch.inference_mode():\n",
    "        test_pred = model_1(X_test)\n",
    "        test_loss = loss_fn(test_pred, y_test)\n",
    "        if(epoch % 10 == 0):\n",
    "            print(f\"Epoch: {epoch} | Train Loss: {loss} | Test loss: {test_loss}\")\n"
   ]
  },
  {
   "cell_type": "code",
   "execution_count": 17,
   "id": "1e8dfa75",
   "metadata": {},
   "outputs": [
    {
     "name": "stdout",
     "output_type": "stream",
     "text": [
      "OrderedDict([('linear_layer.weight', tensor([[0.4110]], device='mps:0')), ('linear_layer.bias', tensor([0.7539], device='mps:0'))])\n"
     ]
    }
   ],
   "source": [
    "\n",
    "print(model_1.state_dict())"
   ]
  },
  {
   "cell_type": "markdown",
   "id": "f16695d3",
   "metadata": {},
   "source": [
    "### Making Predictions\n"
   ]
  },
  {
   "cell_type": "code",
   "execution_count": 19,
   "id": "b3f3ade1",
   "metadata": {},
   "outputs": [
    {
     "data": {
      "image/png": "[encoded data removed]",
      "text/plain": [
       "<Figure size 1000x700 with 1 Axes>"
      ]
     },
     "metadata": {},
     "output_type": "display_data"
    }
   ],
   "source": [
    "model_1.eval()\n",
    "with torch.inference_mode():\n",
    "    y_preds = model_1(X_test)\n",
    "\n",
    "plot_predictions(predictions=y_preds.cpu())"
   ]
  },
  {
   "cell_type": "markdown",
   "id": "c7521775",
   "metadata": {},
   "source": [
    "### 5. Saving and Loading a Model\n"
   ]
  },
  {
   "cell_type": "code",
   "execution_count": 21,
   "id": "05f235f2",
   "metadata": {},
   "outputs": [
    {
     "name": "stdout",
     "output_type": "stream",
     "text": [
      "Saving model to: models/01_pytorch_workflow_model_1.pth\n"
     ]
    }
   ],
   "source": [
    "from pathlib import Path\n",
    "\n",
    "# Create models directory\n",
    "MODEL_PATH = Path(\"models\")\n",
    "MODEL_PATH.mkdir(parents=True, exist_ok=True)\n",
    "\n",
    "# Create model save path\n",
    "MODEL_NAME = \"01_pytorch_workflow_model_1.pth\"\n",
    "MODEL_SAVE_PATH = MODEL_PATH / MODEL_NAME\n",
    "\n",
    "# Save the model state dict\n",
    "print(f\"Saving model to: {MODEL_SAVE_PATH}\")\n",
    "torch.save(obj=model_1.state_dict(), f=MODEL_SAVE_PATH)"
   ]
  },
  {
   "cell_type": "code",
   "execution_count": 22,
   "id": "5da7f069",
   "metadata": {},
   "outputs": [
    {
     "name": "stdout",
     "output_type": "stream",
     "text": [
      "Loaded model: \n",
      "LinearRegressionModel(\n",
      "  (linear_layer): Linear(in_features=1, out_features=1, bias=True)\n",
      ")\n",
      "Model on device: \n",
      "mps:0\n"
     ]
    }
   ],
   "source": [
    "# Loading the model\n",
    "loaded_model_1 = LinearRegressionModel()\n",
    "loaded_model_1.load_state_dict(torch.load(MODEL_SAVE_PATH))\n",
    "\n",
    "loaded_model_1.to(device)\n",
    "print(f\"Loaded model: \\n{loaded_model_1}\")\n",
    "print(f\"Model on device: \\n{next(loaded_model_1.parameters()).device}\")"
   ]
  },
  {
   "cell_type": "code",
   "execution_count": 25,
   "id": "5d7c2b4d",
   "metadata": {},
   "outputs": [
    {
     "data": {
      "text/plain": [
       "tensor([[True],\n",
       "        [True],\n",
       "        [True],\n",
       "        [True],\n",
       "        [True],\n",
       "        [True],\n",
       "        [True],\n",
       "        [True],\n",
       "        [True],\n",
       "        [True],\n",
       "        [True],\n",
       "        [True]], device='mps:0')"
      ]
     },
     "execution_count": 25,
     "metadata": {},
     "output_type": "execute_result"
    },
    {
     "data": {
      "image/png": "[encoded data removed]",
      "text/plain": [
       "<Figure size 1000x700 with 1 Axes>"
      ]
     },
     "metadata": {},
     "output_type": "display_data"
    }
   ],
   "source": [
    "# Evaluate loaded model\n",
    "loaded_model_1.eval()\n",
    "with torch.inference_mode():\n",
    "    loaded_model_1_preds = loaded_model_1(X_test)\n",
    "\n",
    "plot_predictions(predictions=loaded_model_1_preds.cpu())\n",
    "y_preds == loaded_model_1_preds"
   ]
  },
  {
   "cell_type": "code",
   "execution_count": null,
   "id": "54ca3379",
   "metadata": {},
   "outputs": [],
   "source": []
  }
 ],
 "metadata": {
  "kernelspec": {
   "display_name": "venv_2",
   "language": "python",
   "name": "python3"
  },
  "language_info": {
   "codemirror_mode": {
    "name": "ipython",
    "version": 3
   },
   "file_extension": ".py",
   "mimetype": "text/x-python",
   "name": "python",
   "nbconvert_exporter": "python",
   "pygments_lexer": "ipython3",
   "version": "3.10.18"
  }
 },
 "nbformat": 4,
 "nbformat_minor": 5
}
