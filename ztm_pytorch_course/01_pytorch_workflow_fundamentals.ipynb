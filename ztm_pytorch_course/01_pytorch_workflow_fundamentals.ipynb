{
 "cells": [
  {
   "cell_type": "markdown",
   "id": "0618382b",
   "metadata": {},
   "source": [
    "# 01. Pytorch Workflow Fundamentals"
   ]
  },
  {
   "cell_type": "markdown",
   "id": "ffac4914",
   "metadata": {},
   "source": [
    "![Pytorch Workflow](./assets/01_a_pytorch_workflow.png)"
   ]
  },
  {
   "cell_type": "code",
   "execution_count": 1,
   "id": "a364a4ab",
   "metadata": {},
   "outputs": [
    {
     "data": {
      "text/plain": [
       "'2.8.0'"
      ]
     },
     "execution_count": 1,
     "metadata": {},
     "output_type": "execute_result"
    }
   ],
   "source": [
    "import torch\n",
    "from torch import nn\n",
    "import matplotlib.pyplot as plt\n",
    "\n",
    "torch.__version__"
   ]
  },
  {
   "cell_type": "markdown",
   "id": "3dc4fb51",
   "metadata": {},
   "source": [
    "## 1. Data (preparing and loading)"
   ]
  },
  {
   "cell_type": "markdown",
   "id": "60eaab07",
   "metadata": {},
   "source": [
    "![Data Preprocessing](./assets/01_data_preapring_and_loading.png)"
   ]
  },
  {
   "cell_type": "markdown",
   "id": "75ee20d8",
   "metadata": {},
   "source": [
    "Two Parts : \n",
    "1. Turn your data, whatever it is, into numbers (a representation)\n",
    "2. Pick or build a model to learn the representation as best as possible."
   ]
  },
  {
   "cell_type": "markdown",
   "id": "3d9da59e",
   "metadata": {},
   "source": [
    "known parameters: things that can be learned by a model"
   ]
  },
  {
   "cell_type": "code",
   "execution_count": 18,
   "id": "5e99be3a",
   "metadata": {},
   "outputs": [
    {
     "name": "stdout",
     "output_type": "stream",
     "text": [
      "tensor([[0.0000],\n",
      "        [0.0200],\n",
      "        [0.0400],\n",
      "        [0.0600],\n",
      "        [0.0800],\n",
      "        [0.1000],\n",
      "        [0.1200],\n",
      "        [0.1400],\n",
      "        [0.1600],\n",
      "        [0.1800]]) \n",
      " tensor([[0.3000],\n",
      "        [0.3140],\n",
      "        [0.3280],\n",
      "        [0.3420],\n",
      "        [0.3560],\n",
      "        [0.3700],\n",
      "        [0.3840],\n",
      "        [0.3980],\n",
      "        [0.4120],\n",
      "        [0.4260]])\n"
     ]
    }
   ],
   "source": [
    "# let's create some data\n",
    "\n",
    "# creating known parameters\n",
    "weight = 0.7\n",
    "bias = 0.3\n",
    "\n",
    "# creating data\n",
    "start = 0\n",
    "end = 1\n",
    "step = 0.02\n",
    "\n",
    "X = torch.arange(start, end, step).unsqueeze(dim=1)\n",
    "y = weight*X + bias\n",
    "\n",
    "print(X[:10], \"\\n\", y[:10])"
   ]
  },
  {
   "cell_type": "markdown",
   "id": "1e75bd8d",
   "metadata": {},
   "source": [
    "Now we are going to build a model that can learn the relationship between X (features) and y (labels)"
   ]
  },
  {
   "cell_type": "markdown",
   "id": "32c8a3e4",
   "metadata": {},
   "source": [
    "### Split data into training and test sets\n",
    "\n",
    "\n",
    "- | Split          | Total Data | \n",
    "- | Training set   - 60-80%     |\n",
    "- | Validation Set -  10-20%     |\n",
    "- | Testing Set    -  10-20%     |"
   ]
  },
  {
   "cell_type": "code",
   "execution_count": 19,
   "id": "0f1e4164",
   "metadata": {},
   "outputs": [
    {
     "name": "stdout",
     "output_type": "stream",
     "text": [
      "40 40 10 10\n"
     ]
    }
   ],
   "source": [
    "# creating the training and testing splits\n",
    "train_split = int(0.8 * len(X))\n",
    "X_train, y_train = X[:train_split], y[:train_split]\n",
    "X_test, y_test = X[train_split:], y[train_split:]\n",
    "\n",
    "print(len(X_train), len(y_train), len(X_test), len(y_test))"
   ]
  },
  {
   "cell_type": "markdown",
   "id": "881f2609",
   "metadata": {},
   "source": [
    "But right now our data is just numbers on a page.\n",
    "\n",
    "Let's create a function to visualize it.\n",
    "\n"
   ]
  },
  {
   "cell_type": "code",
   "execution_count": 20,
   "id": "44054f35",
   "metadata": {},
   "outputs": [],
   "source": [
    "def plot_predictions(train_data=X_train,\n",
    "                    train_label=y_train,\n",
    "                    test_data = X_test,\n",
    "                    test_label = y_test,\n",
    "                    predictions = None):\n",
    "    \n",
    "    \"\"\"Plots training data, test data and compares predictions\"\"\"\n",
    "    plt.figure(figsize=(5,5))\n",
    "    plt.scatter(train_data, train_label, c='b', s=4, label='Training Data')\n",
    "    plt.scatter(test_data, test_label, c='g', s=4, label='Testing Data')\n",
    "    if predictions is not None:\n",
    "        plt.scatter(test_data, predictions, c='r', s=4, label=\"Predictions\")\n",
    "    # Show the legend\n",
    "    plt.legend(prop={\"size\": 10})"
   ]
  },
  {
   "cell_type": "code",
   "execution_count": 21,
   "id": "be035857",
   "metadata": {},
   "outputs": [
    {
     "data": {
      "image/png": "[encoded data removed]",
      "text/plain": [
       "<Figure size 500x500 with 1 Axes>"
      ]
     },
     "metadata": {},
     "output_type": "display_data"
    }
   ],
   "source": [
    "plot_predictions()"
   ]
  },
  {
   "cell_type": "markdown",
   "id": "586e11b2",
   "metadata": {},
   "source": [
    "## 2. Build Model"
   ]
  },
  {
   "cell_type": "markdown",
   "id": "0fa3d44b",
   "metadata": {},
   "source": [
    "![Pytorch Model building Essentials](./assets/01_model_building_essentials.png)"
   ]
  },
  {
   "cell_type": "markdown",
   "id": "a97d9b8f",
   "metadata": {},
   "source": [
    "- nn.Module contains the larger building blocks (layers)\n",
    "- nn.Parameter contains the smaller parameters like weights and biases (put these together to make nn.Module(s))\n",
    "- forward() tells the larger blocks how to make calculations on inputs (tensors full of data) within nn.Module(s)\n",
    "- torch.optim contains optimization methods on how to improve the parameters within nn.Parameter to better represent input data\n"
   ]
  },
  {
   "cell_type": "code",
   "execution_count": 27,
   "id": "4725220a",
   "metadata": {},
   "outputs": [],
   "source": [
    "class LinearRegressionModel(nn.Module):\n",
    "    def __init__(self):\n",
    "        super().__init__()\n",
    "        self.weights = nn.Parameter(torch.randn(1, dtype=torch.float), requires_grad=True)\n",
    "        self.bias = nn.Parameter(torch.randn(1, dtype=torch.float), requires_grad=True)\n",
    "\n",
    "    def forward(self, x: torch.Tensor) -> torch.Tensor :\n",
    "        return self.weights*x + self.bias"
   ]
  },
  {
   "cell_type": "markdown",
   "id": "d76e4472",
   "metadata": {},
   "source": [
    "![Model in Depth](./assets/01-pytorch-linear-model-annotated.png)"
   ]
  },
  {
   "cell_type": "code",
   "execution_count": 28,
   "id": "34299d64",
   "metadata": {},
   "outputs": [
    {
     "data": {
      "text/plain": [
       "[Parameter containing:\n",
       " tensor([0.3367], requires_grad=True),\n",
       " Parameter containing:\n",
       " tensor([0.1288], requires_grad=True)]"
      ]
     },
     "execution_count": 28,
     "metadata": {},
     "output_type": "execute_result"
    }
   ],
   "source": [
    "torch.manual_seed(42)\n",
    "\n",
    "# Creating an instance of the model (which is a subclass of nn.Module that contains nn.Parameters)\n",
    "model_0 = LinearRegressionModel()\n",
    "\n",
    "# Check the nn.Parameters within the nn.Module subclass we created\n",
    "list(model_0.parameters())"
   ]
  },
  {
   "cell_type": "code",
   "execution_count": 29,
   "id": "6d45fc16",
   "metadata": {},
   "outputs": [
    {
     "data": {
      "text/plain": [
       "OrderedDict([('weights', tensor([0.3367])), ('bias', tensor([0.1288]))])"
      ]
     },
     "execution_count": 29,
     "metadata": {},
     "output_type": "execute_result"
    }
   ],
   "source": [
    "# We can also the get the `state` i.e. what the model contains using `.state_dict()`\n",
    "model_0.state_dict()"
   ]
  },
  {
   "cell_type": "markdown",
   "id": "131151f5",
   "metadata": {},
   "source": [
    "### Making predictions using `torch.inference_mode()`"
   ]
  },
  {
   "cell_type": "code",
   "execution_count": 32,
   "id": "966d9a92",
   "metadata": {},
   "outputs": [],
   "source": [
    "# Make predictions with model\n",
    "with torch.inference_mode():\n",
    "    y_preds = model_0(X_test)\n",
    "\n",
    "# \"\"\"\n",
    "# Or using this : \n",
    "# with torch.no_grad():\n",
    "#     y_preds = model_0(X_test)\n",
    "# \"\"\""
   ]
  },
  {
   "cell_type": "markdown",
   "id": "aaf045b6",
   "metadata": {},
   "source": [
    "We have used `torch.inference_mode()` as [`context manager`](https://realpython.com/python-with-statement/)\n",
    "\n",
    "- As the name suggests, torch.inference_mode() is used when using a model for inference (making predictions).\n",
    "\n",
    "- torch.inference_mode() turns off a bunch of things (like gradient tracking, which is necessary for training but not for inference) to make forward-passes (data going through the forward() method) faster."
   ]
  },
  {
   "cell_type": "code",
   "execution_count": 33,
   "id": "cced24a5",
   "metadata": {},
   "outputs": [
    {
     "name": "stdout",
     "output_type": "stream",
     "text": [
      "Number of Testing samples: 10\n",
      "Number of predictions made: 10\n",
      "Predicted Values: \n",
      "tensor([[0.3982],\n",
      "        [0.4049],\n",
      "        [0.4116],\n",
      "        [0.4184],\n",
      "        [0.4251],\n",
      "        [0.4318],\n",
      "        [0.4386],\n",
      "        [0.4453],\n",
      "        [0.4520],\n",
      "        [0.4588]])\n"
     ]
    }
   ],
   "source": [
    "# Check the predictions\n",
    "print(f\"Number of Testing samples: {len(X_test)}\")\n",
    "print(f\"Number of predictions made: {len(y_preds)}\")\n",
    "print(f\"Predicted Values: \\n{y_preds}\")"
   ]
  },
  {
   "cell_type": "code",
   "execution_count": 34,
   "id": "0e00faed",
   "metadata": {},
   "outputs": [
    {
     "data": {
      "image/png": "[encoded data removed]",
      "text/plain": [
       "<Figure size 500x500 with 1 Axes>"
      ]
     },
     "metadata": {},
     "output_type": "display_data"
    }
   ],
   "source": [
    "plot_predictions(predictions=y_preds)"
   ]
  },
  {
   "cell_type": "code",
   "execution_count": 35,
   "id": "5af5ebc4",
   "metadata": {},
   "outputs": [
    {
     "data": {
      "text/plain": [
       "tensor([[0.4618],\n",
       "        [0.4691],\n",
       "        [0.4764],\n",
       "        [0.4836],\n",
       "        [0.4909],\n",
       "        [0.4982],\n",
       "        [0.5054],\n",
       "        [0.5127],\n",
       "        [0.5200],\n",
       "        [0.5272]])"
      ]
     },
     "execution_count": 35,
     "metadata": {},
     "output_type": "execute_result"
    }
   ],
   "source": [
    "y_test - y_preds"
   ]
  },
  {
   "cell_type": "markdown",
   "id": "5bddb61a",
   "metadata": {},
   "source": [
    "## 3. Train Model"
   ]
  },
  {
   "cell_type": "markdown",
   "id": "8180e504",
   "metadata": {},
   "source": []
  }
 ],
 "metadata": {
  "kernelspec": {
   "display_name": "venv_2",
   "language": "python",
   "name": "python3"
  },
  "language_info": {
   "codemirror_mode": {
    "name": "ipython",
    "version": 3
   },
   "file_extension": ".py",
   "mimetype": "text/x-python",
   "name": "python",
   "nbconvert_exporter": "python",
   "pygments_lexer": "ipython3",
   "version": "3.10.18"
  }
 },
 "nbformat": 4,
 "nbformat_minor": 5
}
