{
 "cells": [
  {
   "cell_type": "markdown",
   "id": "0618382b",
   "metadata": {},
   "source": [
    "# 01. Pytorch Workflow Fundamentals"
   ]
  },
  {
   "cell_type": "markdown",
   "id": "ffac4914",
   "metadata": {},
   "source": [
    "![Pytorch Workflow](./assets/01_a_pytorch_workflow.png)"
   ]
  },
  {
   "cell_type": "code",
   "execution_count": 1,
   "id": "a364a4ab",
   "metadata": {},
   "outputs": [
    {
     "data": {
      "text/plain": [
       "'2.8.0'"
      ]
     },
     "execution_count": 1,
     "metadata": {},
     "output_type": "execute_result"
    }
   ],
   "source": [
    "import torch\n",
    "from torch import nn\n",
    "import matplotlib.pyplot as plt\n",
    "\n",
    "torch.__version__"
   ]
  },
  {
   "cell_type": "markdown",
   "id": "3dc4fb51",
   "metadata": {},
   "source": [
    "## 1. Data (preparing and loading)"
   ]
  },
  {
   "cell_type": "markdown",
   "id": "60eaab07",
   "metadata": {},
   "source": [
    "![Data Preprocessing](./assets/01_data_preapring_and_loading.png)"
   ]
  },
  {
   "cell_type": "markdown",
   "id": "75ee20d8",
   "metadata": {},
   "source": [
    "Two Parts : \n",
    "1. Turn your data, whatever it is, into numbers (a representation)\n",
    "2. Pick or build a model to learn the representation as best as possible."
   ]
  },
  {
   "cell_type": "markdown",
   "id": "3d9da59e",
   "metadata": {},
   "source": [
    "known parameters: things that can be learned by a model"
   ]
  },
  {
   "cell_type": "code",
   "execution_count": 2,
   "id": "5e99be3a",
   "metadata": {},
   "outputs": [
    {
     "name": "stdout",
     "output_type": "stream",
     "text": [
      "tensor([[0.0000],\n",
      "        [0.0200],\n",
      "        [0.0400],\n",
      "        [0.0600],\n",
      "        [0.0800],\n",
      "        [0.1000],\n",
      "        [0.1200],\n",
      "        [0.1400],\n",
      "        [0.1600],\n",
      "        [0.1800]]) \n",
      " tensor([[0.3000],\n",
      "        [0.3140],\n",
      "        [0.3280],\n",
      "        [0.3420],\n",
      "        [0.3560],\n",
      "        [0.3700],\n",
      "        [0.3840],\n",
      "        [0.3980],\n",
      "        [0.4120],\n",
      "        [0.4260]])\n"
     ]
    }
   ],
   "source": [
    "# let's create some data\n",
    "\n",
    "# creating known parameters\n",
    "weight = 0.7\n",
    "bias = 0.3\n",
    "\n",
    "# creating data\n",
    "start = 0\n",
    "end = 1\n",
    "step = 0.02\n",
    "\n",
    "X = torch.arange(start, end, step).unsqueeze(dim=1)\n",
    "y = weight*X + bias\n",
    "\n",
    "print(X[:10], \"\\n\", y[:10])"
   ]
  },
  {
   "cell_type": "markdown",
   "id": "1e75bd8d",
   "metadata": {},
   "source": [
    "Now we are going to build a model that can learn the relationship between X (features) and y (labels)"
   ]
  },
  {
   "cell_type": "markdown",
   "id": "32c8a3e4",
   "metadata": {},
   "source": [
    "### Split data into training and test sets\n",
    "\n",
    "\n",
    "| Split          | Total Data | \n",
    "|----------------|-----------|\n",
    "| Training set   |60-80%     |\n",
    "| Validation Set | 10-20%     |\n",
    "| Testing Set    | 10-20%     |"
   ]
  },
  {
   "cell_type": "code",
   "execution_count": 3,
   "id": "0f1e4164",
   "metadata": {},
   "outputs": [
    {
     "name": "stdout",
     "output_type": "stream",
     "text": [
      "40 40 10 10\n"
     ]
    }
   ],
   "source": [
    "# creating the training and testing splits\n",
    "train_split = int(0.8 * len(X))\n",
    "X_train, y_train = X[:train_split], y[:train_split]\n",
    "X_test, y_test = X[train_split:], y[train_split:]\n",
    "\n",
    "print(len(X_train), len(y_train), len(X_test), len(y_test))"
   ]
  },
  {
   "cell_type": "markdown",
   "id": "881f2609",
   "metadata": {},
   "source": [
    "But right now our data is just numbers on a page.\n",
    "\n",
    "Let's create a function to visualize it.\n",
    "\n"
   ]
  },
  {
   "cell_type": "code",
   "execution_count": 4,
   "id": "44054f35",
   "metadata": {},
   "outputs": [],
   "source": [
    "def plot_predictions(train_data=X_train,\n",
    "                    train_label=y_train,\n",
    "                    test_data = X_test,\n",
    "                    test_label = y_test,\n",
    "                    predictions = None):\n",
    "    \n",
    "    \"\"\"Plots training data, test data and compares predictions\"\"\"\n",
    "    plt.figure(figsize=(5,5))\n",
    "    plt.scatter(train_data, train_label, c='b', s=4, label='Training Data')\n",
    "    plt.scatter(test_data, test_label, c='g', s=4, label='Testing Data')\n",
    "    if predictions is not None:\n",
    "        plt.scatter(test_data, predictions, c='r', s=4, label=\"Predictions\")\n",
    "    # Show the legend\n",
    "    plt.legend(prop={\"size\": 10})"
   ]
  },
  {
   "cell_type": "code",
   "execution_count": 5,
   "id": "be035857",
   "metadata": {},
   "outputs": [
    {
     "data": {
      "image/png": "[encoded data removed]",
      "text/plain": [
       "<Figure size 500x500 with 1 Axes>"
      ]
     },
     "metadata": {},
     "output_type": "display_data"
    }
   ],
   "source": [
    "plot_predictions()"
   ]
  },
  {
   "cell_type": "markdown",
   "id": "586e11b2",
   "metadata": {},
   "source": [
    "## 2. Build Model"
   ]
  },
  {
   "cell_type": "markdown",
   "id": "0fa3d44b",
   "metadata": {},
   "source": [
    "![Pytorch Model building Essentials](./assets/01_model_building_essentials.png)"
   ]
  },
  {
   "cell_type": "markdown",
   "id": "a97d9b8f",
   "metadata": {},
   "source": [
    "- nn.Module contains the larger building blocks (layers)\n",
    "- nn.Parameter contains the smaller parameters like weights and biases (put these together to make nn.Module(s))\n",
    "- forward() tells the larger blocks how to make calculations on inputs (tensors full of data) within nn.Module(s)\n",
    "- torch.optim contains optimization methods on how to improve the parameters within nn.Parameter to better represent input data\n"
   ]
  },
  {
   "cell_type": "code",
   "execution_count": 6,
   "id": "4725220a",
   "metadata": {},
   "outputs": [],
   "source": [
    "class LinearRegressionModel(nn.Module):\n",
    "    def __init__(self):\n",
    "        super().__init__()\n",
    "        self.weights = nn.Parameter(torch.randn(1, dtype=torch.float), requires_grad=True)\n",
    "        self.bias = nn.Parameter(torch.randn(1, dtype=torch.float), requires_grad=True)\n",
    "\n",
    "    def forward(self, x: torch.Tensor) -> torch.Tensor :\n",
    "        return self.weights*x + self.bias"
   ]
  },
  {
   "cell_type": "markdown",
   "id": "d76e4472",
   "metadata": {},
   "source": [
    "![Model in Depth](./assets/01-pytorch-linear-model-annotated.png)"
   ]
  },
  {
   "cell_type": "code",
   "execution_count": 7,
   "id": "34299d64",
   "metadata": {},
   "outputs": [
    {
     "data": {
      "text/plain": [
       "[Parameter containing:\n",
       " tensor([0.3367], requires_grad=True),\n",
       " Parameter containing:\n",
       " tensor([0.1288], requires_grad=True)]"
      ]
     },
     "execution_count": 7,
     "metadata": {},
     "output_type": "execute_result"
    }
   ],
   "source": [
    "torch.manual_seed(42)\n",
    "\n",
    "# Creating an instance of the model (which is a subclass of nn.Module that contains nn.Parameters)\n",
    "model_0 = LinearRegressionModel()\n",
    "\n",
    "# Check the nn.Parameters within the nn.Module subclass we created\n",
    "list(model_0.parameters())"
   ]
  },
  {
   "cell_type": "code",
   "execution_count": 8,
   "id": "6d45fc16",
   "metadata": {},
   "outputs": [
    {
     "data": {
      "text/plain": [
       "OrderedDict([('weights', tensor([0.3367])), ('bias', tensor([0.1288]))])"
      ]
     },
     "execution_count": 8,
     "metadata": {},
     "output_type": "execute_result"
    }
   ],
   "source": [
    "# We can also the get the `state` i.e. what the model contains using `.state_dict()`\n",
    "model_0.state_dict()"
   ]
  },
  {
   "cell_type": "markdown",
   "id": "131151f5",
   "metadata": {},
   "source": [
    "### Making predictions using `torch.inference_mode()`"
   ]
  },
  {
   "cell_type": "code",
   "execution_count": 9,
   "id": "966d9a92",
   "metadata": {},
   "outputs": [],
   "source": [
    "# Make predictions with model\n",
    "with torch.inference_mode():\n",
    "    y_preds = model_0(X_test)\n",
    "\n",
    "# \"\"\"\n",
    "# Or using this : \n",
    "# with torch.no_grad():\n",
    "#     y_preds = model_0(X_test)\n",
    "# \"\"\""
   ]
  },
  {
   "cell_type": "markdown",
   "id": "aaf045b6",
   "metadata": {},
   "source": [
    "We have used `torch.inference_mode()` as [`context manager`](https://realpython.com/python-with-statement/)\n",
    "\n",
    "- As the name suggests, torch.inference_mode() is used when using a model for inference (making predictions).\n",
    "\n",
    "- torch.inference_mode() turns off a bunch of things (like gradient tracking, which is necessary for training but not for inference) to make forward-passes (data going through the forward() method) faster."
   ]
  },
  {
   "cell_type": "code",
   "execution_count": 10,
   "id": "cced24a5",
   "metadata": {},
   "outputs": [
    {
     "name": "stdout",
     "output_type": "stream",
     "text": [
      "Number of Testing samples: 10\n",
      "Number of predictions made: 10\n",
      "Predicted Values: \n",
      "tensor([[0.3982],\n",
      "        [0.4049],\n",
      "        [0.4116],\n",
      "        [0.4184],\n",
      "        [0.4251],\n",
      "        [0.4318],\n",
      "        [0.4386],\n",
      "        [0.4453],\n",
      "        [0.4520],\n",
      "        [0.4588]])\n"
     ]
    }
   ],
   "source": [
    "# Check the predictions\n",
    "print(f\"Number of Testing samples: {len(X_test)}\")\n",
    "print(f\"Number of predictions made: {len(y_preds)}\")\n",
    "print(f\"Predicted Values: \\n{y_preds}\")"
   ]
  },
  {
   "cell_type": "code",
   "execution_count": 11,
   "id": "0e00faed",
   "metadata": {},
   "outputs": [
    {
     "data": {
      "image/png": "[encoded data removed]",
      "text/plain": [
       "<Figure size 500x500 with 1 Axes>"
      ]
     },
     "metadata": {},
     "output_type": "display_data"
    }
   ],
   "source": [
    "plot_predictions(predictions=y_preds)"
   ]
  },
  {
   "cell_type": "code",
   "execution_count": 12,
   "id": "5af5ebc4",
   "metadata": {},
   "outputs": [
    {
     "data": {
      "text/plain": [
       "tensor([[0.4618],\n",
       "        [0.4691],\n",
       "        [0.4764],\n",
       "        [0.4836],\n",
       "        [0.4909],\n",
       "        [0.4982],\n",
       "        [0.5054],\n",
       "        [0.5127],\n",
       "        [0.5200],\n",
       "        [0.5272]])"
      ]
     },
     "execution_count": 12,
     "metadata": {},
     "output_type": "execute_result"
    }
   ],
   "source": [
    "y_test - y_preds"
   ]
  },
  {
   "cell_type": "markdown",
   "id": "5bddb61a",
   "metadata": {},
   "source": [
    "## 3. Train Model"
   ]
  },
  {
   "cell_type": "markdown",
   "id": "8180e504",
   "metadata": {},
   "source": [
    "### Creating a Loss function and optimizer in Pytorch\n",
    "\n",
    "For our model to update its parameters on its own, we'll need to add a few more things to our recipe.\n",
    "\n",
    "And that's a loss function as well as an optimizer.\n",
    "\n",
    "![Loss Function and Optimizer](./assets/01_loss_function_and_optimizer_table.png)\n"
   ]
  },
  {
   "cell_type": "markdown",
   "id": "47471745",
   "metadata": {},
   "source": [
    "We will use MAE as our Loss function and we'll use SGD, torch.optim.SGD(params, lr) where:\n",
    "\n",
    "- `params` is the target model parameters you'd like to optimize (e.g. the weights and bias values we randomly set before).\n",
    "\n",
    "- `lr` is the learning rate you'd like the optimizer to update the parameters at, higher means the optimizer will try larger updates (these can sometimes be too large and the optimizer will fail to work), lower means the optimizer will try smaller updates (these can sometimes be too small and the optimizer will take too long to find the ideal values). The learning rate is considered a hyperparameter (because it's set by a machine learning engineer). Common starting values for the learning rate are 0.01, 0.001, 0.0001, however, these can also be adjusted over time (this is called learning rate scheduling).\n"
   ]
  },
  {
   "cell_type": "code",
   "execution_count": 13,
   "id": "729a8701",
   "metadata": {},
   "outputs": [],
   "source": [
    "# creating the loss function\n",
    "loss_fn = nn.L1Loss()       # MAE loss is same as L1Loss\n",
    "\n",
    "# creating the optimizer\n",
    "optimizer = torch.optim.SGD(params = model_0.parameters(), # parameters of the target model to optimize\n",
    "                        lr=0.01)\n",
    "\n"
   ]
  },
  {
   "cell_type": "markdown",
   "id": "fbb96c47",
   "metadata": {},
   "source": [
    "### Creating an Optimization Loop in Pytorch\n",
    "\n",
    "- The training loop involves the model going through the training data and learning the relationships between the features and labels.\n",
    "\n",
    "- The testing loop involves going through the testing data and evaluating how good the patterns are that the model learned on the training data (the model never sees the testing data during training).\n",
    "\n",
    "![Optimization Loop Song](./assets/01-pytorch-optimization-loop-song.png)"
   ]
  },
  {
   "cell_type": "markdown",
   "id": "3ffceaa5",
   "metadata": {},
   "source": [
    "### Pytorch Training Loop\n",
    "\n",
    "![Pytorch Training Loop](./assets/01_pytorch_training_loop.png)\n",
    "\n",
    "![Pytorch Training Loop](./assets/01-pytorch-training-loop-annotated.png)"
   ]
  },
  {
   "cell_type": "markdown",
   "id": "52b65643",
   "metadata": {},
   "source": [
    "And on the ordering of things, the above is a good default order but you may see slightly different orders. Some rules of thumb:\n",
    "\n",
    "- Calculate the loss (loss = ...) before performing backpropagation on it (loss.backward()).\n",
    "\n",
    "- Zero gradients (optimizer.zero_grad()) before computing the gradients of the loss with respect to every model parameter (loss.backward()).\n",
    "\n",
    "- Step the optimizer (optimizer.step()) after performing backpropagation on the loss (loss.backward()).\n"
   ]
  },
  {
   "cell_type": "markdown",
   "id": "0cce06a8",
   "metadata": {},
   "source": [
    "### Pytorch Testing Loop\n",
    "\n",
    "![Pytorch Testing Loop Table](./assets/01_pytorch_testing_loop_table.png)\n",
    "\n",
    "![Pytorch Testing Loop Image](./assets/01-pytorch-testing-loop-annotated.png)"
   ]
  },
  {
   "cell_type": "code",
   "execution_count": 14,
   "id": "489fdb27",
   "metadata": {},
   "outputs": [
    {
     "name": "stdout",
     "output_type": "stream",
     "text": [
      "Epoch: 0 | MAE Train Loss: 0.31288135051727295 | MAE Test Loss: 0.48106518387794495\n",
      "Epoch: 10 | MAE Train Loss: 0.1976713389158249 | MAE Test Loss: 0.3463551998138428\n",
      "Epoch: 20 | MAE Train Loss: 0.08908725529909134 | MAE Test Loss: 0.2172965705394745\n",
      "Epoch: 30 | MAE Train Loss: 0.053148530423641205 | MAE Test Loss: 0.14464019238948822\n",
      "Epoch: 40 | MAE Train Loss: 0.04543796554207802 | MAE Test Loss: 0.11360953748226166\n",
      "Epoch: 50 | MAE Train Loss: 0.04167863354086876 | MAE Test Loss: 0.09919948130846024\n",
      "Epoch: 60 | MAE Train Loss: 0.03818932920694351 | MAE Test Loss: 0.08886633813381195\n",
      "Epoch: 70 | MAE Train Loss: 0.03476089984178543 | MAE Test Loss: 0.0805937722325325\n",
      "Epoch: 80 | MAE Train Loss: 0.03132382780313492 | MAE Test Loss: 0.07232122868299484\n",
      "Epoch: 90 | MAE Train Loss: 0.027887403964996338 | MAE Test Loss: 0.06473556160926819\n",
      "Epoch: 100 | MAE Train Loss: 0.024458955973386765 | MAE Test Loss: 0.056463055312633514\n",
      "Epoch: 110 | MAE Train Loss: 0.021020209416747093 | MAE Test Loss: 0.04819049686193466\n",
      "Epoch: 120 | MAE Train Loss: 0.01758546754717827 | MAE Test Loss: 0.04060482233762741\n",
      "Epoch: 130 | MAE Train Loss: 0.014155390672385693 | MAE Test Loss: 0.03233228251338005\n",
      "Epoch: 140 | MAE Train Loss: 0.010716589167714119 | MAE Test Loss: 0.024059753865003586\n",
      "Epoch: 150 | MAE Train Loss: 0.0072835348546504974 | MAE Test Loss: 0.016474086791276932\n",
      "Epoch: 160 | MAE Train Loss: 0.003851778106763959 | MAE Test Loss: 0.008201557211577892\n",
      "Epoch: 170 | MAE Train Loss: 0.00893248151987791 | MAE Test Loss: 0.005023092031478882\n",
      "Epoch: 180 | MAE Train Loss: 0.00893248151987791 | MAE Test Loss: 0.005023092031478882\n",
      "Epoch: 190 | MAE Train Loss: 0.00893248151987791 | MAE Test Loss: 0.005023092031478882\n"
     ]
    }
   ],
   "source": [
    "torch.manual_seed(42)\n",
    "epochs = 200\n",
    "\n",
    "# create empty loss lists to track values\n",
    "train_loss_values = []\n",
    "test_loss_values = []\n",
    "epoch_count = []\n",
    "\n",
    "for epoch in range(epochs):\n",
    "    # Put the model in training mode\n",
    "    model_0.train()\n",
    "    y_pred = model_0(X_train)\n",
    "    loss = loss_fn(y_pred, y_train)\n",
    "    optimizer.zero_grad()\n",
    "    loss.backward()\n",
    "    optimizer.step()\n",
    "\n",
    "    # Test the new model for every epoch\n",
    "    # Put the model in evaluation mode\n",
    "    model_0.eval()\n",
    "    with torch.inference_mode():\n",
    "        test_pred = model_0(X_test)\n",
    "        # Predictions come in torch.float datatype, so comparisons need to be done with tensors of the same type\n",
    "        test_loss = loss_fn(test_pred, y_test.type(torch.float))\n",
    "\n",
    "        # Print out what's happening\n",
    "        if epoch % 10 == 0:\n",
    "            epoch_count.append(epoch)\n",
    "            train_loss_values.append(loss.detach().numpy())\n",
    "            test_loss_values.append(test_loss.detach().numpy())\n",
    "            print(f\"Epoch: {epoch} | MAE Train Loss: {loss} | MAE Test Loss: {test_loss}\")\n",
    "\n"
   ]
  },
  {
   "cell_type": "code",
   "execution_count": 15,
   "id": "96722e5c",
   "metadata": {},
   "outputs": [
    {
     "data": {
      "image/png": "[encoded data removed]",
      "text/plain": [
       "<Figure size 640x480 with 1 Axes>"
      ]
     },
     "metadata": {},
     "output_type": "display_data"
    }
   ],
   "source": [
    "# PLot the loss curves\n",
    "plt.plot(epoch_count, train_loss_values, label=\"Train_loss\")\n",
    "plt.plot(epoch_count, test_loss_values, label=\"Test Loss\")\n",
    "plt.title(\"Training and test lost curves\")\n",
    "plt.ylabel(\"Loss\")\n",
    "plt.xlabel(\"Epochs\")\n",
    "plt.legend();"
   ]
  },
  {
   "cell_type": "code",
   "execution_count": 16,
   "id": "a92d810b",
   "metadata": {},
   "outputs": [
    {
     "name": "stdout",
     "output_type": "stream",
     "text": [
      "OrderedDict([('weights', tensor([0.6990])), ('bias', tensor([0.3093]))])\n"
     ]
    }
   ],
   "source": [
    "print(model_0.state_dict())"
   ]
  },
  {
   "cell_type": "markdown",
   "id": "264e97d9",
   "metadata": {},
   "source": [
    "## 4. Making Predictions with a trained pytorch model (inference)"
   ]
  },
  {
   "cell_type": "markdown",
   "id": "43dddbab",
   "metadata": {},
   "source": [
    "There are three things to remember when making predictions (also called performing inference) with a PyTorch model:\n",
    "\n",
    "- Set the model in evaluation mode (model.eval()).\n",
    "\n",
    "- Make the predictions using the inference mode context manager (with torch.inference_mode(): ...).\n",
    "\n",
    "- All predictions should be made with objects on the same device (e.g. data and model on GPU only or data and model on CPU only).\n"
   ]
  },
  {
   "cell_type": "code",
   "execution_count": 17,
   "id": "36ca0096",
   "metadata": {},
   "outputs": [
    {
     "data": {
      "text/plain": [
       "tensor([[0.8685],\n",
       "        [0.8825],\n",
       "        [0.8965],\n",
       "        [0.9105],\n",
       "        [0.9245],\n",
       "        [0.9384],\n",
       "        [0.9524],\n",
       "        [0.9664],\n",
       "        [0.9804],\n",
       "        [0.9944]])"
      ]
     },
     "execution_count": 17,
     "metadata": {},
     "output_type": "execute_result"
    }
   ],
   "source": [
    "model_0.eval()\n",
    "with torch.inference_mode():\n",
    "    y_preds = model_0(X_test)\n",
    "y_preds"
   ]
  },
  {
   "cell_type": "code",
   "execution_count": 18,
   "id": "7658284f",
   "metadata": {},
   "outputs": [
    {
     "data": {
      "image/png": "[encoded data removed]",
      "text/plain": [
       "<Figure size 500x500 with 1 Axes>"
      ]
     },
     "metadata": {},
     "output_type": "display_data"
    }
   ],
   "source": [
    "plot_predictions(predictions=y_preds)"
   ]
  },
  {
   "cell_type": "markdown",
   "id": "f1591a7b",
   "metadata": {},
   "source": [
    "## 5. Saving and Loading a Pytorch Model\n",
    "\n",
    "![Pytorch saving and loading models guide](./assets/01_pytorch_saving_and_loading_model_guides.png)"
   ]
  },
  {
   "cell_type": "markdown",
   "id": "658cbb75",
   "metadata": {},
   "source": [
    "### Saving a Pytorch Model's State Dict\n",
    "\n",
    "The recommended way for saving and loading a model for inference (making predictions) is by saving and loading a model's state_dict().\n",
    "\n",
    "Let's see how we can do that in a few steps:\n",
    "\n",
    "- We'll create a directory for saving models to called models using Python's pathlib module.\n",
    "\n",
    "- We'll create a file path to save the model to.\n",
    "\n",
    "- We'll call `torch.save(obj, f)` where obj is the target model's state_dict() and f is the filename of where to save the model.\n"
   ]
  },
  {
   "cell_type": "code",
   "execution_count": 19,
   "id": "93809272",
   "metadata": {},
   "outputs": [
    {
     "name": "stdout",
     "output_type": "stream",
     "text": [
      "Saving Model to: models/01_pytorch_workflow_model_0.pth\n"
     ]
    }
   ],
   "source": [
    "from pathlib import Path\n",
    "\n",
    "# 1. creating the models directory\n",
    "MODEL_PATH = Path(\"models\")\n",
    "MODEL_PATH.mkdir(parents=True, exist_ok=True)\n",
    "\n",
    "# create model save path\n",
    "MODEL_NAME = \"01_pytorch_workflow_model_0.pth\"\n",
    "MODEL_SAVE_PATH = MODEL_PATH/MODEL_NAME\n",
    "\n",
    "# save the model state dict\n",
    "print(f\"Saving Model to: {MODEL_SAVE_PATH}\")\n",
    "torch.save(obj=model_0.state_dict(), f=MODEL_SAVE_PATH)"
   ]
  },
  {
   "cell_type": "code",
   "execution_count": 20,
   "id": "62643c21",
   "metadata": {},
   "outputs": [
    {
     "name": "stdout",
     "output_type": "stream",
     "text": [
      "total 8\n",
      "-rw-r--r--  1 qbit-glitch  staff  2117 27 Oct 15:20 01_pytorch_workflow_model_0.pth\n"
     ]
    }
   ],
   "source": [
    "# Check the saved file path\n",
    "!ls -l models/\n"
   ]
  },
  {
   "cell_type": "markdown",
   "id": "77f8fe5c",
   "metadata": {},
   "source": [
    "### Loading a saved Pytorch model's `state_dict()`\n",
    "\n",
    "Since we've now got a saved model state_dict() at `models/01_pytorch_workflow_model_0.pth` we can now load it in using `torch.nn.Module.load_state_dict(torch.load(f))` where f is the filepath of our saved model `state_dict()`.\n",
    "\n",
    "**Why call torch.load() inside torch.nn.Module.load_state_dict()?**\n",
    "\n",
    "- Because we only saved the model's state_dict() which is a dictionary of learned parameters and not the entire model, we first have to load the state_dict() with `torch.load()` and then pass that state_dict() to a new instance of our model (which is a subclass of nn.Module).\n",
    "\n"
   ]
  },
  {
   "cell_type": "code",
   "execution_count": 21,
   "id": "e7734b92",
   "metadata": {},
   "outputs": [
    {
     "data": {
      "text/plain": [
       "<All keys matched successfully>"
      ]
     },
     "execution_count": 21,
     "metadata": {},
     "output_type": "execute_result"
    }
   ],
   "source": [
    "# instantiate a new instance of our model (this will be instantiated with random weights)\n",
    "loaded_model_0 = LinearRegressionModel()\n",
    "\n",
    "# Load the state dict of our saved model    (this will update the new instance of our model with trained weights)\n",
    "loaded_model_0.load_state_dict(torch.load(f=MODEL_SAVE_PATH))"
   ]
  },
  {
   "cell_type": "markdown",
   "id": "412393f9",
   "metadata": {},
   "source": [
    "Perform inference with the loaded model"
   ]
  },
  {
   "cell_type": "code",
   "execution_count": 23,
   "id": "6db8c0ed",
   "metadata": {},
   "outputs": [],
   "source": [
    "loaded_model_0.eval()       # put the loaded model in evaluation mode\n",
    "with torch.inference_mode():    # use the inference mode context manager to make predictios\n",
    "    loaded_model_preds = loaded_model_0(X_test)     # perform a forward pass on the test data with the loaded model"
   ]
  },
  {
   "cell_type": "code",
   "execution_count": 24,
   "id": "aaad826c",
   "metadata": {},
   "outputs": [
    {
     "data": {
      "text/plain": [
       "tensor([[True],\n",
       "        [True],\n",
       "        [True],\n",
       "        [True],\n",
       "        [True],\n",
       "        [True],\n",
       "        [True],\n",
       "        [True],\n",
       "        [True],\n",
       "        [True]])"
      ]
     },
     "execution_count": 24,
     "metadata": {},
     "output_type": "execute_result"
    }
   ],
   "source": [
    "# compare previous model predictions with loaded model predictions\n",
    "y_preds == loaded_model_preds"
   ]
  },
  {
   "cell_type": "markdown",
   "id": "31bbc26d",
   "metadata": {},
   "source": [
    "Reference Material: [Loading and Saving Model in Pytorch](https://docs.pytorch.org/tutorials/beginner/saving_loading_models.html#saving-and-loading-models)"
   ]
  },
  {
   "cell_type": "markdown",
   "id": "223720a3",
   "metadata": {},
   "source": []
  }
 ],
 "metadata": {
  "kernelspec": {
   "display_name": "venv_2",
   "language": "python",
   "name": "python3"
  },
  "language_info": {
   "codemirror_mode": {
    "name": "ipython",
    "version": 3
   },
   "file_extension": ".py",
   "mimetype": "text/x-python",
   "name": "python",
   "nbconvert_exporter": "python",
   "pygments_lexer": "ipython3",
   "version": "3.10.18"
  }
 },
 "nbformat": 4,
 "nbformat_minor": 5
}
